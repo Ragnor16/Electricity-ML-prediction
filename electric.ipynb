{
 "cells": [
  {
   "cell_type": "code",
   "execution_count": 91,
   "metadata": {
    "colab": {
     "base_uri": "https://localhost:8080/"
    },
    "executionInfo": {
     "elapsed": 4370,
     "status": "ok",
     "timestamp": 1735627967428,
     "user": {
      "displayName": "Selva Keerthana (SK)",
      "userId": "12348877326798778598"
     },
     "user_tz": -330
    },
    "id": "6X5dNx6jjhNG",
    "outputId": "9b8e6060-5a6d-4f2d-faf2-a7a31ce6d44c"
   },
   "outputs": [
    {
     "name": "stdout",
     "output_type": "stream",
     "text": [
      "Requirement already satisfied: ucimlrepo in /usr/local/lib/python3.10/dist-packages (0.0.7)\n",
      "Requirement already satisfied: pandas>=1.0.0 in /usr/local/lib/python3.10/dist-packages (from ucimlrepo) (2.2.2)\n",
      "Requirement already satisfied: certifi>=2020.12.5 in /usr/local/lib/python3.10/dist-packages (from ucimlrepo) (2024.12.14)\n",
      "Requirement already satisfied: numpy>=1.22.4 in /usr/local/lib/python3.10/dist-packages (from pandas>=1.0.0->ucimlrepo) (1.26.4)\n",
      "Requirement already satisfied: python-dateutil>=2.8.2 in /usr/local/lib/python3.10/dist-packages (from pandas>=1.0.0->ucimlrepo) (2.8.2)\n",
      "Requirement already satisfied: pytz>=2020.1 in /usr/local/lib/python3.10/dist-packages (from pandas>=1.0.0->ucimlrepo) (2024.2)\n",
      "Requirement already satisfied: tzdata>=2022.7 in /usr/local/lib/python3.10/dist-packages (from pandas>=1.0.0->ucimlrepo) (2024.2)\n",
      "Requirement already satisfied: six>=1.5 in /usr/local/lib/python3.10/dist-packages (from python-dateutil>=2.8.2->pandas>=1.0.0->ucimlrepo) (1.17.0)\n"
     ]
    }
   ],
   "source": [
    "pip install ucimlrepo"
   ]
  },
  {
   "cell_type": "code",
   "execution_count": 1,
   "metadata": {
    "colab": {
     "base_uri": "https://localhost:8080/"
    },
    "executionInfo": {
     "elapsed": 193816,
     "status": "ok",
     "timestamp": 1735629598296,
     "user": {
      "displayName": "Selva Keerthana (SK)",
      "userId": "12348877326798778598"
     },
     "user_tz": -330
    },
    "id": "ESxG8t7Ljces",
    "outputId": "44260092-bfe5-4e85-e694-413b0caf9115"
   },
   "outputs": [
    {
     "name": "stderr",
     "output_type": "stream",
     "text": [
      "/home/blockchain/anaconda3/lib/python3.11/site-packages/ucimlrepo/fetch.py:97: DtypeWarning: Columns (2,3,4,5,6,7) have mixed types. Specify dtype option on import or set low_memory=False.\n",
      "  df = pd.read_csv(data_url)\n"
     ]
    },
    {
     "name": "stdout",
     "output_type": "stream",
     "text": [
      "None\n"
     ]
    }
   ],
   "source": [
    "from ucimlrepo import fetch_ucirepo\n",
    "\n",
    "# fetch dataset\n",
    "individual_household_electric_power_consumption = fetch_ucirepo(id=235)\n",
    "\n",
    "# data (as pandas dataframes)\n",
    "X = individual_household_electric_power_consumption.data.features\n",
    "y = individual_household_electric_power_consumption.data.targets\n",
    "\n",
    "# variable information\n",
    "print(y)\n",
    "# print(individual_household_electric_power_consumption.variables)\n"
   ]
  },
  {
   "cell_type": "code",
   "execution_count": null,
   "metadata": {
    "colab": {
     "base_uri": "https://localhost:8080/"
    },
    "executionInfo": {
     "elapsed": 611,
     "status": "ok",
     "timestamp": 1735620402076,
     "user": {
      "displayName": "Selva Keerthana (SK)",
      "userId": "12348877326798778598"
     },
     "user_tz": -330
    },
    "id": "CXnpVpkZjceu",
    "outputId": "e5fd688c-7bef-47da-d322-3e78e7dde11b"
   },
   "outputs": [
    {
     "name": "stdout",
     "output_type": "stream",
     "text": [
      "<class 'pandas.core.frame.DataFrame'>\n",
      "RangeIndex: 2075259 entries, 0 to 2075258\n",
      "Data columns (total 9 columns):\n",
      " #   Column                 Dtype  \n",
      "---  ------                 -----  \n",
      " 0   Date                   object \n",
      " 1   Time                   object \n",
      " 2   Global_active_power    object \n",
      " 3   Global_reactive_power  object \n",
      " 4   Voltage                object \n",
      " 5   Global_intensity       object \n",
      " 6   Sub_metering_1         object \n",
      " 7   Sub_metering_2         object \n",
      " 8   Sub_metering_3         float64\n",
      "dtypes: float64(1), object(8)\n",
      "memory usage: 142.5+ MB\n"
     ]
    }
   ],
   "source": [
    "X.info()"
   ]
  },
  {
   "cell_type": "code",
   "execution_count": null,
   "metadata": {
    "id": "0l9Z6SdWjceu",
    "outputId": "c89192de-8a3a-4f46-dca7-08a89a51ce28"
   },
   "outputs": [
    {
     "data": {
      "text/plain": [
       "(2075259, 9)"
      ]
     },
     "execution_count": 4,
     "metadata": {},
     "output_type": "execute_result"
    }
   ],
   "source": [
    "X.shape"
   ]
  },
  {
   "cell_type": "code",
   "execution_count": 2,
   "metadata": {
    "executionInfo": {
     "elapsed": 543,
     "status": "ok",
     "timestamp": 1735629618958,
     "user": {
      "displayName": "Selva Keerthana (SK)",
      "userId": "12348877326798778598"
     },
     "user_tz": -330
    },
    "id": "h9HDF8U1jceu"
   },
   "outputs": [],
   "source": [
    "import pandas as pd\n",
    "\n",
    "df = pd.DataFrame(X)"
   ]
  },
  {
   "cell_type": "code",
   "execution_count": null,
   "metadata": {
    "colab": {
     "base_uri": "https://localhost:8080/",
     "height": 443
    },
    "executionInfo": {
     "elapsed": 589,
     "status": "ok",
     "timestamp": 1735620409521,
     "user": {
      "displayName": "Selva Keerthana (SK)",
      "userId": "12348877326798778598"
     },
     "user_tz": -330
    },
    "id": "1kcUcTENjcev",
    "outputId": "854947e4-e5ca-40f0-8e6a-048c63a1516b"
   },
   "outputs": [
    {
     "data": {
      "application/vnd.google.colaboratory.intrinsic+json": {
       "type": "dataframe",
       "variable_name": "df"
      },
      "text/html": [
       "\n",
       "  <div id=\"df-788c3221-96d9-4e99-a557-041bd8969e90\" class=\"colab-df-container\">\n",
       "    <div>\n",
       "<style scoped>\n",
       "    .dataframe tbody tr th:only-of-type {\n",
       "        vertical-align: middle;\n",
       "    }\n",
       "\n",
       "    .dataframe tbody tr th {\n",
       "        vertical-align: top;\n",
       "    }\n",
       "\n",
       "    .dataframe thead th {\n",
       "        text-align: right;\n",
       "    }\n",
       "</style>\n",
       "<table border=\"1\" class=\"dataframe\">\n",
       "  <thead>\n",
       "    <tr style=\"text-align: right;\">\n",
       "      <th></th>\n",
       "      <th>Date</th>\n",
       "      <th>Time</th>\n",
       "      <th>Global_active_power</th>\n",
       "      <th>Global_reactive_power</th>\n",
       "      <th>Voltage</th>\n",
       "      <th>Global_intensity</th>\n",
       "      <th>Sub_metering_1</th>\n",
       "      <th>Sub_metering_2</th>\n",
       "      <th>Sub_metering_3</th>\n",
       "    </tr>\n",
       "  </thead>\n",
       "  <tbody>\n",
       "    <tr>\n",
       "      <th>0</th>\n",
       "      <td>16/12/2006</td>\n",
       "      <td>17:24:00</td>\n",
       "      <td>4.216</td>\n",
       "      <td>0.418</td>\n",
       "      <td>234.840</td>\n",
       "      <td>18.400</td>\n",
       "      <td>0.000</td>\n",
       "      <td>1.000</td>\n",
       "      <td>17.0</td>\n",
       "    </tr>\n",
       "    <tr>\n",
       "      <th>1</th>\n",
       "      <td>16/12/2006</td>\n",
       "      <td>17:25:00</td>\n",
       "      <td>5.360</td>\n",
       "      <td>0.436</td>\n",
       "      <td>233.630</td>\n",
       "      <td>23.000</td>\n",
       "      <td>0.000</td>\n",
       "      <td>1.000</td>\n",
       "      <td>16.0</td>\n",
       "    </tr>\n",
       "    <tr>\n",
       "      <th>2</th>\n",
       "      <td>16/12/2006</td>\n",
       "      <td>17:26:00</td>\n",
       "      <td>5.374</td>\n",
       "      <td>0.498</td>\n",
       "      <td>233.290</td>\n",
       "      <td>23.000</td>\n",
       "      <td>0.000</td>\n",
       "      <td>2.000</td>\n",
       "      <td>17.0</td>\n",
       "    </tr>\n",
       "    <tr>\n",
       "      <th>3</th>\n",
       "      <td>16/12/2006</td>\n",
       "      <td>17:27:00</td>\n",
       "      <td>5.388</td>\n",
       "      <td>0.502</td>\n",
       "      <td>233.740</td>\n",
       "      <td>23.000</td>\n",
       "      <td>0.000</td>\n",
       "      <td>1.000</td>\n",
       "      <td>17.0</td>\n",
       "    </tr>\n",
       "    <tr>\n",
       "      <th>4</th>\n",
       "      <td>16/12/2006</td>\n",
       "      <td>17:28:00</td>\n",
       "      <td>3.666</td>\n",
       "      <td>0.528</td>\n",
       "      <td>235.680</td>\n",
       "      <td>15.800</td>\n",
       "      <td>0.000</td>\n",
       "      <td>1.000</td>\n",
       "      <td>17.0</td>\n",
       "    </tr>\n",
       "    <tr>\n",
       "      <th>...</th>\n",
       "      <td>...</td>\n",
       "      <td>...</td>\n",
       "      <td>...</td>\n",
       "      <td>...</td>\n",
       "      <td>...</td>\n",
       "      <td>...</td>\n",
       "      <td>...</td>\n",
       "      <td>...</td>\n",
       "      <td>...</td>\n",
       "    </tr>\n",
       "    <tr>\n",
       "      <th>2075254</th>\n",
       "      <td>26/11/2010</td>\n",
       "      <td>20:58:00</td>\n",
       "      <td>0.946</td>\n",
       "      <td>0.0</td>\n",
       "      <td>240.43</td>\n",
       "      <td>4.0</td>\n",
       "      <td>0.0</td>\n",
       "      <td>0.0</td>\n",
       "      <td>0.0</td>\n",
       "    </tr>\n",
       "    <tr>\n",
       "      <th>2075255</th>\n",
       "      <td>26/11/2010</td>\n",
       "      <td>20:59:00</td>\n",
       "      <td>0.944</td>\n",
       "      <td>0.0</td>\n",
       "      <td>240.0</td>\n",
       "      <td>4.0</td>\n",
       "      <td>0.0</td>\n",
       "      <td>0.0</td>\n",
       "      <td>0.0</td>\n",
       "    </tr>\n",
       "    <tr>\n",
       "      <th>2075256</th>\n",
       "      <td>26/11/2010</td>\n",
       "      <td>21:00:00</td>\n",
       "      <td>0.938</td>\n",
       "      <td>0.0</td>\n",
       "      <td>239.82</td>\n",
       "      <td>3.8</td>\n",
       "      <td>0.0</td>\n",
       "      <td>0.0</td>\n",
       "      <td>0.0</td>\n",
       "    </tr>\n",
       "    <tr>\n",
       "      <th>2075257</th>\n",
       "      <td>26/11/2010</td>\n",
       "      <td>21:01:00</td>\n",
       "      <td>0.934</td>\n",
       "      <td>0.0</td>\n",
       "      <td>239.7</td>\n",
       "      <td>3.8</td>\n",
       "      <td>0.0</td>\n",
       "      <td>0.0</td>\n",
       "      <td>0.0</td>\n",
       "    </tr>\n",
       "    <tr>\n",
       "      <th>2075258</th>\n",
       "      <td>26/11/2010</td>\n",
       "      <td>21:02:00</td>\n",
       "      <td>0.932</td>\n",
       "      <td>0.0</td>\n",
       "      <td>239.55</td>\n",
       "      <td>3.8</td>\n",
       "      <td>0.0</td>\n",
       "      <td>0.0</td>\n",
       "      <td>0.0</td>\n",
       "    </tr>\n",
       "  </tbody>\n",
       "</table>\n",
       "<p>2075259 rows × 9 columns</p>\n",
       "</div>\n",
       "    <div class=\"colab-df-buttons\">\n",
       "\n",
       "  <div class=\"colab-df-container\">\n",
       "    <button class=\"colab-df-convert\" onclick=\"convertToInteractive('df-788c3221-96d9-4e99-a557-041bd8969e90')\"\n",
       "            title=\"Convert this dataframe to an interactive table.\"\n",
       "            style=\"display:none;\">\n",
       "\n",
       "  <svg xmlns=\"http://www.w3.org/2000/svg\" height=\"24px\" viewBox=\"0 -960 960 960\">\n",
       "    <path d=\"M120-120v-720h720v720H120Zm60-500h600v-160H180v160Zm220 220h160v-160H400v160Zm0 220h160v-160H400v160ZM180-400h160v-160H180v160Zm440 0h160v-160H620v160ZM180-180h160v-160H180v160Zm440 0h160v-160H620v160Z\"/>\n",
       "  </svg>\n",
       "    </button>\n",
       "\n",
       "  <style>\n",
       "    .colab-df-container {\n",
       "      display:flex;\n",
       "      gap: 12px;\n",
       "    }\n",
       "\n",
       "    .colab-df-convert {\n",
       "      background-color: #E8F0FE;\n",
       "      border: none;\n",
       "      border-radius: 50%;\n",
       "      cursor: pointer;\n",
       "      display: none;\n",
       "      fill: #1967D2;\n",
       "      height: 32px;\n",
       "      padding: 0 0 0 0;\n",
       "      width: 32px;\n",
       "    }\n",
       "\n",
       "    .colab-df-convert:hover {\n",
       "      background-color: #E2EBFA;\n",
       "      box-shadow: 0px 1px 2px rgba(60, 64, 67, 0.3), 0px 1px 3px 1px rgba(60, 64, 67, 0.15);\n",
       "      fill: #174EA6;\n",
       "    }\n",
       "\n",
       "    .colab-df-buttons div {\n",
       "      margin-bottom: 4px;\n",
       "    }\n",
       "\n",
       "    [theme=dark] .colab-df-convert {\n",
       "      background-color: #3B4455;\n",
       "      fill: #D2E3FC;\n",
       "    }\n",
       "\n",
       "    [theme=dark] .colab-df-convert:hover {\n",
       "      background-color: #434B5C;\n",
       "      box-shadow: 0px 1px 3px 1px rgba(0, 0, 0, 0.15);\n",
       "      filter: drop-shadow(0px 1px 2px rgba(0, 0, 0, 0.3));\n",
       "      fill: #FFFFFF;\n",
       "    }\n",
       "  </style>\n",
       "\n",
       "    <script>\n",
       "      const buttonEl =\n",
       "        document.querySelector('#df-788c3221-96d9-4e99-a557-041bd8969e90 button.colab-df-convert');\n",
       "      buttonEl.style.display =\n",
       "        google.colab.kernel.accessAllowed ? 'block' : 'none';\n",
       "\n",
       "      async function convertToInteractive(key) {\n",
       "        const element = document.querySelector('#df-788c3221-96d9-4e99-a557-041bd8969e90');\n",
       "        const dataTable =\n",
       "          await google.colab.kernel.invokeFunction('convertToInteractive',\n",
       "                                                    [key], {});\n",
       "        if (!dataTable) return;\n",
       "\n",
       "        const docLinkHtml = 'Like what you see? Visit the ' +\n",
       "          '<a target=\"_blank\" href=https://colab.research.google.com/notebooks/data_table.ipynb>data table notebook</a>'\n",
       "          + ' to learn more about interactive tables.';\n",
       "        element.innerHTML = '';\n",
       "        dataTable['output_type'] = 'display_data';\n",
       "        await google.colab.output.renderOutput(dataTable, element);\n",
       "        const docLink = document.createElement('div');\n",
       "        docLink.innerHTML = docLinkHtml;\n",
       "        element.appendChild(docLink);\n",
       "      }\n",
       "    </script>\n",
       "  </div>\n",
       "\n",
       "\n",
       "<div id=\"df-3be903b0-64ea-4194-9264-47ce3240d2bd\">\n",
       "  <button class=\"colab-df-quickchart\" onclick=\"quickchart('df-3be903b0-64ea-4194-9264-47ce3240d2bd')\"\n",
       "            title=\"Suggest charts\"\n",
       "            style=\"display:none;\">\n",
       "\n",
       "<svg xmlns=\"http://www.w3.org/2000/svg\" height=\"24px\"viewBox=\"0 0 24 24\"\n",
       "     width=\"24px\">\n",
       "    <g>\n",
       "        <path d=\"M19 3H5c-1.1 0-2 .9-2 2v14c0 1.1.9 2 2 2h14c1.1 0 2-.9 2-2V5c0-1.1-.9-2-2-2zM9 17H7v-7h2v7zm4 0h-2V7h2v10zm4 0h-2v-4h2v4z\"/>\n",
       "    </g>\n",
       "</svg>\n",
       "  </button>\n",
       "\n",
       "<style>\n",
       "  .colab-df-quickchart {\n",
       "      --bg-color: #E8F0FE;\n",
       "      --fill-color: #1967D2;\n",
       "      --hover-bg-color: #E2EBFA;\n",
       "      --hover-fill-color: #174EA6;\n",
       "      --disabled-fill-color: #AAA;\n",
       "      --disabled-bg-color: #DDD;\n",
       "  }\n",
       "\n",
       "  [theme=dark] .colab-df-quickchart {\n",
       "      --bg-color: #3B4455;\n",
       "      --fill-color: #D2E3FC;\n",
       "      --hover-bg-color: #434B5C;\n",
       "      --hover-fill-color: #FFFFFF;\n",
       "      --disabled-bg-color: #3B4455;\n",
       "      --disabled-fill-color: #666;\n",
       "  }\n",
       "\n",
       "  .colab-df-quickchart {\n",
       "    background-color: var(--bg-color);\n",
       "    border: none;\n",
       "    border-radius: 50%;\n",
       "    cursor: pointer;\n",
       "    display: none;\n",
       "    fill: var(--fill-color);\n",
       "    height: 32px;\n",
       "    padding: 0;\n",
       "    width: 32px;\n",
       "  }\n",
       "\n",
       "  .colab-df-quickchart:hover {\n",
       "    background-color: var(--hover-bg-color);\n",
       "    box-shadow: 0 1px 2px rgba(60, 64, 67, 0.3), 0 1px 3px 1px rgba(60, 64, 67, 0.15);\n",
       "    fill: var(--button-hover-fill-color);\n",
       "  }\n",
       "\n",
       "  .colab-df-quickchart-complete:disabled,\n",
       "  .colab-df-quickchart-complete:disabled:hover {\n",
       "    background-color: var(--disabled-bg-color);\n",
       "    fill: var(--disabled-fill-color);\n",
       "    box-shadow: none;\n",
       "  }\n",
       "\n",
       "  .colab-df-spinner {\n",
       "    border: 2px solid var(--fill-color);\n",
       "    border-color: transparent;\n",
       "    border-bottom-color: var(--fill-color);\n",
       "    animation:\n",
       "      spin 1s steps(1) infinite;\n",
       "  }\n",
       "\n",
       "  @keyframes spin {\n",
       "    0% {\n",
       "      border-color: transparent;\n",
       "      border-bottom-color: var(--fill-color);\n",
       "      border-left-color: var(--fill-color);\n",
       "    }\n",
       "    20% {\n",
       "      border-color: transparent;\n",
       "      border-left-color: var(--fill-color);\n",
       "      border-top-color: var(--fill-color);\n",
       "    }\n",
       "    30% {\n",
       "      border-color: transparent;\n",
       "      border-left-color: var(--fill-color);\n",
       "      border-top-color: var(--fill-color);\n",
       "      border-right-color: var(--fill-color);\n",
       "    }\n",
       "    40% {\n",
       "      border-color: transparent;\n",
       "      border-right-color: var(--fill-color);\n",
       "      border-top-color: var(--fill-color);\n",
       "    }\n",
       "    60% {\n",
       "      border-color: transparent;\n",
       "      border-right-color: var(--fill-color);\n",
       "    }\n",
       "    80% {\n",
       "      border-color: transparent;\n",
       "      border-right-color: var(--fill-color);\n",
       "      border-bottom-color: var(--fill-color);\n",
       "    }\n",
       "    90% {\n",
       "      border-color: transparent;\n",
       "      border-bottom-color: var(--fill-color);\n",
       "    }\n",
       "  }\n",
       "</style>\n",
       "\n",
       "  <script>\n",
       "    async function quickchart(key) {\n",
       "      const quickchartButtonEl =\n",
       "        document.querySelector('#' + key + ' button');\n",
       "      quickchartButtonEl.disabled = true;  // To prevent multiple clicks.\n",
       "      quickchartButtonEl.classList.add('colab-df-spinner');\n",
       "      try {\n",
       "        const charts = await google.colab.kernel.invokeFunction(\n",
       "            'suggestCharts', [key], {});\n",
       "      } catch (error) {\n",
       "        console.error('Error during call to suggestCharts:', error);\n",
       "      }\n",
       "      quickchartButtonEl.classList.remove('colab-df-spinner');\n",
       "      quickchartButtonEl.classList.add('colab-df-quickchart-complete');\n",
       "    }\n",
       "    (() => {\n",
       "      let quickchartButtonEl =\n",
       "        document.querySelector('#df-3be903b0-64ea-4194-9264-47ce3240d2bd button');\n",
       "      quickchartButtonEl.style.display =\n",
       "        google.colab.kernel.accessAllowed ? 'block' : 'none';\n",
       "    })();\n",
       "  </script>\n",
       "</div>\n",
       "\n",
       "  <div id=\"id_117d991e-9e23-4e38-9c54-7135f5e93b5d\">\n",
       "    <style>\n",
       "      .colab-df-generate {\n",
       "        background-color: #E8F0FE;\n",
       "        border: none;\n",
       "        border-radius: 50%;\n",
       "        cursor: pointer;\n",
       "        display: none;\n",
       "        fill: #1967D2;\n",
       "        height: 32px;\n",
       "        padding: 0 0 0 0;\n",
       "        width: 32px;\n",
       "      }\n",
       "\n",
       "      .colab-df-generate:hover {\n",
       "        background-color: #E2EBFA;\n",
       "        box-shadow: 0px 1px 2px rgba(60, 64, 67, 0.3), 0px 1px 3px 1px rgba(60, 64, 67, 0.15);\n",
       "        fill: #174EA6;\n",
       "      }\n",
       "\n",
       "      [theme=dark] .colab-df-generate {\n",
       "        background-color: #3B4455;\n",
       "        fill: #D2E3FC;\n",
       "      }\n",
       "\n",
       "      [theme=dark] .colab-df-generate:hover {\n",
       "        background-color: #434B5C;\n",
       "        box-shadow: 0px 1px 3px 1px rgba(0, 0, 0, 0.15);\n",
       "        filter: drop-shadow(0px 1px 2px rgba(0, 0, 0, 0.3));\n",
       "        fill: #FFFFFF;\n",
       "      }\n",
       "    </style>\n",
       "    <button class=\"colab-df-generate\" onclick=\"generateWithVariable('df')\"\n",
       "            title=\"Generate code using this dataframe.\"\n",
       "            style=\"display:none;\">\n",
       "\n",
       "  <svg xmlns=\"http://www.w3.org/2000/svg\" height=\"24px\"viewBox=\"0 0 24 24\"\n",
       "       width=\"24px\">\n",
       "    <path d=\"M7,19H8.4L18.45,9,17,7.55,7,17.6ZM5,21V16.75L18.45,3.32a2,2,0,0,1,2.83,0l1.4,1.43a1.91,1.91,0,0,1,.58,1.4,1.91,1.91,0,0,1-.58,1.4L9.25,21ZM18.45,9,17,7.55Zm-12,3A5.31,5.31,0,0,0,4.9,8.1,5.31,5.31,0,0,0,1,6.5,5.31,5.31,0,0,0,4.9,4.9,5.31,5.31,0,0,0,6.5,1,5.31,5.31,0,0,0,8.1,4.9,5.31,5.31,0,0,0,12,6.5,5.46,5.46,0,0,0,6.5,12Z\"/>\n",
       "  </svg>\n",
       "    </button>\n",
       "    <script>\n",
       "      (() => {\n",
       "      const buttonEl =\n",
       "        document.querySelector('#id_117d991e-9e23-4e38-9c54-7135f5e93b5d button.colab-df-generate');\n",
       "      buttonEl.style.display =\n",
       "        google.colab.kernel.accessAllowed ? 'block' : 'none';\n",
       "\n",
       "      buttonEl.onclick = () => {\n",
       "        google.colab.notebook.generateWithVariable('df');\n",
       "      }\n",
       "      })();\n",
       "    </script>\n",
       "  </div>\n",
       "\n",
       "    </div>\n",
       "  </div>\n"
      ],
      "text/plain": [
       "               Date      Time Global_active_power Global_reactive_power  \\\n",
       "0        16/12/2006  17:24:00               4.216                 0.418   \n",
       "1        16/12/2006  17:25:00               5.360                 0.436   \n",
       "2        16/12/2006  17:26:00               5.374                 0.498   \n",
       "3        16/12/2006  17:27:00               5.388                 0.502   \n",
       "4        16/12/2006  17:28:00               3.666                 0.528   \n",
       "...             ...       ...                 ...                   ...   \n",
       "2075254  26/11/2010  20:58:00               0.946                   0.0   \n",
       "2075255  26/11/2010  20:59:00               0.944                   0.0   \n",
       "2075256  26/11/2010  21:00:00               0.938                   0.0   \n",
       "2075257  26/11/2010  21:01:00               0.934                   0.0   \n",
       "2075258  26/11/2010  21:02:00               0.932                   0.0   \n",
       "\n",
       "         Voltage Global_intensity Sub_metering_1 Sub_metering_2  \\\n",
       "0        234.840           18.400          0.000          1.000   \n",
       "1        233.630           23.000          0.000          1.000   \n",
       "2        233.290           23.000          0.000          2.000   \n",
       "3        233.740           23.000          0.000          1.000   \n",
       "4        235.680           15.800          0.000          1.000   \n",
       "...          ...              ...            ...            ...   \n",
       "2075254   240.43              4.0            0.0            0.0   \n",
       "2075255    240.0              4.0            0.0            0.0   \n",
       "2075256   239.82              3.8            0.0            0.0   \n",
       "2075257    239.7              3.8            0.0            0.0   \n",
       "2075258   239.55              3.8            0.0            0.0   \n",
       "\n",
       "         Sub_metering_3  \n",
       "0                  17.0  \n",
       "1                  16.0  \n",
       "2                  17.0  \n",
       "3                  17.0  \n",
       "4                  17.0  \n",
       "...                 ...  \n",
       "2075254             0.0  \n",
       "2075255             0.0  \n",
       "2075256             0.0  \n",
       "2075257             0.0  \n",
       "2075258             0.0  \n",
       "\n",
       "[2075259 rows x 9 columns]"
      ]
     },
     "execution_count": 6,
     "metadata": {},
     "output_type": "execute_result"
    }
   ],
   "source": [
    "df"
   ]
  },
  {
   "cell_type": "code",
   "execution_count": null,
   "metadata": {
    "id": "be-PGmIbjcev",
    "outputId": "19d2e909-84f5-43f0-8241-215c0233ecc5"
   },
   "outputs": [
    {
     "data": {
      "text/plain": [
       "Sub_metering_3\n",
       "0.0     852092\n",
       "1.0     497847\n",
       "18.0    353163\n",
       "17.0    156593\n",
       "19.0    121326\n",
       "12.0     16726\n",
       "16.0     15831\n",
       "11.0     11282\n",
       "29.0      6931\n",
       "13.0      5339\n",
       "20.0      4670\n",
       "28.0      4364\n",
       "10.0      3309\n",
       "30.0      3119\n",
       "9.0       2011\n",
       "6.0       1993\n",
       "2.0       1970\n",
       "7.0       1954\n",
       "3.0       1935\n",
       "8.0       1922\n",
       "4.0       1913\n",
       "5.0       1899\n",
       "27.0      1337\n",
       "26.0       771\n",
       "21.0       726\n",
       "23.0       714\n",
       "22.0       700\n",
       "25.0       689\n",
       "24.0       664\n",
       "15.0       653\n",
       "14.0       538\n",
       "31.0       278\n",
       "Name: count, dtype: int64"
      ]
     },
     "execution_count": 77,
     "metadata": {},
     "output_type": "execute_result"
    }
   ],
   "source": [
    "df['Sub_metering_3'].value_counts()"
   ]
  },
  {
   "cell_type": "code",
   "execution_count": null,
   "metadata": {
    "id": "pU-1R95wjcev",
    "outputId": "376ea523-102c-446e-9fa5-42660a1a4366"
   },
   "outputs": [
    {
     "data": {
      "text/html": [
       "<div>\n",
       "<style scoped>\n",
       "    .dataframe tbody tr th:only-of-type {\n",
       "        vertical-align: middle;\n",
       "    }\n",
       "\n",
       "    .dataframe tbody tr th {\n",
       "        vertical-align: top;\n",
       "    }\n",
       "\n",
       "    .dataframe thead th {\n",
       "        text-align: right;\n",
       "    }\n",
       "</style>\n",
       "<table border=\"1\" class=\"dataframe\">\n",
       "  <thead>\n",
       "    <tr style=\"text-align: right;\">\n",
       "      <th></th>\n",
       "      <th>Date</th>\n",
       "      <th>Time</th>\n",
       "      <th>Global_active_power</th>\n",
       "      <th>Global_reactive_power</th>\n",
       "      <th>Voltage</th>\n",
       "      <th>Global_intensity</th>\n",
       "      <th>Sub_metering_1</th>\n",
       "      <th>Sub_metering_2</th>\n",
       "      <th>Sub_metering_3</th>\n",
       "    </tr>\n",
       "  </thead>\n",
       "  <tbody>\n",
       "    <tr>\n",
       "      <th>0</th>\n",
       "      <td>16/12/2006</td>\n",
       "      <td>17:24:00</td>\n",
       "      <td>4.216</td>\n",
       "      <td>0.418</td>\n",
       "      <td>234.840</td>\n",
       "      <td>18.400</td>\n",
       "      <td>0.000</td>\n",
       "      <td>1.000</td>\n",
       "      <td>17.0</td>\n",
       "    </tr>\n",
       "    <tr>\n",
       "      <th>1</th>\n",
       "      <td>16/12/2006</td>\n",
       "      <td>17:25:00</td>\n",
       "      <td>5.360</td>\n",
       "      <td>0.436</td>\n",
       "      <td>233.630</td>\n",
       "      <td>23.000</td>\n",
       "      <td>0.000</td>\n",
       "      <td>1.000</td>\n",
       "      <td>16.0</td>\n",
       "    </tr>\n",
       "    <tr>\n",
       "      <th>2</th>\n",
       "      <td>16/12/2006</td>\n",
       "      <td>17:26:00</td>\n",
       "      <td>5.374</td>\n",
       "      <td>0.498</td>\n",
       "      <td>233.290</td>\n",
       "      <td>23.000</td>\n",
       "      <td>0.000</td>\n",
       "      <td>2.000</td>\n",
       "      <td>17.0</td>\n",
       "    </tr>\n",
       "    <tr>\n",
       "      <th>3</th>\n",
       "      <td>16/12/2006</td>\n",
       "      <td>17:27:00</td>\n",
       "      <td>5.388</td>\n",
       "      <td>0.502</td>\n",
       "      <td>233.740</td>\n",
       "      <td>23.000</td>\n",
       "      <td>0.000</td>\n",
       "      <td>1.000</td>\n",
       "      <td>17.0</td>\n",
       "    </tr>\n",
       "    <tr>\n",
       "      <th>4</th>\n",
       "      <td>16/12/2006</td>\n",
       "      <td>17:28:00</td>\n",
       "      <td>3.666</td>\n",
       "      <td>0.528</td>\n",
       "      <td>235.680</td>\n",
       "      <td>15.800</td>\n",
       "      <td>0.000</td>\n",
       "      <td>1.000</td>\n",
       "      <td>17.0</td>\n",
       "    </tr>\n",
       "    <tr>\n",
       "      <th>5</th>\n",
       "      <td>16/12/2006</td>\n",
       "      <td>17:29:00</td>\n",
       "      <td>3.520</td>\n",
       "      <td>0.522</td>\n",
       "      <td>235.020</td>\n",
       "      <td>15.000</td>\n",
       "      <td>0.000</td>\n",
       "      <td>2.000</td>\n",
       "      <td>17.0</td>\n",
       "    </tr>\n",
       "    <tr>\n",
       "      <th>6</th>\n",
       "      <td>16/12/2006</td>\n",
       "      <td>17:30:00</td>\n",
       "      <td>3.702</td>\n",
       "      <td>0.520</td>\n",
       "      <td>235.090</td>\n",
       "      <td>15.800</td>\n",
       "      <td>0.000</td>\n",
       "      <td>1.000</td>\n",
       "      <td>17.0</td>\n",
       "    </tr>\n",
       "    <tr>\n",
       "      <th>7</th>\n",
       "      <td>16/12/2006</td>\n",
       "      <td>17:31:00</td>\n",
       "      <td>3.700</td>\n",
       "      <td>0.520</td>\n",
       "      <td>235.220</td>\n",
       "      <td>15.800</td>\n",
       "      <td>0.000</td>\n",
       "      <td>1.000</td>\n",
       "      <td>17.0</td>\n",
       "    </tr>\n",
       "    <tr>\n",
       "      <th>8</th>\n",
       "      <td>16/12/2006</td>\n",
       "      <td>17:32:00</td>\n",
       "      <td>3.668</td>\n",
       "      <td>0.510</td>\n",
       "      <td>233.990</td>\n",
       "      <td>15.800</td>\n",
       "      <td>0.000</td>\n",
       "      <td>1.000</td>\n",
       "      <td>17.0</td>\n",
       "    </tr>\n",
       "    <tr>\n",
       "      <th>9</th>\n",
       "      <td>16/12/2006</td>\n",
       "      <td>17:33:00</td>\n",
       "      <td>3.662</td>\n",
       "      <td>0.510</td>\n",
       "      <td>233.860</td>\n",
       "      <td>15.800</td>\n",
       "      <td>0.000</td>\n",
       "      <td>2.000</td>\n",
       "      <td>16.0</td>\n",
       "    </tr>\n",
       "  </tbody>\n",
       "</table>\n",
       "</div>"
      ],
      "text/plain": [
       "         Date      Time Global_active_power Global_reactive_power  Voltage  \\\n",
       "0  16/12/2006  17:24:00               4.216                 0.418  234.840   \n",
       "1  16/12/2006  17:25:00               5.360                 0.436  233.630   \n",
       "2  16/12/2006  17:26:00               5.374                 0.498  233.290   \n",
       "3  16/12/2006  17:27:00               5.388                 0.502  233.740   \n",
       "4  16/12/2006  17:28:00               3.666                 0.528  235.680   \n",
       "5  16/12/2006  17:29:00               3.520                 0.522  235.020   \n",
       "6  16/12/2006  17:30:00               3.702                 0.520  235.090   \n",
       "7  16/12/2006  17:31:00               3.700                 0.520  235.220   \n",
       "8  16/12/2006  17:32:00               3.668                 0.510  233.990   \n",
       "9  16/12/2006  17:33:00               3.662                 0.510  233.860   \n",
       "\n",
       "  Global_intensity Sub_metering_1 Sub_metering_2  Sub_metering_3  \n",
       "0           18.400          0.000          1.000            17.0  \n",
       "1           23.000          0.000          1.000            16.0  \n",
       "2           23.000          0.000          2.000            17.0  \n",
       "3           23.000          0.000          1.000            17.0  \n",
       "4           15.800          0.000          1.000            17.0  \n",
       "5           15.000          0.000          2.000            17.0  \n",
       "6           15.800          0.000          1.000            17.0  \n",
       "7           15.800          0.000          1.000            17.0  \n",
       "8           15.800          0.000          1.000            17.0  \n",
       "9           15.800          0.000          2.000            16.0  "
      ]
     },
     "execution_count": 3,
     "metadata": {},
     "output_type": "execute_result"
    }
   ],
   "source": [
    "df.head(10)"
   ]
  },
  {
   "cell_type": "code",
   "execution_count": null,
   "metadata": {
    "id": "gCnrg_5djcev"
   },
   "outputs": [],
   "source": [
    "df.to_csv('/home/blockchain/Downloads/Electricity project/data.csv',index=False)"
   ]
  },
  {
   "cell_type": "code",
   "execution_count": null,
   "metadata": {
    "id": "7ZV-RQT5jcev",
    "outputId": "ee71653b-ac6f-4e5c-bfe9-293c3e853414"
   },
   "outputs": [
    {
     "name": "stdout",
     "output_type": "stream",
     "text": [
      "<class 'pandas.core.frame.DataFrame'>\n",
      "RangeIndex: 2075259 entries, 0 to 2075258\n",
      "Data columns (total 9 columns):\n",
      " #   Column                 Dtype  \n",
      "---  ------                 -----  \n",
      " 0   Date                   object \n",
      " 1   Time                   object \n",
      " 2   Global_active_power    object \n",
      " 3   Global_reactive_power  object \n",
      " 4   Voltage                object \n",
      " 5   Global_intensity       object \n",
      " 6   Sub_metering_1         object \n",
      " 7   Sub_metering_2         object \n",
      " 8   Sub_metering_3         float64\n",
      "dtypes: float64(1), object(8)\n",
      "memory usage: 142.5+ MB\n"
     ]
    }
   ],
   "source": [
    "df.info()"
   ]
  },
  {
   "cell_type": "code",
   "execution_count": null,
   "metadata": {
    "id": "wIEKzmVVjcew",
    "outputId": "1731a925-8ce5-435e-90e5-fe1742fe2040"
   },
   "outputs": [
    {
     "data": {
      "text/html": [
       "<div>\n",
       "<style scoped>\n",
       "    .dataframe tbody tr th:only-of-type {\n",
       "        vertical-align: middle;\n",
       "    }\n",
       "\n",
       "    .dataframe tbody tr th {\n",
       "        vertical-align: top;\n",
       "    }\n",
       "\n",
       "    .dataframe thead th {\n",
       "        text-align: right;\n",
       "    }\n",
       "</style>\n",
       "<table border=\"1\" class=\"dataframe\">\n",
       "  <thead>\n",
       "    <tr style=\"text-align: right;\">\n",
       "      <th></th>\n",
       "      <th>Sub_metering_3</th>\n",
       "    </tr>\n",
       "  </thead>\n",
       "  <tbody>\n",
       "    <tr>\n",
       "      <th>count</th>\n",
       "      <td>2.049280e+06</td>\n",
       "    </tr>\n",
       "    <tr>\n",
       "      <th>mean</th>\n",
       "      <td>6.458447e+00</td>\n",
       "    </tr>\n",
       "    <tr>\n",
       "      <th>std</th>\n",
       "      <td>8.437154e+00</td>\n",
       "    </tr>\n",
       "    <tr>\n",
       "      <th>min</th>\n",
       "      <td>0.000000e+00</td>\n",
       "    </tr>\n",
       "    <tr>\n",
       "      <th>25%</th>\n",
       "      <td>0.000000e+00</td>\n",
       "    </tr>\n",
       "    <tr>\n",
       "      <th>50%</th>\n",
       "      <td>1.000000e+00</td>\n",
       "    </tr>\n",
       "    <tr>\n",
       "      <th>75%</th>\n",
       "      <td>1.700000e+01</td>\n",
       "    </tr>\n",
       "    <tr>\n",
       "      <th>max</th>\n",
       "      <td>3.100000e+01</td>\n",
       "    </tr>\n",
       "  </tbody>\n",
       "</table>\n",
       "</div>"
      ],
      "text/plain": [
       "       Sub_metering_3\n",
       "count    2.049280e+06\n",
       "mean     6.458447e+00\n",
       "std      8.437154e+00\n",
       "min      0.000000e+00\n",
       "25%      0.000000e+00\n",
       "50%      1.000000e+00\n",
       "75%      1.700000e+01\n",
       "max      3.100000e+01"
      ]
     },
     "execution_count": 7,
     "metadata": {},
     "output_type": "execute_result"
    }
   ],
   "source": [
    "df.describe()"
   ]
  },
  {
   "cell_type": "code",
   "execution_count": 3,
   "metadata": {
    "executionInfo": {
     "elapsed": 6135,
     "status": "ok",
     "timestamp": 1735629630387,
     "user": {
      "displayName": "Selva Keerthana (SK)",
      "userId": "12348877326798778598"
     },
     "user_tz": -330
    },
    "id": "14qgDRsYCw9n"
   },
   "outputs": [],
   "source": [
    "column_toconvert = ['Global_active_power', 'Global_reactive_power', 'Voltage', 'Global_intensity', 'Sub_metering_1', 'Sub_metering_2','Sub_metering_3']\n",
    "\n",
    "for column in column_toconvert:\n",
    "    df[column] = pd.to_numeric(df[column],errors='coerce')"
   ]
  },
  {
   "cell_type": "code",
   "execution_count": 8,
   "metadata": {
    "colab": {
     "base_uri": "https://localhost:8080/"
    },
    "executionInfo": {
     "elapsed": 4,
     "status": "ok",
     "timestamp": 1735629631757,
     "user": {
      "displayName": "Selva Keerthana (SK)",
      "userId": "12348877326798778598"
     },
     "user_tz": -330
    },
    "id": "FvzdPbqBjcew",
    "outputId": "5c783a03-9584-49d3-dca1-bd5911b087aa"
   },
   "outputs": [
    {
     "name": "stdout",
     "output_type": "stream",
     "text": [
      "Date                         0\n",
      "Time                         0\n",
      "Global_active_power      25979\n",
      "Global_reactive_power    25979\n",
      "Voltage                  25979\n",
      "Global_intensity         25979\n",
      "Sub_metering_1           25979\n",
      "Sub_metering_2           25979\n",
      "Sub_metering_3           25979\n",
      "dtype: int64\n"
     ]
    }
   ],
   "source": [
    "null_count = df.isnull().sum()\n",
    "print(null_count)"
   ]
  },
  {
   "cell_type": "code",
   "execution_count": null,
   "metadata": {
    "colab": {
     "base_uri": "https://localhost:8080/",
     "height": 447
    },
    "executionInfo": {
     "elapsed": 149302,
     "status": "ok",
     "timestamp": 1735625030980,
     "user": {
      "displayName": "Selva Keerthana (SK)",
      "userId": "12348877326798778598"
     },
     "user_tz": -330
    },
    "id": "cC4zGA4jDAMq",
    "outputId": "a7f289d0-63e3-488e-8fe0-684f90f7af3d"
   },
   "outputs": [
    {
     "data": {
      "text/plain": [
       "<Axes: >"
      ]
     },
     "execution_count": 39,
     "metadata": {},
     "output_type": "execute_result"
    },
    {
     "data": {
      "image/png": "[encoded data removed]",
      "text/plain": [
       "<Figure size 640x480 with 1 Axes>"
      ]
     },
     "metadata": {},
     "output_type": "display_data"
    }
   ],
   "source": [
    "import seaborn as sns\n",
    "\n",
    "sns.boxplot(df)"
   ]
  },
  {
   "cell_type": "code",
   "execution_count": 4,
   "metadata": {
    "colab": {
     "base_uri": "https://localhost:8080/"
    },
    "executionInfo": {
     "elapsed": 532,
     "status": "ok",
     "timestamp": 1735629638598,
     "user": {
      "displayName": "Selva Keerthana (SK)",
      "userId": "12348877326798778598"
     },
     "user_tz": -330
    },
    "id": "1vC5y99Yjcew",
    "outputId": "0c3d975d-c519-4848-f3f0-cb886472b6c2"
   },
   "outputs": [],
   "source": [
    "for column in [ 'Voltage', 'Sub_metering_1', 'Sub_metering_2']:\n",
    "    df[column].fillna(df[column].median(),inplace=True)"
   ]
  },
  {
   "cell_type": "code",
   "execution_count": 6,
   "metadata": {
    "colab": {
     "base_uri": "https://localhost:8080/"
    },
    "executionInfo": {
     "elapsed": 802,
     "status": "ok",
     "timestamp": 1735629640169,
     "user": {
      "displayName": "Selva Keerthana (SK)",
      "userId": "12348877326798778598"
     },
     "user_tz": -330
    },
    "id": "-TkAYmNbDwv-",
    "outputId": "3b1f3621-600e-49c3-d262-8feb4e15fc52"
   },
   "outputs": [],
   "source": [
    "for column in ['Global_active_power', 'Global_reactive_power','Global_intensity','Sub_metering_3']:\n",
    "    df[column].fillna(df[column].mean(),inplace=True)"
   ]
  },
  {
   "cell_type": "code",
   "execution_count": 5,
   "metadata": {
    "id": "kulS0dh2jcew"
   },
   "outputs": [
    {
     "ename": "ValueError",
     "evalue": "Cannot use median strategy with non-numeric data:\ncould not convert string to float: '16/12/2006'",
     "output_type": "error",
     "traceback": [
      "\u001b[0;31m---------------------------------------------------------------------------\u001b[0m",
      "\u001b[0;31mValueError\u001b[0m                                Traceback (most recent call last)",
      "Cell \u001b[0;32mIn[5], line 5\u001b[0m\n\u001b[1;32m      2\u001b[0m \u001b[38;5;28;01mfrom\u001b[39;00m \u001b[38;5;21;01msklearn\u001b[39;00m\u001b[38;5;21;01m.\u001b[39;00m\u001b[38;5;21;01mimpute\u001b[39;00m \u001b[38;5;28;01mimport\u001b[39;00m SimpleImputer\n\u001b[1;32m      4\u001b[0m skdf \u001b[38;5;241m=\u001b[39m SimpleImputer(missing_values\u001b[38;5;241m=\u001b[39mnp\u001b[38;5;241m.\u001b[39mnan,strategy\u001b[38;5;241m=\u001b[39m\u001b[38;5;124m'\u001b[39m\u001b[38;5;124mmedian\u001b[39m\u001b[38;5;124m'\u001b[39m)\n\u001b[0;32m----> 5\u001b[0m skdf\u001b[38;5;241m.\u001b[39mfit_transform(df)\n",
      "File \u001b[0;32m~/anaconda3/lib/python3.11/site-packages/sklearn/utils/_set_output.py:140\u001b[0m, in \u001b[0;36m_wrap_method_output.<locals>.wrapped\u001b[0;34m(self, X, *args, **kwargs)\u001b[0m\n\u001b[1;32m    138\u001b[0m \u001b[38;5;129m@wraps\u001b[39m(f)\n\u001b[1;32m    139\u001b[0m \u001b[38;5;28;01mdef\u001b[39;00m \u001b[38;5;21mwrapped\u001b[39m(\u001b[38;5;28mself\u001b[39m, X, \u001b[38;5;241m*\u001b[39margs, \u001b[38;5;241m*\u001b[39m\u001b[38;5;241m*\u001b[39mkwargs):\n\u001b[0;32m--> 140\u001b[0m     data_to_wrap \u001b[38;5;241m=\u001b[39m f(\u001b[38;5;28mself\u001b[39m, X, \u001b[38;5;241m*\u001b[39margs, \u001b[38;5;241m*\u001b[39m\u001b[38;5;241m*\u001b[39mkwargs)\n\u001b[1;32m    141\u001b[0m     \u001b[38;5;28;01mif\u001b[39;00m \u001b[38;5;28misinstance\u001b[39m(data_to_wrap, \u001b[38;5;28mtuple\u001b[39m):\n\u001b[1;32m    142\u001b[0m         \u001b[38;5;66;03m# only wrap the first output for cross decomposition\u001b[39;00m\n\u001b[1;32m    143\u001b[0m         \u001b[38;5;28;01mreturn\u001b[39;00m (\n\u001b[1;32m    144\u001b[0m             _wrap_data_with_container(method, data_to_wrap[\u001b[38;5;241m0\u001b[39m], X, \u001b[38;5;28mself\u001b[39m),\n\u001b[1;32m    145\u001b[0m             \u001b[38;5;241m*\u001b[39mdata_to_wrap[\u001b[38;5;241m1\u001b[39m:],\n\u001b[1;32m    146\u001b[0m         )\n",
      "File \u001b[0;32m~/anaconda3/lib/python3.11/site-packages/sklearn/base.py:878\u001b[0m, in \u001b[0;36mTransformerMixin.fit_transform\u001b[0;34m(self, X, y, **fit_params)\u001b[0m\n\u001b[1;32m    874\u001b[0m \u001b[38;5;66;03m# non-optimized default implementation; override when a better\u001b[39;00m\n\u001b[1;32m    875\u001b[0m \u001b[38;5;66;03m# method is possible for a given clustering algorithm\u001b[39;00m\n\u001b[1;32m    876\u001b[0m \u001b[38;5;28;01mif\u001b[39;00m y \u001b[38;5;129;01mis\u001b[39;00m \u001b[38;5;28;01mNone\u001b[39;00m:\n\u001b[1;32m    877\u001b[0m     \u001b[38;5;66;03m# fit method of arity 1 (unsupervised transformation)\u001b[39;00m\n\u001b[0;32m--> 878\u001b[0m     \u001b[38;5;28;01mreturn\u001b[39;00m \u001b[38;5;28mself\u001b[39m\u001b[38;5;241m.\u001b[39mfit(X, \u001b[38;5;241m*\u001b[39m\u001b[38;5;241m*\u001b[39mfit_params)\u001b[38;5;241m.\u001b[39mtransform(X)\n\u001b[1;32m    879\u001b[0m \u001b[38;5;28;01melse\u001b[39;00m:\n\u001b[1;32m    880\u001b[0m     \u001b[38;5;66;03m# fit method of arity 2 (supervised transformation)\u001b[39;00m\n\u001b[1;32m    881\u001b[0m     \u001b[38;5;28;01mreturn\u001b[39;00m \u001b[38;5;28mself\u001b[39m\u001b[38;5;241m.\u001b[39mfit(X, y, \u001b[38;5;241m*\u001b[39m\u001b[38;5;241m*\u001b[39mfit_params)\u001b[38;5;241m.\u001b[39mtransform(X)\n",
      "File \u001b[0;32m~/anaconda3/lib/python3.11/site-packages/sklearn/impute/_base.py:390\u001b[0m, in \u001b[0;36mSimpleImputer.fit\u001b[0;34m(self, X, y)\u001b[0m\n\u001b[1;32m    381\u001b[0m \u001b[38;5;28;01mif\u001b[39;00m \u001b[38;5;28mself\u001b[39m\u001b[38;5;241m.\u001b[39mverbose \u001b[38;5;241m!=\u001b[39m \u001b[38;5;124m\"\u001b[39m\u001b[38;5;124mdeprecated\u001b[39m\u001b[38;5;124m\"\u001b[39m:\n\u001b[1;32m    382\u001b[0m     warnings\u001b[38;5;241m.\u001b[39mwarn(\n\u001b[1;32m    383\u001b[0m         \u001b[38;5;124m\"\u001b[39m\u001b[38;5;124mThe \u001b[39m\u001b[38;5;124m'\u001b[39m\u001b[38;5;124mverbose\u001b[39m\u001b[38;5;124m'\u001b[39m\u001b[38;5;124m parameter was deprecated in version \u001b[39m\u001b[38;5;124m\"\u001b[39m\n\u001b[1;32m    384\u001b[0m         \u001b[38;5;124m\"\u001b[39m\u001b[38;5;124m1.1 and will be removed in 1.3. A warning will \u001b[39m\u001b[38;5;124m\"\u001b[39m\n\u001b[0;32m   (...)\u001b[0m\n\u001b[1;32m    387\u001b[0m         \u001b[38;5;167;01mFutureWarning\u001b[39;00m,\n\u001b[1;32m    388\u001b[0m     )\n\u001b[0;32m--> 390\u001b[0m X \u001b[38;5;241m=\u001b[39m \u001b[38;5;28mself\u001b[39m\u001b[38;5;241m.\u001b[39m_validate_input(X, in_fit\u001b[38;5;241m=\u001b[39m\u001b[38;5;28;01mTrue\u001b[39;00m)\n\u001b[1;32m    392\u001b[0m \u001b[38;5;66;03m# default fill_value is 0 for numerical input and \"missing_value\"\u001b[39;00m\n\u001b[1;32m    393\u001b[0m \u001b[38;5;66;03m# otherwise\u001b[39;00m\n\u001b[1;32m    394\u001b[0m \u001b[38;5;28;01mif\u001b[39;00m \u001b[38;5;28mself\u001b[39m\u001b[38;5;241m.\u001b[39mfill_value \u001b[38;5;129;01mis\u001b[39;00m \u001b[38;5;28;01mNone\u001b[39;00m:\n",
      "File \u001b[0;32m~/anaconda3/lib/python3.11/site-packages/sklearn/impute/_base.py:342\u001b[0m, in \u001b[0;36mSimpleImputer._validate_input\u001b[0;34m(self, X, in_fit)\u001b[0m\n\u001b[1;32m    336\u001b[0m \u001b[38;5;28;01mif\u001b[39;00m \u001b[38;5;124m\"\u001b[39m\u001b[38;5;124mcould not convert\u001b[39m\u001b[38;5;124m\"\u001b[39m \u001b[38;5;129;01min\u001b[39;00m \u001b[38;5;28mstr\u001b[39m(ve):\n\u001b[1;32m    337\u001b[0m     new_ve \u001b[38;5;241m=\u001b[39m \u001b[38;5;167;01mValueError\u001b[39;00m(\n\u001b[1;32m    338\u001b[0m         \u001b[38;5;124m\"\u001b[39m\u001b[38;5;124mCannot use \u001b[39m\u001b[38;5;132;01m{}\u001b[39;00m\u001b[38;5;124m strategy with non-numeric data:\u001b[39m\u001b[38;5;130;01m\\n\u001b[39;00m\u001b[38;5;132;01m{}\u001b[39;00m\u001b[38;5;124m\"\u001b[39m\u001b[38;5;241m.\u001b[39mformat(\n\u001b[1;32m    339\u001b[0m             \u001b[38;5;28mself\u001b[39m\u001b[38;5;241m.\u001b[39mstrategy, ve\n\u001b[1;32m    340\u001b[0m         )\n\u001b[1;32m    341\u001b[0m     )\n\u001b[0;32m--> 342\u001b[0m     \u001b[38;5;28;01mraise\u001b[39;00m new_ve \u001b[38;5;28;01mfrom\u001b[39;00m \u001b[38;5;28;01mNone\u001b[39;00m\n\u001b[1;32m    343\u001b[0m \u001b[38;5;28;01melse\u001b[39;00m:\n\u001b[1;32m    344\u001b[0m     \u001b[38;5;28;01mraise\u001b[39;00m ve\n",
      "\u001b[0;31mValueError\u001b[0m: Cannot use median strategy with non-numeric data:\ncould not convert string to float: '16/12/2006'"
     ]
    }
   ],
   "source": [
    "import numpy as np\n",
    "from sklearn.impute import SimpleImputer\n",
    "\n",
    "skdf = SimpleImputer(missing_values=np.nan,strategy='median')\n",
    "skdf.fit_transform(df)"
   ]
  },
  {
   "cell_type": "code",
   "execution_count": 98,
   "metadata": {
    "colab": {
     "base_uri": "https://localhost:8080/",
     "height": 366
    },
    "executionInfo": {
     "elapsed": 508,
     "status": "ok",
     "timestamp": 1735628504247,
     "user": {
      "displayName": "Selva Keerthana (SK)",
      "userId": "12348877326798778598"
     },
     "user_tz": -330
    },
    "id": "jqfTSjtdjcew",
    "outputId": "6ae5b5a5-ea57-4cb9-d299-61ba9b440557"
   },
   "outputs": [
    {
     "data": {
      "text/html": [
       "<div>\n",
       "<style scoped>\n",
       "    .dataframe tbody tr th:only-of-type {\n",
       "        vertical-align: middle;\n",
       "    }\n",
       "\n",
       "    .dataframe tbody tr th {\n",
       "        vertical-align: top;\n",
       "    }\n",
       "\n",
       "    .dataframe thead th {\n",
       "        text-align: right;\n",
       "    }\n",
       "</style>\n",
       "<table border=\"1\" class=\"dataframe\">\n",
       "  <thead>\n",
       "    <tr style=\"text-align: right;\">\n",
       "      <th></th>\n",
       "      <th>0</th>\n",
       "    </tr>\n",
       "  </thead>\n",
       "  <tbody>\n",
       "    <tr>\n",
       "      <th>Date</th>\n",
       "      <td>0</td>\n",
       "    </tr>\n",
       "    <tr>\n",
       "      <th>Time</th>\n",
       "      <td>0</td>\n",
       "    </tr>\n",
       "    <tr>\n",
       "      <th>Global_active_power</th>\n",
       "      <td>0</td>\n",
       "    </tr>\n",
       "    <tr>\n",
       "      <th>Global_reactive_power</th>\n",
       "      <td>0</td>\n",
       "    </tr>\n",
       "    <tr>\n",
       "      <th>Voltage</th>\n",
       "      <td>0</td>\n",
       "    </tr>\n",
       "    <tr>\n",
       "      <th>Global_intensity</th>\n",
       "      <td>0</td>\n",
       "    </tr>\n",
       "    <tr>\n",
       "      <th>Sub_metering_1</th>\n",
       "      <td>0</td>\n",
       "    </tr>\n",
       "    <tr>\n",
       "      <th>Sub_metering_2</th>\n",
       "      <td>0</td>\n",
       "    </tr>\n",
       "    <tr>\n",
       "      <th>Sub_metering_3</th>\n",
       "      <td>0</td>\n",
       "    </tr>\n",
       "  </tbody>\n",
       "</table>\n",
       "</div><br><label><b>dtype:</b> int64</label>"
      ],
      "text/plain": [
       "Date                     0\n",
       "Time                     0\n",
       "Global_active_power      0\n",
       "Global_reactive_power    0\n",
       "Voltage                  0\n",
       "Global_intensity         0\n",
       "Sub_metering_1           0\n",
       "Sub_metering_2           0\n",
       "Sub_metering_3           0\n",
       "dtype: int64"
      ]
     },
     "execution_count": 98,
     "metadata": {},
     "output_type": "execute_result"
    }
   ],
   "source": [
    "df.isnull().sum()"
   ]
  },
  {
   "cell_type": "code",
   "execution_count": 7,
   "metadata": {
    "colab": {
     "base_uri": "https://localhost:8080/"
    },
    "executionInfo": {
     "elapsed": 9973,
     "status": "ok",
     "timestamp": 1735629656861,
     "user": {
      "displayName": "Selva Keerthana (SK)",
      "userId": "12348877326798778598"
     },
     "user_tz": -330
    },
    "id": "Cut6f7Khjcew",
    "outputId": "7c7549d2-3f63-424c-ef55-47f90973fdbd"
   },
   "outputs": [
    {
     "name": "stderr",
     "output_type": "stream",
     "text": [
      "/tmp/ipykernel_10874/3905696854.py:3: UserWarning: Parsing dates in %d/%m/%Y %H:%M:%S format when dayfirst=False (the default) was specified. Pass `dayfirst=True` or specify a format to silence this warning.\n",
      "  df['datetime'] = pd.to_datetime(df['Date']+' '+df['Time'])\n"
     ]
    }
   ],
   "source": [
    "# combining date and time\n",
    "\n",
    "df['datetime'] = pd.to_datetime(df['Date']+' '+df['Time'])\n",
    "df.drop(columns=['Time','Date'],inplace=True)\n"
   ]
  },
  {
   "cell_type": "code",
   "execution_count": 100,
   "metadata": {
    "colab": {
     "base_uri": "https://localhost:8080/"
    },
    "executionInfo": {
     "elapsed": 2,
     "status": "ok",
     "timestamp": 1735628517338,
     "user": {
      "displayName": "Selva Keerthana (SK)",
      "userId": "12348877326798778598"
     },
     "user_tz": -330
    },
    "id": "XP6Ci9SPjcew",
    "outputId": "2b7a81e8-7774-4bb0-fbdd-35ac2142b5ca"
   },
   "outputs": [
    {
     "name": "stdout",
     "output_type": "stream",
     "text": [
      "Global_active_power             float64\n",
      "Global_reactive_power           float64\n",
      "Voltage                         float64\n",
      "Global_intensity                float64\n",
      "Sub_metering_1                  float64\n",
      "Sub_metering_2                  float64\n",
      "Sub_metering_3                  float64\n",
      "datetime                 datetime64[ns]\n",
      "dtype: object\n"
     ]
    }
   ],
   "source": [
    "print(df.dtypes)"
   ]
  },
  {
   "cell_type": "code",
   "execution_count": null,
   "metadata": {
    "id": "iXvtgNDajcew",
    "outputId": "29750377-e7e8-49ca-da05-ce47d65572b0"
   },
   "outputs": [
    {
     "name": "stdout",
     "output_type": "stream",
     "text": [
      "Unique values in Global_active_power:\n",
      "['4.216' '5.360' '5.374' ... 4.068 3.94 3.74]\n",
      "Unique values in Global_reactive_power:\n",
      "['0.418' '0.436' '0.498' '0.502' '0.528' '0.522' '0.520' '0.510' '0.470'\n",
      " '0.478' '0.398' '0.422' '0.282' '0.152' '0.156' '0.000' '0.076' '0.090'\n",
      " '0.200' '0.058' '0.180' '0.144' '0.118' '0.108' '0.202' '0.192' '0.186'\n",
      " '0.116' '0.136' '0.148' '0.160' '0.158' '0.100' '0.082' '0.050' '0.052'\n",
      " '0.162' '0.086' '0.048' '0.054' '0.068' '0.166' '0.174' '0.178' '0.188'\n",
      " '0.088' '0.080' '0.070' '0.084' '0.074' '0.106' '0.092' '0.064' '0.046'\n",
      " '0.138' '0.134' '0.132' '0.120' '0.130' '0.154' '0.078' '0.142' '0.140'\n",
      " '0.146' '0.150' '0.170' '0.102' '0.072' '0.060' '0.056' '0.062' '0.112'\n",
      " '0.066' '0.172' '0.168' '0.194' '0.184' '0.096' '0.164' '0.182' '0.094'\n",
      " '0.098' '0.176' '0.190' '0.204' '0.220' '0.198' '0.208' '0.244' '0.334'\n",
      " '0.298' '0.296' '0.286' '0.278' '0.104' '0.258' '0.238' '0.256' '0.214'\n",
      " '0.230' '0.210' '0.240' '0.124' '0.122' '0.270' '0.302' '0.272' '0.250'\n",
      " '0.294' '0.300' '0.128' '0.126' '0.234' '0.242' '0.316' '0.280' '0.288'\n",
      " '0.224' '0.110' '0.248' '0.254' '0.222' '0.246' '0.216' '0.212' '0.114'\n",
      " '0.206' '0.228' '0.226' '0.196' '0.218' '0.368' '0.338' '0.310' '0.304'\n",
      " '0.292' '0.268' '0.266' '0.260' '0.396' '0.380' '0.400' '0.384' '0.416'\n",
      " '0.404' '0.382' '0.232' '0.314' '0.312' '0.262' '0.252' '0.236' '0.348'\n",
      " '0.342' '0.340' '0.350' '0.504' '0.344' '0.346' '0.366' '0.574' '0.582'\n",
      " '0.370' '0.364' '0.360' '0.362' '0.372' '0.392' '0.354' '0.356' '0.358'\n",
      " '0.402' '0.394' '0.390' '0.386' '0.274' '0.264' '0.324' '0.352' '0.276'\n",
      " '0.306' '0.376' '0.562' '0.440' '0.378' '0.426' '0.450' '0.374' '0.388'\n",
      " '0.284' '0.290' '0.308' '0.318' '0.320' '0.322' '0.326' '0.336' '0.414'\n",
      " '0.408' '0.472' '0.464' '0.462' '0.578' '0.576' '0.580' '0.474' '0.514'\n",
      " '0.646' '0.636' '0.598' '0.586' '0.566' '0.406' '0.430' '0.412' '0.442'\n",
      " '0.452' '0.432' '0.330' '0.328' '0.538' '0.564' '0.552' '0.556' '0.606'\n",
      " '0.424' '0.492' '0.526' '0.512' '0.482' '0.446' '0.332' '?' '0.548'\n",
      " '0.534' '0.532' '0.688' '0.664' '0.660' '0.530' '0.516' '0.572' '0.540'\n",
      " '0.614' '0.568' '0.444' '0.456' '0.448' '0.480' '0.434' '0.438' '0.494'\n",
      " '0.496' '0.468' '0.560' '0.622' '0.570' '0.618' '0.624' '0.466' '0.420'\n",
      " '0.500' '0.602' '0.632' '0.724' '0.706' '0.484' '0.458' '0.428' '0.486'\n",
      " '0.698' '0.708' '0.686' '0.666' '0.658' '0.490' '0.454' '0.640' '0.590'\n",
      " '0.524' '0.634' '0.476' '0.694' '0.700' '0.794' '0.592' '0.460' '0.656'\n",
      " '0.644' '0.488' '0.410' '0.550' '0.616' '0.800' '0.790' '0.788' '0.670'\n",
      " '0.506' '0.600' '0.680' '0.678' '0.682' '0.690' '0.508' '0.604' '0.608'\n",
      " '0.554' '0.518' '0.650' '0.648' '0.642' '0.654' '0.754' '0.750' '0.742'\n",
      " '0.594' '0.536' '0.544' '0.630' '0.542' '0.672' '0.588' '0.596' '0.584'\n",
      " '0.674' '0.726' '0.768' '0.774' '0.712' '0.856' '0.862' '0.848' '0.730'\n",
      " '0.710' '0.662' '0.722' '0.704' '0.546' '0.638' '0.628' '0.620' '0.716'\n",
      " '0.778' '0.702' '0.676' '0.834' '0.802' '0.772' '0.558' '0.626' '0.652'\n",
      " '0.760' '0.780' '0.784' '0.786' '0.792' '0.782' '0.832' '0.842' '0.744'\n",
      " '0.822' '0.612' '0.692' '0.684' '0.874' '0.804' '0.696' '0.610' '0.718'\n",
      " '0.732' '0.720' '0.748' '0.796' '0.736' '0.820' '0.808' '0.756' '0.776'\n",
      " '0.806' '0.764' '0.818' '0.770' '0.758' '0.858' '0.860' '0.850' '0.752'\n",
      " '0.714' '0.840' '0.830' '0.838' '0.738' '0.828' '0.740' '0.746' '0.988'\n",
      " '0.966' '0.960' '0.956' '0.854' '0.912' '0.734' '0.728' '0.826' '0.880'\n",
      " '0.878' '0.876' '0.930' '0.986' '0.972' '0.946' '0.902' '1.046' '1.148'\n",
      " '1.054' '0.890' '0.668' '1.092' '0.996' '0.974' '1.040' '1.060' '1.028'\n",
      " '0.908' '0.898' '0.950' '0.964' '0.940' '0.928' '0.896' '0.868' '0.870'\n",
      " '0.866' '0.864' '0.872' '0.812' '0.836' '0.824' '0.814' '0.762' '0.994'\n",
      " '1.032' '0.816' '0.944' '0.968' '0.916' '1.014' '1.008' '1.002' '0.810'\n",
      " '1.000' '1.006' '1.012' '1.034' '0.852' '0.924' '0.942' '0.982' '0.906'\n",
      " '0.932' '0.914' '0.846' '0.844' '1.222' '1.190' '1.180' '1.118' '1.082'\n",
      " '1.080' '0.910' '1.102' '1.274' '1.364' '1.390' '0.918' '1.198' '1.192'\n",
      " '0.936' '0.954' '0.980' '0.990' '0.904' '0.798' '0.766' '1.090' '1.016'\n",
      " '0.922' '1.036' '0.892' '0.894' '0.900' '0.886' '1.096' '0.920' '0.962'\n",
      " '0.958' '0.998' '1.044' '1.048' '0.938' '0.934' '1.130' '1.218' '0.888'\n",
      " '0.882' '1.156' '1.024' '1.088' '1.084' '1.076' '1.066' '1.070' '1.240'\n",
      " '0.926' '0.952' '0.884' '1.186' '1.108' '1.030' '1.020' '0.978' '0.970'\n",
      " '0.948' '1.064' '1.078' '1.074' '1.124' '1.018' '0.976' '1.038' '1.094'\n",
      " '1.100' '1.026' 0.0 0.084 0.086 0.088 0.082 0.07 0.062 0.064 0.06 0.066\n",
      " 0.046 0.076 0.078 0.048 0.08 0.068 0.072 0.16 0.188 0.102 0.216 0.214\n",
      " 0.212 0.094 0.058 0.334 0.408 0.4 0.47 0.56 0.634 0.638 0.64 0.65 0.656\n",
      " 0.574 0.242 0.232 0.23 0.15 0.074 0.22 0.278 0.322 0.32 0.324 0.254 0.204\n",
      " 0.154 0.218 0.112 0.2 0.196 0.126 0.056 0.05 0.052 0.092 0.09 0.054 0.114\n",
      " 0.116 0.11 0.108 0.104 0.1 0.106 0.096 0.098 0.146 0.332 0.314 0.236 0.54\n",
      " 0.466 0.458 0.424 0.33 0.328 0.318 0.298 0.302 0.306 0.3 0.29 0.198 0.206\n",
      " 0.122 0.21 0.24 0.312 0.31 0.316 0.296 0.19 0.194 0.144 0.304 0.398 0.454\n",
      " 0.444 0.376 0.374 0.378 0.294 0.138 0.336 0.342 0.34 0.338 0.244 0.228\n",
      " 0.234 0.222 0.308 0.286 0.202 0.208 0.17 0.136 0.266 0.264 0.268 0.256\n",
      " 0.26 0.262 0.258 0.25 0.18 0.134 0.284 0.344 0.348 0.174 0.248 0.246\n",
      " 0.238 0.226 0.164 0.224 0.184 0.142 0.132 0.128 0.148 0.13 0.124 0.12\n",
      " 0.158 0.252 0.272 0.192 0.182 0.288 0.382 0.166 0.162 0.118 0.186 0.406\n",
      " 0.478 0.156 0.14 0.152 0.326 0.366 0.5 0.506 0.514 0.518 0.524 0.52 0.528\n",
      " 0.526 0.522 0.178 0.176 0.168 0.172 0.422 0.556 0.492 0.426 0.558 0.776\n",
      " 0.87 0.83 0.744 0.486 0.396 0.362 0.356 0.358 0.372 0.37 0.276 0.274\n",
      " 0.282 0.27 0.412 0.472 0.438 0.434 0.436 0.428 0.364 0.414 0.55 0.652\n",
      " 0.646 0.644 0.648 0.554 0.392 0.368 0.354 0.394 0.39 0.292 0.826 0.912\n",
      " 0.9 1.012 0.442 0.828 0.956 0.914 1.066 1.108 0.894 0.844 0.758 0.756\n",
      " 0.468 0.72 0.738 0.734 0.552 0.534 0.388 0.474 0.622 0.642 0.624 0.626\n",
      " 0.35 0.494 0.46 0.38 0.36 0.548 0.542 0.546 0.544 0.504 0.41 0.402 0.28\n",
      " 0.416 0.432 0.43 0.564 0.404 0.456 0.464 0.532 0.6 0.598 0.576 0.578\n",
      " 0.582 0.462 0.476 0.508 0.352 0.512 0.51 0.516 0.418 0.42 0.536 0.384\n",
      " 0.452 0.448 0.45 0.386 0.346 0.572 0.654 0.662 0.658 0.664 0.668 0.636\n",
      " 0.606 0.77 0.618 0.82 0.818 0.71 0.588 0.58 0.584 0.496 0.502 0.482 0.48\n",
      " 0.498 0.488 0.632 0.484 0.568 0.566 0.614 0.66 0.762 0.764 0.628 0.604\n",
      " 0.686 0.7 0.698 0.704 0.49 0.84 0.834 0.726 0.716 0.708 0.706 0.712 0.44\n",
      " 0.538 0.732 0.674 0.562 0.666 0.586 0.67 0.672 0.728 0.74 0.62 0.79 0.592\n",
      " 0.57 0.602 0.722 0.724 0.68 0.59 0.594 0.808 0.802 0.772 0.446 0.684\n",
      " 0.678 0.796 0.798 0.696 0.692 0.69]\n",
      "Unique values in Voltage:\n",
      "['234.840' '233.630' '233.290' ... 228.57 229.09 230.31]\n",
      "Unique values in Global_intensity:\n",
      "['18.400' '23.000' '15.800' '15.000' '19.600' '23.200' '22.400' '22.600'\n",
      " '17.600' '14.200' '13.800' '14.400' '16.400' '25.400' '33.200' '30.600'\n",
      " '22.000' '19.400' '13.600' '13.400' '11.600' '19.200' '10.400' '11.800'\n",
      " '11.000' '21.000' '26.200' '29.000' '27.800' '27.000' '19.000' '9.600'\n",
      " '10.000' '21.400' '17.800' '12.000' '12.400' '15.200' '20.800' '15.600'\n",
      " '26.400' '18.800' '13.000' '9.800' '9.200' '13.200' '18.000' '10.800'\n",
      " '10.600' '18.200' '17.000' '17.400' '14.800' '14.600' '15.400' '14.000'\n",
      " '8.400' '9.400' '7.800' '8.200' '8.600' '11.400' '12.600' '9.000' '7.600'\n",
      " '12.800' '7.400' '5.600' '4.600' '7.200' '1.600' '2.400' '2.800' '1.200'\n",
      " '4.400' '4.000' '10.200' '6.800' '5.200' '6.000' '6.600' '8.000' '2.000'\n",
      " '4.800' '5.400' '16.600' '3.000' '1.800' '8.800' '1.400' '21.800'\n",
      " '20.200' '16.000' '18.600' '16.800' '11.200' '2.600' '16.200' '4.200'\n",
      " '7.000' '3.800' '3.200' '5.000' '3.600' '0.800' '5.800' '1.000' '6.400'\n",
      " '6.200' '3.400' '2.200' '12.200' '30.000' '29.400' '28.200' '25.800'\n",
      " '20.000' '24.800' '24.600' '25.200' '25.000' '23.400' '23.800' '20.600'\n",
      " '21.600' '19.800' '20.400' '26.600' '17.200' '21.200' '23.600' '29.200'\n",
      " '33.600' '28.000' '30.200' '33.400' '24.200' '24.000' '22.200' '24.400'\n",
      " '22.800' '?' '30.400' '34.200' '32.800' '33.000' '32.600' '31.600'\n",
      " '28.600' '25.600' '31.000' '28.400' '27.200' '29.800' '29.600' '37.000'\n",
      " '36.800' '32.400' '27.400' '35.000' '34.800' '32.200' '26.000' '35.200'\n",
      " '36.200' '27.600' '26.800' '34.400' '31.400' '30.800' '31.200' '39.000'\n",
      " '39.200' '39.400' '28.800' '38.800' '35.600' '32.000' '33.800' '36.000'\n",
      " '37.200' '34.000' '31.800' '36.600' '40.400' '37.400' '38.200' '36.400'\n",
      " '35.400' '34.600' '35.800' '38.000' '40.200' '41.000' '41.400' '41.200'\n",
      " '41.800' '38.600' '44.400' '46.400' '43.200' '39.800' '40.800' '0.600'\n",
      " '0.400' '37.800' '40.600' '38.400' '42.000' '42.200' '39.600' '42.600'\n",
      " '44.200' '37.600' '40.000' '0.200' '44.600' '43.400' '43.000' '45.800'\n",
      " '48.400' 2.6 2.4 2.2 1.6 1.4 1.8 2.0 4.0 4.4 5.0 5.4 5.6 5.8 2.8 3.0 3.2\n",
      " 6.0 6.2 6.4 6.6 3.4 7.8 7.4 8.0 4.2 1.2 1.0 13.6 15.6 9.0 3.8 4.8 4.6 3.6\n",
      " 7.0 6.8 11.8 10.8 10.2 10.4 10.6 10.0 9.8 8.4 8.2 8.6 9.4 11.0 11.2 11.6\n",
      " 7.2 8.8 9.2 7.6 16.6 16.2 15.8 9.6 15.4 14.2 18.6 18.8 16.0 16.4 11.4\n",
      " 12.0 14.8 13.2 14.0 19.0 22.4 22.2 20.6 14.6 13.4 12.2 12.4 12.6 13.8\n",
      " 12.8 14.4 15.2 5.2 17.0 17.8 21.6 15.0 20.8 17.2 16.8 13.0 19.2 21.4 19.8\n",
      " 19.4 20.0 18.0 17.6 18.4 20.4 20.2 21.0 19.6 22.0 23.4 24.6 24.8 25.8\n",
      " 25.0 25.2 25.4 26.4 34.0 33.8 33.0 23.6 25.6 24.4 17.4 23.8 24.2 18.2\n",
      " 21.2 23.0 27.8 28.8 22.8 26.8 21.8 22.6 26.6 27.0 28.0 28.2 24.0 29.4\n",
      " 31.6 33.2 30.4 30.6 31.0 37.2 43.0 42.8 38.2 27.2 29.2 30.2 29.6 27.6\n",
      " 30.0 29.0 28.4 27.4 23.2 26.0]\n",
      "Unique values in Sub_metering_1:\n",
      "['0.000' '1.000' '2.000' '6.000' '37.000' '36.000' '38.000' '25.000'\n",
      " '12.000' '11.000' '9.000' '4.000' '33.000' '5.000' '34.000' '8.000'\n",
      " '26.000' '27.000' '15.000' '20.000' '21.000' '23.000' '16.000' '10.000'\n",
      " '39.000' '32.000' '?' '19.000' '35.000' '30.000' '40.000' '7.000'\n",
      " '31.000' '17.000' '3.000' '29.000' '24.000' '14.000' '41.000' '53.000'\n",
      " '76.000' '75.000' '77.000' '74.000' '28.000' '68.000' '58.000' '62.000'\n",
      " '13.000' '18.000' '22.000' '64.000' '71.000' '56.000' '72.000' '45.000'\n",
      " '42.000' '59.000' '66.000' '43.000' '44.000' '48.000' '46.000' '73.000'\n",
      " '55.000' '60.000' '70.000' '63.000' '67.000' '47.000' '65.000' '51.000'\n",
      " '50.000' '69.000' '78.000' '57.000' '49.000' '61.000' '52.000' '54.000'\n",
      " '79.000' '80.000' '81.000' '82.000' '83.000' '84.000' '88.000' '86.000'\n",
      " '87.000' 0.0 1.0 2.0 40.0 39.0 9.0 10.0 34.0 25.0 38.0 37.0 23.0 33.0\n",
      " 32.0 27.0 24.0 22.0 21.0 20.0 18.0 19.0 13.0 31.0 29.0 17.0 16.0 15.0\n",
      " 14.0 3.0 42.0 12.0 28.0 36.0 47.0 48.0 5.0 35.0 4.0 6.0 11.0 53.0 54.0\n",
      " 52.0 43.0 63.0 76.0 80.0 81.0 72.0 60.0 79.0 70.0 45.0 30.0 44.0 46.0 8.0\n",
      " 26.0 49.0 7.0 51.0 41.0 50.0 57.0]\n",
      "Unique values in Sub_metering_2:\n",
      "['1.000' '2.000' '0.000' '16.000' '37.000' '36.000' '22.000' '12.000'\n",
      " '27.000' '20.000' '9.000' '4.000' '3.000' '5.000' '13.000' '35.000'\n",
      " '28.000' '26.000' '24.000' '21.000' '17.000' '33.000' '25.000' '23.000'\n",
      " '18.000' '30.000' '31.000' '7.000' '38.000' '29.000' '50.000' '71.000'\n",
      " '59.000' '62.000' '70.000' '40.000' '34.000' '8.000' '15.000' '6.000'\n",
      " '32.000' '19.000' '14.000' '49.000' '72.000' '73.000' '61.000' '39.000'\n",
      " '42.000' '10.000' '56.000' '11.000' '?' '43.000' '67.000' '63.000'\n",
      " '53.000' '65.000' '52.000' '69.000' '48.000' '74.000' '41.000' '47.000'\n",
      " '58.000' '68.000' '64.000' '75.000' '46.000' '57.000' '60.000' '66.000'\n",
      " '44.000' '78.000' '77.000' '76.000' '51.000' '55.000' '45.000' '54.000'\n",
      " '79.000' '80.000' 0.0 1.0 2.0 36.0 40.0 39.0 41.0 23.0 10.0 6.0 5.0 18.0\n",
      " 37.0 28.0 38.0 9.0 13.0 26.0 31.0 30.0 24.0 4.0 3.0 16.0 32.0 12.0 35.0\n",
      " 56.0 64.0 73.0 72.0 74.0 75.0 71.0 21.0 8.0 20.0 7.0 33.0 34.0 60.0 22.0\n",
      " 19.0 42.0 43.0 69.0 49.0 27.0 65.0 62.0 25.0 17.0 11.0 70.0 63.0 29.0\n",
      " 54.0 61.0 68.0 66.0 67.0 51.0 15.0]\n"
     ]
    }
   ],
   "source": [
    "# Identify non-numeric values in each column\n",
    "for column in ['Global_active_power', 'Global_reactive_power', 'Voltage', 'Global_intensity', 'Sub_metering_1', 'Sub_metering_2']:\n",
    "    print(f\"Unique values in {column}:\")\n",
    "    print(df[column].unique())\n"
   ]
  },
  {
   "cell_type": "code",
   "execution_count": null,
   "metadata": {
    "id": "pbzck0Y9jcew"
   },
   "outputs": [],
   "source": [
    "import numpy as np\n",
    "from sklearn.impute import SimpleImputer\n",
    "\n",
    "skdf = SimpleImputer(missing_values=np.nan,strategy='median')\n",
    "skdf.fit_transform(df['Sub_metering_1'])"
   ]
  },
  {
   "cell_type": "code",
   "execution_count": null,
   "metadata": {
    "id": "jXo-oPPAjcex",
    "outputId": "2f41843c-6a8f-468c-fc27-90c9dae96113"
   },
   "outputs": [
    {
     "data": {
      "text/plain": [
       "Global_active_power             float64\n",
       "Global_reactive_power           float64\n",
       "Voltage                         float64\n",
       "Global_intensity                float64\n",
       "Sub_metering_1                  float64\n",
       "Sub_metering_2                  float64\n",
       "Sub_metering_3                  float64\n",
       "datetime                 datetime64[ns]\n",
       "dtype: object"
      ]
     },
     "execution_count": 11,
     "metadata": {},
     "output_type": "execute_result"
    }
   ],
   "source": [
    "df.dtypes"
   ]
  },
  {
   "cell_type": "code",
   "execution_count": null,
   "metadata": {
    "id": "7wxFkeQRjcex",
    "outputId": "d2b57a6e-8eb5-4498-ef24-ee6212d34040"
   },
   "outputs": [
    {
     "data": {
      "image/png": "[encoded data removed]",
      "text/plain": [
       "<Figure size 640x480 with 1 Axes>"
      ]
     },
     "metadata": {},
     "output_type": "display_data"
    }
   ],
   "source": [
    "import matplotlib.pyplot as plt\n",
    "import seaborn as sns\n",
    "\n",
    "sns.histplot(df['Global_active_power'],kde=True,bins=30)\n",
    "plt.title('Distrubution of active power')\n",
    "plt.show()"
   ]
  },
  {
   "cell_type": "code",
   "execution_count": null,
   "metadata": {
    "id": "QXAGtgpqjcex",
    "outputId": "6eaa0be3-3143-458f-96b5-a3b7c9b6dd2b"
   },
   "outputs": [
    {
     "data": {
      "image/png": "[encoded data removed]",
      "text/plain": [
       "<Figure size 1200x800 with 1 Axes>"
      ]
     },
     "metadata": {},
     "output_type": "display_data"
    }
   ],
   "source": [
    "plt.figure(figsize=(12, 8))\n",
    "sns.set_style(\"whitegrid\")\n",
    "sns.histplot(data=df, x='Global_active_power', hue='Month', kde=True, bins=30, palette='tab10', multiple='stack')\n",
    "plt.title('Distribution of Active Power by Month', fontsize=16)\n",
    "plt.xlabel('Global Active Power', fontsize=12)\n",
    "plt.ylabel('Density', fontsize=12)\n",
    "plt.show()"
   ]
  },
  {
   "cell_type": "code",
   "execution_count": null,
   "metadata": {
    "id": "H95wdhMwjcex",
    "outputId": "e64b8e3f-b5de-483a-c029-e31f75636ceb"
   },
   "outputs": [
    {
     "data": {
      "image/png": "[encoded data removed]",
      "text/plain": [
       "<Figure size 640x480 with 2 Axes>"
      ]
     },
     "metadata": {},
     "output_type": "display_data"
    }
   ],
   "source": [
    "sns.heatmap(df.corr(),annot=True,cmap='coolwarm')\n",
    "plt.title('Correlation')\n",
    "plt.show()"
   ]
  },
  {
   "cell_type": "code",
   "execution_count": null,
   "metadata": {
    "id": "_dJ-aqu5jcex",
    "outputId": "c1ea16a8-6a42-4aa0-b9b3-1328d3d46bb5"
   },
   "outputs": [
    {
     "data": {
      "image/png": "[encoded data removed]",
      "text/plain": [
       "<Figure size 640x480 with 1 Axes>"
      ]
     },
     "metadata": {},
     "output_type": "display_data"
    }
   ],
   "source": [
    "plt.scatter(df['Global_reactive_power'],df['Global_active_power'])\n",
    "plt.title('voltage vs power')\n",
    "plt.xlabel('Voltage')\n",
    "plt.ylabel('Active Power')\n",
    "plt.show()"
   ]
  },
  {
   "cell_type": "code",
   "execution_count": null,
   "metadata": {
    "id": "ShzsQfvEjcex",
    "outputId": "68dbccd1-9d52-48fc-9fae-943fa390cbb6"
   },
   "outputs": [
    {
     "data": {
      "image/png": "[encoded data removed]",
      "text/plain": [
       "<Figure size 640x480 with 1 Axes>"
      ]
     },
     "metadata": {},
     "output_type": "display_data"
    }
   ],
   "source": [
    "plt.Figure(figsize=(12,6))\n",
    "plt.plot(df['Month'],df['Global_active_power'],label = 'Active power')\n",
    "plt.title('Active power over time')\n",
    "plt.xlabel('date')\n",
    "plt.ylabel('active power')\n",
    "plt.legend()\n",
    "plt.show()"
   ]
  },
  {
   "cell_type": "code",
   "execution_count": null,
   "metadata": {
    "id": "bgHu8cyxjcex",
    "outputId": "9ec0e6a3-f991-4f06-98a2-0a850cc6f738"
   },
   "outputs": [
    {
     "data": {
      "image/png": "[encoded data removed]",
      "text/plain": [
       "<Figure size 640x480 with 1 Axes>"
      ]
     },
     "metadata": {},
     "output_type": "display_data"
    }
   ],
   "source": [
    "sns.boxplot(x= df['Global_active_power'])\n",
    "plt.title('active power')\n",
    "plt.show()"
   ]
  },
  {
   "cell_type": "markdown",
   "metadata": {
    "id": "h7IUTXrdjcex"
   },
   "source": [
    "# outlier detection and correction"
   ]
  },
  {
   "cell_type": "code",
   "execution_count": null,
   "metadata": {
    "id": "MmTpzMp7jcey",
    "outputId": "8d3dd136-1251-4cc5-8be5-3556c08e6e66"
   },
   "outputs": [
    {
     "name": "stdout",
     "output_type": "stream",
     "text": [
      "(array([      1,       2,       3, ..., 2073027, 2073028, 2074409],\n",
      "      shape=(36949,)),)\n"
     ]
    }
   ],
   "source": [
    "import numpy as np\n",
    "from scipy.stats import zscore\n",
    "\n",
    "# df['Global_active_power'] = df['Global_active_power'].fillna(df['Global_active_power'].median())\n",
    "# num_col = df.select_dtypes(include=[np.number]).columns\n",
    "z_score = zscore(df['Global_active_power'])\n",
    "ouliers = np.where(np.abs(z_score)>3)\n",
    "outlier_count = len(ouliers[0])\n",
    "print(ouliers)\n"
   ]
  },
  {
   "cell_type": "code",
   "execution_count": 8,
   "metadata": {
    "executionInfo": {
     "elapsed": 596,
     "status": "ok",
     "timestamp": 1735629667495,
     "user": {
      "displayName": "Selva Keerthana (SK)",
      "userId": "12348877326798778598"
     },
     "user_tz": -330
    },
    "id": "Q33PHdysjcey"
   },
   "outputs": [],
   "source": [
    "\n",
    "df['Hour'] = df['datetime'].dt.hour\n",
    "df['Day'] = df['datetime'].dt.dayofweek\n",
    "df['Month'] = df['datetime'].dt.month\n",
    "df['Year'] = df['datetime'].dt.year\n",
    "df['Weekday'] = df['datetime'].dt.weekday\n",
    "\n",
    "# df.drop(df['datetime'])"
   ]
  },
  {
   "cell_type": "code",
   "execution_count": null,
   "metadata": {
    "id": "Bll29PB8jcey",
    "outputId": "6d9a8ddf-47d6-4339-8de1-8bbc90d061f1"
   },
   "outputs": [
    {
     "data": {
      "text/html": [
       "<div>\n",
       "<style scoped>\n",
       "    .dataframe tbody tr th:only-of-type {\n",
       "        vertical-align: middle;\n",
       "    }\n",
       "\n",
       "    .dataframe tbody tr th {\n",
       "        vertical-align: top;\n",
       "    }\n",
       "\n",
       "    .dataframe thead th {\n",
       "        text-align: right;\n",
       "    }\n",
       "</style>\n",
       "<table border=\"1\" class=\"dataframe\">\n",
       "  <thead>\n",
       "    <tr style=\"text-align: right;\">\n",
       "      <th></th>\n",
       "      <th>Global_active_power</th>\n",
       "      <th>Global_reactive_power</th>\n",
       "      <th>Voltage</th>\n",
       "      <th>Sub_metering_1</th>\n",
       "      <th>Sub_metering_2</th>\n",
       "      <th>Sub_metering_3</th>\n",
       "      <th>datetime</th>\n",
       "      <th>Hour</th>\n",
       "      <th>Day</th>\n",
       "      <th>Month</th>\n",
       "      <th>Year</th>\n",
       "      <th>Weekday</th>\n",
       "      <th>daily_avg</th>\n",
       "      <th>Peak_Hours</th>\n",
       "      <th>7_day_avg</th>\n",
       "    </tr>\n",
       "  </thead>\n",
       "  <tbody>\n",
       "    <tr>\n",
       "      <th>0</th>\n",
       "      <td>3.335</td>\n",
       "      <td>233.26</td>\n",
       "      <td>234.84</td>\n",
       "      <td>0.0</td>\n",
       "      <td>1.0</td>\n",
       "      <td>2.5</td>\n",
       "      <td>2006-12-16 17:24:00</td>\n",
       "      <td>17</td>\n",
       "      <td>5</td>\n",
       "      <td>12</td>\n",
       "      <td>2006</td>\n",
       "      <td>5</td>\n",
       "      <td>1.163355</td>\n",
       "      <td>0</td>\n",
       "      <td>NaN</td>\n",
       "    </tr>\n",
       "    <tr>\n",
       "      <th>1</th>\n",
       "      <td>3.335</td>\n",
       "      <td>233.26</td>\n",
       "      <td>233.63</td>\n",
       "      <td>0.0</td>\n",
       "      <td>1.0</td>\n",
       "      <td>2.5</td>\n",
       "      <td>2006-12-16 17:25:00</td>\n",
       "      <td>17</td>\n",
       "      <td>5</td>\n",
       "      <td>12</td>\n",
       "      <td>2006</td>\n",
       "      <td>5</td>\n",
       "      <td>1.163355</td>\n",
       "      <td>0</td>\n",
       "      <td>NaN</td>\n",
       "    </tr>\n",
       "    <tr>\n",
       "      <th>2</th>\n",
       "      <td>3.335</td>\n",
       "      <td>233.26</td>\n",
       "      <td>233.29</td>\n",
       "      <td>0.0</td>\n",
       "      <td>2.0</td>\n",
       "      <td>2.5</td>\n",
       "      <td>2006-12-16 17:26:00</td>\n",
       "      <td>17</td>\n",
       "      <td>5</td>\n",
       "      <td>12</td>\n",
       "      <td>2006</td>\n",
       "      <td>5</td>\n",
       "      <td>1.163355</td>\n",
       "      <td>0</td>\n",
       "      <td>NaN</td>\n",
       "    </tr>\n",
       "    <tr>\n",
       "      <th>3</th>\n",
       "      <td>3.335</td>\n",
       "      <td>233.26</td>\n",
       "      <td>233.74</td>\n",
       "      <td>0.0</td>\n",
       "      <td>1.0</td>\n",
       "      <td>2.5</td>\n",
       "      <td>2006-12-16 17:27:00</td>\n",
       "      <td>17</td>\n",
       "      <td>5</td>\n",
       "      <td>12</td>\n",
       "      <td>2006</td>\n",
       "      <td>5</td>\n",
       "      <td>1.163355</td>\n",
       "      <td>0</td>\n",
       "      <td>NaN</td>\n",
       "    </tr>\n",
       "    <tr>\n",
       "      <th>4</th>\n",
       "      <td>3.335</td>\n",
       "      <td>233.26</td>\n",
       "      <td>235.68</td>\n",
       "      <td>0.0</td>\n",
       "      <td>1.0</td>\n",
       "      <td>2.5</td>\n",
       "      <td>2006-12-16 17:28:00</td>\n",
       "      <td>17</td>\n",
       "      <td>5</td>\n",
       "      <td>12</td>\n",
       "      <td>2006</td>\n",
       "      <td>5</td>\n",
       "      <td>1.163355</td>\n",
       "      <td>0</td>\n",
       "      <td>NaN</td>\n",
       "    </tr>\n",
       "    <tr>\n",
       "      <th>...</th>\n",
       "      <td>...</td>\n",
       "      <td>...</td>\n",
       "      <td>...</td>\n",
       "      <td>...</td>\n",
       "      <td>...</td>\n",
       "      <td>...</td>\n",
       "      <td>...</td>\n",
       "      <td>...</td>\n",
       "      <td>...</td>\n",
       "      <td>...</td>\n",
       "      <td>...</td>\n",
       "      <td>...</td>\n",
       "      <td>...</td>\n",
       "      <td>...</td>\n",
       "      <td>...</td>\n",
       "    </tr>\n",
       "    <tr>\n",
       "      <th>2075254</th>\n",
       "      <td>0.946</td>\n",
       "      <td>233.26</td>\n",
       "      <td>240.43</td>\n",
       "      <td>0.0</td>\n",
       "      <td>0.0</td>\n",
       "      <td>0.0</td>\n",
       "      <td>2010-11-26 20:58:00</td>\n",
       "      <td>20</td>\n",
       "      <td>4</td>\n",
       "      <td>11</td>\n",
       "      <td>2010</td>\n",
       "      <td>4</td>\n",
       "      <td>1.009765</td>\n",
       "      <td>1</td>\n",
       "      <td>0.945143</td>\n",
       "    </tr>\n",
       "    <tr>\n",
       "      <th>2075255</th>\n",
       "      <td>0.944</td>\n",
       "      <td>233.26</td>\n",
       "      <td>240.00</td>\n",
       "      <td>0.0</td>\n",
       "      <td>0.0</td>\n",
       "      <td>0.0</td>\n",
       "      <td>2010-11-26 20:59:00</td>\n",
       "      <td>20</td>\n",
       "      <td>4</td>\n",
       "      <td>11</td>\n",
       "      <td>2010</td>\n",
       "      <td>4</td>\n",
       "      <td>1.009765</td>\n",
       "      <td>1</td>\n",
       "      <td>0.944857</td>\n",
       "    </tr>\n",
       "    <tr>\n",
       "      <th>2075256</th>\n",
       "      <td>0.938</td>\n",
       "      <td>233.26</td>\n",
       "      <td>239.82</td>\n",
       "      <td>0.0</td>\n",
       "      <td>0.0</td>\n",
       "      <td>0.0</td>\n",
       "      <td>2010-11-26 21:00:00</td>\n",
       "      <td>21</td>\n",
       "      <td>4</td>\n",
       "      <td>11</td>\n",
       "      <td>2010</td>\n",
       "      <td>4</td>\n",
       "      <td>1.009765</td>\n",
       "      <td>1</td>\n",
       "      <td>0.944000</td>\n",
       "    </tr>\n",
       "    <tr>\n",
       "      <th>2075257</th>\n",
       "      <td>0.934</td>\n",
       "      <td>233.26</td>\n",
       "      <td>239.70</td>\n",
       "      <td>0.0</td>\n",
       "      <td>0.0</td>\n",
       "      <td>0.0</td>\n",
       "      <td>2010-11-26 21:01:00</td>\n",
       "      <td>21</td>\n",
       "      <td>4</td>\n",
       "      <td>11</td>\n",
       "      <td>2010</td>\n",
       "      <td>4</td>\n",
       "      <td>1.009765</td>\n",
       "      <td>1</td>\n",
       "      <td>0.942286</td>\n",
       "    </tr>\n",
       "    <tr>\n",
       "      <th>2075258</th>\n",
       "      <td>0.932</td>\n",
       "      <td>233.26</td>\n",
       "      <td>239.55</td>\n",
       "      <td>0.0</td>\n",
       "      <td>0.0</td>\n",
       "      <td>0.0</td>\n",
       "      <td>2010-11-26 21:02:00</td>\n",
       "      <td>21</td>\n",
       "      <td>4</td>\n",
       "      <td>11</td>\n",
       "      <td>2010</td>\n",
       "      <td>4</td>\n",
       "      <td>1.009765</td>\n",
       "      <td>1</td>\n",
       "      <td>0.940286</td>\n",
       "    </tr>\n",
       "  </tbody>\n",
       "</table>\n",
       "<p>2075259 rows × 15 columns</p>\n",
       "</div>"
      ],
      "text/plain": [
       "         Global_active_power  Global_reactive_power  Voltage  Sub_metering_1  \\\n",
       "0                      3.335                 233.26   234.84             0.0   \n",
       "1                      3.335                 233.26   233.63             0.0   \n",
       "2                      3.335                 233.26   233.29             0.0   \n",
       "3                      3.335                 233.26   233.74             0.0   \n",
       "4                      3.335                 233.26   235.68             0.0   \n",
       "...                      ...                    ...      ...             ...   \n",
       "2075254                0.946                 233.26   240.43             0.0   \n",
       "2075255                0.944                 233.26   240.00             0.0   \n",
       "2075256                0.938                 233.26   239.82             0.0   \n",
       "2075257                0.934                 233.26   239.70             0.0   \n",
       "2075258                0.932                 233.26   239.55             0.0   \n",
       "\n",
       "         Sub_metering_2  Sub_metering_3            datetime  Hour  Day  Month  \\\n",
       "0                   1.0             2.5 2006-12-16 17:24:00    17    5     12   \n",
       "1                   1.0             2.5 2006-12-16 17:25:00    17    5     12   \n",
       "2                   2.0             2.5 2006-12-16 17:26:00    17    5     12   \n",
       "3                   1.0             2.5 2006-12-16 17:27:00    17    5     12   \n",
       "4                   1.0             2.5 2006-12-16 17:28:00    17    5     12   \n",
       "...                 ...             ...                 ...   ...  ...    ...   \n",
       "2075254             0.0             0.0 2010-11-26 20:58:00    20    4     11   \n",
       "2075255             0.0             0.0 2010-11-26 20:59:00    20    4     11   \n",
       "2075256             0.0             0.0 2010-11-26 21:00:00    21    4     11   \n",
       "2075257             0.0             0.0 2010-11-26 21:01:00    21    4     11   \n",
       "2075258             0.0             0.0 2010-11-26 21:02:00    21    4     11   \n",
       "\n",
       "         Year  Weekday  daily_avg  Peak_Hours  7_day_avg  \n",
       "0        2006        5   1.163355           0        NaN  \n",
       "1        2006        5   1.163355           0        NaN  \n",
       "2        2006        5   1.163355           0        NaN  \n",
       "3        2006        5   1.163355           0        NaN  \n",
       "4        2006        5   1.163355           0        NaN  \n",
       "...       ...      ...        ...         ...        ...  \n",
       "2075254  2010        4   1.009765           1   0.945143  \n",
       "2075255  2010        4   1.009765           1   0.944857  \n",
       "2075256  2010        4   1.009765           1   0.944000  \n",
       "2075257  2010        4   1.009765           1   0.942286  \n",
       "2075258  2010        4   1.009765           1   0.940286  \n",
       "\n",
       "[2075259 rows x 15 columns]"
      ]
     },
     "execution_count": 134,
     "metadata": {},
     "output_type": "execute_result"
    }
   ],
   "source": [
    "df"
   ]
  },
  {
   "cell_type": "code",
   "execution_count": null,
   "metadata": {
    "id": "2XWNUQd8jcey",
    "outputId": "19ea09b6-c314-4448-88d1-fd221e976977"
   },
   "outputs": [
    {
     "data": {
      "text/plain": [
       "array([ 0.,  1.,  2.,  6., 37., 36., 38., 25., 12., 11.,  9.,  4., 33.,\n",
       "        5., 34.,  8., 26., 27., 15., 20., 21., 23., 16., 10., 39., 32.,\n",
       "       19., 35., 30., 40.,  7., 31., 17.,  3., 29., 24., 14., 41., 53.,\n",
       "       76., 75., 77., 74., 28., 68., 58., 62., 13., 18., 22., 64., 71.,\n",
       "       56., 72., 45., 42., 59., 66., 43., 44., 48., 46., 73., 55., 60.,\n",
       "       70., 63., 67., 47., 65., 51., 50., 69., 78., 57., 49., 61., 52.,\n",
       "       54., 79., 80., 81., 82., 83., 84., 88., 86., 87.])"
      ]
     },
     "execution_count": 95,
     "metadata": {},
     "output_type": "execute_result"
    }
   ],
   "source": [
    "df['Sub_metering_1'].unique()"
   ]
  },
  {
   "cell_type": "code",
   "execution_count": null,
   "metadata": {
    "id": "bTkPH9dajcey",
    "outputId": "60067ed3-c69d-44b2-941f-e09b9ce2e9d6"
   },
   "outputs": [
    {
     "data": {
      "text/plain": [
       "array([2006, 2007, 2008, 2009, 2010], dtype=int32)"
      ]
     },
     "execution_count": 88,
     "metadata": {},
     "output_type": "execute_result"
    }
   ],
   "source": [
    "df['Year'].unique()"
   ]
  },
  {
   "cell_type": "code",
   "execution_count": null,
   "metadata": {
    "id": "Ih5edMddjcey"
   },
   "outputs": [],
   "source": [
    "# Global_intensity and Global_active_power are highly correlated so removing Global_intensity as it is not important feature\n",
    "\n",
    "df.drop('Global_intensity',axis=1,inplace=True)"
   ]
  },
  {
   "cell_type": "code",
   "execution_count": null,
   "metadata": {
    "colab": {
     "base_uri": "https://localhost:8080/",
     "height": 617
    },
    "executionInfo": {
     "elapsed": 571,
     "status": "ok",
     "timestamp": 1735625328445,
     "user": {
      "displayName": "Selva Keerthana (SK)",
      "userId": "12348877326798778598"
     },
     "user_tz": -330
    },
    "id": "JzTdKeAljcey",
    "outputId": "776ecfc6-d85d-4136-fbe9-4465d5a96ade"
   },
   "outputs": [
    {
     "data": {
      "text/html": [
       "<div>\n",
       "<style scoped>\n",
       "    .dataframe tbody tr th:only-of-type {\n",
       "        vertical-align: middle;\n",
       "    }\n",
       "\n",
       "    .dataframe tbody tr th {\n",
       "        vertical-align: top;\n",
       "    }\n",
       "\n",
       "    .dataframe thead th {\n",
       "        text-align: right;\n",
       "    }\n",
       "</style>\n",
       "<table border=\"1\" class=\"dataframe\">\n",
       "  <thead>\n",
       "    <tr style=\"text-align: right;\">\n",
       "      <th></th>\n",
       "      <th>0</th>\n",
       "    </tr>\n",
       "  </thead>\n",
       "  <tbody>\n",
       "    <tr>\n",
       "      <th>Global_active_power</th>\n",
       "      <td>0</td>\n",
       "    </tr>\n",
       "    <tr>\n",
       "      <th>Global_reactive_power</th>\n",
       "      <td>0</td>\n",
       "    </tr>\n",
       "    <tr>\n",
       "      <th>Voltage</th>\n",
       "      <td>0</td>\n",
       "    </tr>\n",
       "    <tr>\n",
       "      <th>Global_intensity</th>\n",
       "      <td>0</td>\n",
       "    </tr>\n",
       "    <tr>\n",
       "      <th>Sub_metering_1</th>\n",
       "      <td>0</td>\n",
       "    </tr>\n",
       "    <tr>\n",
       "      <th>Sub_metering_2</th>\n",
       "      <td>0</td>\n",
       "    </tr>\n",
       "    <tr>\n",
       "      <th>Sub_metering_3</th>\n",
       "      <td>0</td>\n",
       "    </tr>\n",
       "    <tr>\n",
       "      <th>datetime</th>\n",
       "      <td>0</td>\n",
       "    </tr>\n",
       "    <tr>\n",
       "      <th>Hour</th>\n",
       "      <td>0</td>\n",
       "    </tr>\n",
       "    <tr>\n",
       "      <th>Day</th>\n",
       "      <td>0</td>\n",
       "    </tr>\n",
       "    <tr>\n",
       "      <th>Month</th>\n",
       "      <td>0</td>\n",
       "    </tr>\n",
       "    <tr>\n",
       "      <th>Year</th>\n",
       "      <td>0</td>\n",
       "    </tr>\n",
       "    <tr>\n",
       "      <th>Weekday</th>\n",
       "      <td>0</td>\n",
       "    </tr>\n",
       "    <tr>\n",
       "      <th>daily_avg</th>\n",
       "      <td>0</td>\n",
       "    </tr>\n",
       "    <tr>\n",
       "      <th>Peak_Hours</th>\n",
       "      <td>0</td>\n",
       "    </tr>\n",
       "    <tr>\n",
       "      <th>7_day_avg</th>\n",
       "      <td>6</td>\n",
       "    </tr>\n",
       "    <tr>\n",
       "      <th>Unmeasured_Active_Energy</th>\n",
       "      <td>25979</td>\n",
       "    </tr>\n",
       "  </tbody>\n",
       "</table>\n",
       "</div><br><label><b>dtype:</b> int64</label>"
      ],
      "text/plain": [
       "Global_active_power             0\n",
       "Global_reactive_power           0\n",
       "Voltage                         0\n",
       "Global_intensity                0\n",
       "Sub_metering_1                  0\n",
       "Sub_metering_2                  0\n",
       "Sub_metering_3                  0\n",
       "datetime                        0\n",
       "Hour                            0\n",
       "Day                             0\n",
       "Month                           0\n",
       "Year                            0\n",
       "Weekday                         0\n",
       "daily_avg                       0\n",
       "Peak_Hours                      0\n",
       "7_day_avg                       6\n",
       "Unmeasured_Active_Energy    25979\n",
       "dtype: int64"
      ]
     },
     "execution_count": 57,
     "metadata": {},
     "output_type": "execute_result"
    }
   ],
   "source": [
    "df.isnull().sum()"
   ]
  },
  {
   "cell_type": "code",
   "execution_count": null,
   "metadata": {
    "colab": {
     "base_uri": "https://localhost:8080/",
     "height": 287
    },
    "executionInfo": {
     "elapsed": 601,
     "status": "error",
     "timestamp": 1735624381924,
     "user": {
      "displayName": "Selva Keerthana (SK)",
      "userId": "12348877326798778598"
     },
     "user_tz": -330
    },
    "id": "nvZU2PAyRezZ",
    "outputId": "881b2562-328a-4d2e-f9e2-e03f55640af0"
   },
   "outputs": [
    {
     "ename": "ValueError",
     "evalue": "The truth value of a Series is ambiguous. Use a.empty, a.bool(), a.item(), a.any() or a.all().",
     "output_type": "error",
     "traceback": [
      "\u001b[0;31m---------------------------------------------------------------------------\u001b[0m",
      "\u001b[0;31mValueError\u001b[0m                                Traceback (most recent call last)",
      "\u001b[0;32m<ipython-input-30-e34014a39133>\u001b[0m in \u001b[0;36m<cell line: 1>\u001b[0;34m()\u001b[0m\n\u001b[0;32m----> 1\u001b[0;31m \u001b[0mprint\u001b[0m\u001b[0;34m(\u001b[0m\u001b[0mdf\u001b[0m\u001b[0;34m[\u001b[0m\u001b[0;34m[\u001b[0m\u001b[0;34m'Sub_metering_1'\u001b[0m\u001b[0;34m,\u001b[0m \u001b[0;34m'Sub_metering_2'\u001b[0m\u001b[0;34m]\u001b[0m\u001b[0;34m]\u001b[0m\u001b[0;34m.\u001b[0m\u001b[0mcorr\u001b[0m\u001b[0;34m(\u001b[0m\u001b[0mdf\u001b[0m\u001b[0;34m[\u001b[0m\u001b[0;34m'Global_active_power'\u001b[0m\u001b[0;34m]\u001b[0m\u001b[0;34m)\u001b[0m\u001b[0;34m)\u001b[0m\u001b[0;34m\u001b[0m\u001b[0;34m\u001b[0m\u001b[0m\n\u001b[0m",
      "\u001b[0;32m/usr/local/lib/python3.10/dist-packages/pandas/core/frame.py\u001b[0m in \u001b[0;36mcorr\u001b[0;34m(self, method, min_periods, numeric_only)\u001b[0m\n\u001b[1;32m  11049\u001b[0m         \u001b[0mmat\u001b[0m \u001b[0;34m=\u001b[0m \u001b[0mdata\u001b[0m\u001b[0;34m.\u001b[0m\u001b[0mto_numpy\u001b[0m\u001b[0;34m(\u001b[0m\u001b[0mdtype\u001b[0m\u001b[0;34m=\u001b[0m\u001b[0mfloat\u001b[0m\u001b[0;34m,\u001b[0m \u001b[0mna_value\u001b[0m\u001b[0;34m=\u001b[0m\u001b[0mnp\u001b[0m\u001b[0;34m.\u001b[0m\u001b[0mnan\u001b[0m\u001b[0;34m,\u001b[0m \u001b[0mcopy\u001b[0m\u001b[0;34m=\u001b[0m\u001b[0;32mFalse\u001b[0m\u001b[0;34m)\u001b[0m\u001b[0;34m\u001b[0m\u001b[0;34m\u001b[0m\u001b[0m\n\u001b[1;32m  11050\u001b[0m \u001b[0;34m\u001b[0m\u001b[0m\n\u001b[0;32m> 11051\u001b[0;31m         \u001b[0;32mif\u001b[0m \u001b[0mmethod\u001b[0m \u001b[0;34m==\u001b[0m \u001b[0;34m\"pearson\"\u001b[0m\u001b[0;34m:\u001b[0m\u001b[0;34m\u001b[0m\u001b[0;34m\u001b[0m\u001b[0m\n\u001b[0m\u001b[1;32m  11052\u001b[0m             \u001b[0mcorrel\u001b[0m \u001b[0;34m=\u001b[0m \u001b[0mlibalgos\u001b[0m\u001b[0;34m.\u001b[0m\u001b[0mnancorr\u001b[0m\u001b[0;34m(\u001b[0m\u001b[0mmat\u001b[0m\u001b[0;34m,\u001b[0m \u001b[0mminp\u001b[0m\u001b[0;34m=\u001b[0m\u001b[0mmin_periods\u001b[0m\u001b[0;34m)\u001b[0m\u001b[0;34m\u001b[0m\u001b[0;34m\u001b[0m\u001b[0m\n\u001b[1;32m  11053\u001b[0m         \u001b[0;32melif\u001b[0m \u001b[0mmethod\u001b[0m \u001b[0;34m==\u001b[0m \u001b[0;34m\"spearman\"\u001b[0m\u001b[0;34m:\u001b[0m\u001b[0;34m\u001b[0m\u001b[0;34m\u001b[0m\u001b[0m\n",
      "\u001b[0;32m/usr/local/lib/python3.10/dist-packages/pandas/core/generic.py\u001b[0m in \u001b[0;36m__nonzero__\u001b[0;34m(self)\u001b[0m\n\u001b[1;32m   1575\u001b[0m     \u001b[0;34m@\u001b[0m\u001b[0mfinal\u001b[0m\u001b[0;34m\u001b[0m\u001b[0;34m\u001b[0m\u001b[0m\n\u001b[1;32m   1576\u001b[0m     \u001b[0;32mdef\u001b[0m \u001b[0m__nonzero__\u001b[0m\u001b[0;34m(\u001b[0m\u001b[0mself\u001b[0m\u001b[0;34m)\u001b[0m \u001b[0;34m->\u001b[0m \u001b[0mNoReturn\u001b[0m\u001b[0;34m:\u001b[0m\u001b[0;34m\u001b[0m\u001b[0;34m\u001b[0m\u001b[0m\n\u001b[0;32m-> 1577\u001b[0;31m         raise ValueError(\n\u001b[0m\u001b[1;32m   1578\u001b[0m             \u001b[0;34mf\"The truth value of a {type(self).__name__} is ambiguous. \"\u001b[0m\u001b[0;34m\u001b[0m\u001b[0;34m\u001b[0m\u001b[0m\n\u001b[1;32m   1579\u001b[0m             \u001b[0;34m\"Use a.empty, a.bool(), a.item(), a.any() or a.all().\"\u001b[0m\u001b[0;34m\u001b[0m\u001b[0;34m\u001b[0m\u001b[0m\n",
      "\u001b[0;31mValueError\u001b[0m: The truth value of a Series is ambiguous. Use a.empty, a.bool(), a.item(), a.any() or a.all()."
     ]
    }
   ],
   "source": [
    "print(df[['Sub_metering_1', 'Sub_metering_2']].corr(df['Global_active_power']))\n"
   ]
  },
  {
   "cell_type": "code",
   "execution_count": 9,
   "metadata": {
    "colab": {
     "base_uri": "https://localhost:8080/"
    },
    "executionInfo": {
     "elapsed": 1865,
     "status": "ok",
     "timestamp": 1735629682001,
     "user": {
      "displayName": "Selva Keerthana (SK)",
      "userId": "12348877326798778598"
     },
     "user_tz": -330
    },
    "id": "ZhJsgCvnjcey",
    "outputId": "1929777f-ded6-48d9-ba7b-8c0022aee8b9"
   },
   "outputs": [
    {
     "name": "stdout",
     "output_type": "stream",
     "text": [
      "1.21\n",
      "96742\n",
      "0.14400000000000002\n",
      "42234\n",
      "3.8400000000000034\n",
      "54737\n"
     ]
    }
   ],
   "source": [
    "import numpy as np\n",
    "\n",
    "for column in ['Global_active_power', 'Global_reactive_power', 'Voltage']:\n",
    "    q1,q3 = np.percentile(df[column],[25,75])\n",
    "    iqr = q3-q1\n",
    "    print(iqr)\n",
    "    lb = q1 - 1.5 * iqr\n",
    "    ub = q3 + 1.5 * iqr\n",
    "    ot = [x for x in df[column] if x < lb or x > ub]\n",
    "    print(len(ot))\n",
    "    df[column] = np.clip(df[column], lb, ub)\n"
   ]
  },
  {
   "cell_type": "code",
   "execution_count": null,
   "metadata": {
    "colab": {
     "base_uri": "https://localhost:8080/"
    },
    "executionInfo": {
     "elapsed": 579,
     "status": "ok",
     "timestamp": 1735624511820,
     "user": {
      "displayName": "Selva Keerthana (SK)",
      "userId": "12348877326798778598"
     },
     "user_tz": -330
    },
    "id": "UJAi6okmR7rj",
    "outputId": "6558c1fb-e302-4d54-d491-7323b95526bf"
   },
   "outputs": [
    {
     "name": "stdout",
     "output_type": "stream",
     "text": [
      "                     Sub_metering_1  Sub_metering_2  Global_active_power\n",
      "Sub_metering_1             1.000000        0.055201             0.407738\n",
      "Sub_metering_2             0.055201        1.000000             0.351561\n",
      "Global_active_power        0.407738        0.351561             1.000000\n"
     ]
    }
   ],
   "source": [
    "print(df[['Sub_metering_1', 'Sub_metering_2','Global_active_power']].corr())\n"
   ]
  },
  {
   "cell_type": "code",
   "execution_count": null,
   "metadata": {
    "colab": {
     "base_uri": "https://localhost:8080/"
    },
    "executionInfo": {
     "elapsed": 473,
     "status": "ok",
     "timestamp": 1735624478028,
     "user": {
      "displayName": "Selva Keerthana (SK)",
      "userId": "12348877326798778598"
     },
     "user_tz": -330
    },
    "id": "rKSyiUt5Pjja",
    "outputId": "fb2cf783-84f5-43af-9c85-c10086f247a9"
   },
   "outputs": [
    {
     "name": "stdout",
     "output_type": "stream",
     "text": [
      "Sub_metering_1         56097\n",
      "Sub_metering_2         50993\n",
      "Global_active_power        0\n",
      "dtype: int64\n"
     ]
    }
   ],
   "source": [
    "from scipy.stats import zscore\n",
    "z_scores = np.abs(zscore(df[['Sub_metering_1', 'Sub_metering_2','Global_active_power']]))\n",
    "outliers = (z_scores > 3).sum(axis=0)\n",
    "print(outliers)\n"
   ]
  },
  {
   "cell_type": "code",
   "execution_count": null,
   "metadata": {
    "colab": {
     "base_uri": "https://localhost:8080/"
    },
    "executionInfo": {
     "elapsed": 527,
     "status": "ok",
     "timestamp": 1735623733816,
     "user": {
      "displayName": "Selva Keerthana (SK)",
      "userId": "12348877326798778598"
     },
     "user_tz": -330
    },
    "id": "Jr_l_x8sOnnx",
    "outputId": "1839048b-6877-4b62-d4df-831decdf7395"
   },
   "outputs": [
    {
     "name": "stdout",
     "output_type": "stream",
     "text": [
      "1.797519879409059\n"
     ]
    }
   ],
   "source": [
    "print(np.log1p(df['Global_active_power']).skew())"
   ]
  },
  {
   "cell_type": "code",
   "execution_count": null,
   "metadata": {
    "id": "GBNAxj2jjcey"
   },
   "outputs": [],
   "source": [
    "df['Sub_metering_2'] = np.clip(df['Sub_metering_2'], lb, ub)\n"
   ]
  },
  {
   "cell_type": "code",
   "execution_count": 10,
   "metadata": {
    "executionInfo": {
     "elapsed": 567,
     "status": "ok",
     "timestamp": 1735629685990,
     "user": {
      "displayName": "Selva Keerthana (SK)",
      "userId": "12348877326798778598"
     },
     "user_tz": -330
    },
    "id": "5Pt6HLicjcey"
   },
   "outputs": [],
   "source": [
    "df['daily_avg']=df.groupby('Day')['Global_active_power'].transform('mean')"
   ]
  },
  {
   "cell_type": "code",
   "execution_count": 11,
   "metadata": {
    "executionInfo": {
     "elapsed": 515,
     "status": "ok",
     "timestamp": 1735629687745,
     "user": {
      "displayName": "Selva Keerthana (SK)",
      "userId": "12348877326798778598"
     },
     "user_tz": -330
    },
    "id": "6pcRDgKvjcey"
   },
   "outputs": [],
   "source": [
    "df['Peak_Hours'] = df['Hour'].apply(lambda x: 1 if 18 <= x <= 21 else 0)\n",
    "df['7_day_avg'] = df['Global_active_power'].rolling(window=7).mean()"
   ]
  },
  {
   "cell_type": "code",
   "execution_count": 16,
   "metadata": {
    "colab": {
     "base_uri": "https://localhost:8080/"
    },
    "executionInfo": {
     "elapsed": 1053,
     "status": "ok",
     "timestamp": 1735629693166,
     "user": {
      "displayName": "Selva Keerthana (SK)",
      "userId": "12348877326798778598"
     },
     "user_tz": -330
    },
    "id": "mIkvx6e0jcey",
    "outputId": "e6b210e3-a6c5-4837-b861-67ccbcc8c70f"
   },
   "outputs": [
    {
     "name": "stdout",
     "output_type": "stream",
     "text": [
      "         Global_active_power  Unmeasured_Active_Energy\n",
      "2075254                0.946                 15.766667\n",
      "2075255                0.944                 15.733333\n",
      "2075256                0.938                 15.633333\n",
      "2075257                0.934                 15.566667\n",
      "2075258                0.932                 15.533333\n"
     ]
    }
   ],
   "source": [
    "# Ensure all required columns are present in the dataset\n",
    "if all(col in df.columns for col in ['Global_active_power', 'Sub_metering_1', 'Sub_metering_2', 'Sub_metering_3']):\n",
    "    # Calculate the unmeasured active energy\n",
    "    df['Unmeasured_Active_Energy'] = (df['Global_active_power'] * 1000 / 60) - \\\n",
    "                                     (df['Sub_metering_1'] + df['Sub_metering_2'] + df['Sub_metering_3'])\n",
    "\n",
    "    # Handle any negative values if they occur (can happen due to data anomalies)\n",
    "    df['Unmeasured_Active_Energy'] = df['Unmeasured_Active_Energy'].apply(lambda x: max(x, 0))\n",
    "\n",
    "    # Explore the new feature\n",
    "    print(df[['Global_active_power', 'Unmeasured_Active_Energy']].tail())"
   ]
  },
  {
   "cell_type": "code",
   "execution_count": null,
   "metadata": {
    "id": "u6WKDn6Bjce1",
    "outputId": "41dbf142-06cb-4fd8-bc27-951994320ba3"
   },
   "outputs": [
    {
     "data": {
      "image/png": "[encoded data removed]",
      "text/plain": [
       "<Figure size 640x480 with 1 Axes>"
      ]
     },
     "metadata": {},
     "output_type": "display_data"
    }
   ],
   "source": [
    "sns.histplot(df['Unmeasured_Active_Energy'], kde=True, bins=30, color='blue')\n",
    "plt.title('Distribution of Unmeasured Active Energy')\n",
    "plt.xlabel('Unmeasured Active Energy (Wh)')\n",
    "plt.ylabel('Frequency')\n",
    "plt.show()"
   ]
  },
  {
   "cell_type": "code",
   "execution_count": null,
   "metadata": {
    "id": "0lsu70lsjce1"
   },
   "outputs": [],
   "source": [
    "#min-max scaling to keep all the data in dataset between 0-1\n",
    "\n",
    "from sklearn.preprocessing import MinMaxScaler\n",
    "\n",
    "\n",
    "scalar = MinMaxScaler()\n",
    "df[['Global_active_power', 'Voltage','Sub_metering_1','Sub_metering_2','Sub_metering_3','Unmeasured_Active_Energy']] = scalar.fit_transform(df[['Global_active_power', 'Voltage','Sub_metering_1','Sub_metering_2','Sub_metering_3','Unmeasured_Active_Energy']])"
   ]
  },
  {
   "cell_type": "code",
   "execution_count": null,
   "metadata": {
    "colab": {
     "base_uri": "https://localhost:8080/",
     "height": 791
    },
    "executionInfo": {
     "elapsed": 571,
     "status": "ok",
     "timestamp": 1735626904775,
     "user": {
      "displayName": "Selva Keerthana (SK)",
      "userId": "12348877326798778598"
     },
     "user_tz": -330
    },
    "id": "zLhy_mabjce1",
    "outputId": "7c063cdf-1522-4c2b-eea3-2988e9d090a3"
   },
   "outputs": [
    {
     "data": {
      "application/vnd.google.colaboratory.intrinsic+json": {
       "type": "dataframe",
       "variable_name": "df"
      },
      "text/html": [
       "\n",
       "  <div id=\"df-87440b7b-cfc3-4ca8-906e-cb9afbd81de3\" class=\"colab-df-container\">\n",
       "    <div>\n",
       "<style scoped>\n",
       "    .dataframe tbody tr th:only-of-type {\n",
       "        vertical-align: middle;\n",
       "    }\n",
       "\n",
       "    .dataframe tbody tr th {\n",
       "        vertical-align: top;\n",
       "    }\n",
       "\n",
       "    .dataframe thead th {\n",
       "        text-align: right;\n",
       "    }\n",
       "</style>\n",
       "<table border=\"1\" class=\"dataframe\">\n",
       "  <thead>\n",
       "    <tr style=\"text-align: right;\">\n",
       "      <th></th>\n",
       "      <th>Global_active_power</th>\n",
       "      <th>Global_reactive_power</th>\n",
       "      <th>Voltage</th>\n",
       "      <th>Global_intensity</th>\n",
       "      <th>Sub_metering_1</th>\n",
       "      <th>Sub_metering_2</th>\n",
       "      <th>Sub_metering_3</th>\n",
       "      <th>datetime</th>\n",
       "      <th>Hour</th>\n",
       "      <th>Day</th>\n",
       "      <th>Month</th>\n",
       "      <th>Year</th>\n",
       "      <th>Weekday</th>\n",
       "      <th>daily_avg</th>\n",
       "      <th>Peak_Hours</th>\n",
       "      <th>7_day_avg</th>\n",
       "      <th>Unmeasured_Active_Energy</th>\n",
       "    </tr>\n",
       "  </thead>\n",
       "  <tbody>\n",
       "    <tr>\n",
       "      <th>0</th>\n",
       "      <td>3.335</td>\n",
       "      <td>0.408</td>\n",
       "      <td>234.84</td>\n",
       "      <td>18.4</td>\n",
       "      <td>0.0</td>\n",
       "      <td>1.0</td>\n",
       "      <td>17.0</td>\n",
       "      <td>2006-12-16 17:24:00</td>\n",
       "      <td>17</td>\n",
       "      <td>5</td>\n",
       "      <td>12</td>\n",
       "      <td>2006</td>\n",
       "      <td>5</td>\n",
       "      <td>1.174574</td>\n",
       "      <td>0</td>\n",
       "      <td>NaN</td>\n",
       "      <td>37.583333</td>\n",
       "    </tr>\n",
       "    <tr>\n",
       "      <th>1</th>\n",
       "      <td>3.335</td>\n",
       "      <td>0.408</td>\n",
       "      <td>233.63</td>\n",
       "      <td>23.0</td>\n",
       "      <td>0.0</td>\n",
       "      <td>1.0</td>\n",
       "      <td>16.0</td>\n",
       "      <td>2006-12-16 17:25:00</td>\n",
       "      <td>17</td>\n",
       "      <td>5</td>\n",
       "      <td>12</td>\n",
       "      <td>2006</td>\n",
       "      <td>5</td>\n",
       "      <td>1.174574</td>\n",
       "      <td>0</td>\n",
       "      <td>NaN</td>\n",
       "      <td>38.583333</td>\n",
       "    </tr>\n",
       "    <tr>\n",
       "      <th>2</th>\n",
       "      <td>3.335</td>\n",
       "      <td>0.408</td>\n",
       "      <td>233.29</td>\n",
       "      <td>23.0</td>\n",
       "      <td>0.0</td>\n",
       "      <td>2.0</td>\n",
       "      <td>17.0</td>\n",
       "      <td>2006-12-16 17:26:00</td>\n",
       "      <td>17</td>\n",
       "      <td>5</td>\n",
       "      <td>12</td>\n",
       "      <td>2006</td>\n",
       "      <td>5</td>\n",
       "      <td>1.174574</td>\n",
       "      <td>0</td>\n",
       "      <td>NaN</td>\n",
       "      <td>36.583333</td>\n",
       "    </tr>\n",
       "    <tr>\n",
       "      <th>3</th>\n",
       "      <td>3.335</td>\n",
       "      <td>0.408</td>\n",
       "      <td>233.74</td>\n",
       "      <td>23.0</td>\n",
       "      <td>0.0</td>\n",
       "      <td>1.0</td>\n",
       "      <td>17.0</td>\n",
       "      <td>2006-12-16 17:27:00</td>\n",
       "      <td>17</td>\n",
       "      <td>5</td>\n",
       "      <td>12</td>\n",
       "      <td>2006</td>\n",
       "      <td>5</td>\n",
       "      <td>1.174574</td>\n",
       "      <td>0</td>\n",
       "      <td>NaN</td>\n",
       "      <td>37.583333</td>\n",
       "    </tr>\n",
       "    <tr>\n",
       "      <th>4</th>\n",
       "      <td>3.335</td>\n",
       "      <td>0.408</td>\n",
       "      <td>235.68</td>\n",
       "      <td>15.8</td>\n",
       "      <td>0.0</td>\n",
       "      <td>1.0</td>\n",
       "      <td>17.0</td>\n",
       "      <td>2006-12-16 17:28:00</td>\n",
       "      <td>17</td>\n",
       "      <td>5</td>\n",
       "      <td>12</td>\n",
       "      <td>2006</td>\n",
       "      <td>5</td>\n",
       "      <td>1.174574</td>\n",
       "      <td>0</td>\n",
       "      <td>NaN</td>\n",
       "      <td>37.583333</td>\n",
       "    </tr>\n",
       "    <tr>\n",
       "      <th>...</th>\n",
       "      <td>...</td>\n",
       "      <td>...</td>\n",
       "      <td>...</td>\n",
       "      <td>...</td>\n",
       "      <td>...</td>\n",
       "      <td>...</td>\n",
       "      <td>...</td>\n",
       "      <td>...</td>\n",
       "      <td>...</td>\n",
       "      <td>...</td>\n",
       "      <td>...</td>\n",
       "      <td>...</td>\n",
       "      <td>...</td>\n",
       "      <td>...</td>\n",
       "      <td>...</td>\n",
       "      <td>...</td>\n",
       "      <td>...</td>\n",
       "    </tr>\n",
       "    <tr>\n",
       "      <th>2075254</th>\n",
       "      <td>0.946</td>\n",
       "      <td>0.000</td>\n",
       "      <td>240.43</td>\n",
       "      <td>4.0</td>\n",
       "      <td>0.0</td>\n",
       "      <td>0.0</td>\n",
       "      <td>0.0</td>\n",
       "      <td>2010-11-26 20:58:00</td>\n",
       "      <td>20</td>\n",
       "      <td>4</td>\n",
       "      <td>11</td>\n",
       "      <td>2010</td>\n",
       "      <td>4</td>\n",
       "      <td>1.012160</td>\n",
       "      <td>1</td>\n",
       "      <td>0.945143</td>\n",
       "      <td>15.766667</td>\n",
       "    </tr>\n",
       "    <tr>\n",
       "      <th>2075255</th>\n",
       "      <td>0.944</td>\n",
       "      <td>0.000</td>\n",
       "      <td>240.00</td>\n",
       "      <td>4.0</td>\n",
       "      <td>0.0</td>\n",
       "      <td>0.0</td>\n",
       "      <td>0.0</td>\n",
       "      <td>2010-11-26 20:59:00</td>\n",
       "      <td>20</td>\n",
       "      <td>4</td>\n",
       "      <td>11</td>\n",
       "      <td>2010</td>\n",
       "      <td>4</td>\n",
       "      <td>1.012160</td>\n",
       "      <td>1</td>\n",
       "      <td>0.944857</td>\n",
       "      <td>15.733333</td>\n",
       "    </tr>\n",
       "    <tr>\n",
       "      <th>2075256</th>\n",
       "      <td>0.938</td>\n",
       "      <td>0.000</td>\n",
       "      <td>239.82</td>\n",
       "      <td>3.8</td>\n",
       "      <td>0.0</td>\n",
       "      <td>0.0</td>\n",
       "      <td>0.0</td>\n",
       "      <td>2010-11-26 21:00:00</td>\n",
       "      <td>21</td>\n",
       "      <td>4</td>\n",
       "      <td>11</td>\n",
       "      <td>2010</td>\n",
       "      <td>4</td>\n",
       "      <td>1.012160</td>\n",
       "      <td>1</td>\n",
       "      <td>0.944000</td>\n",
       "      <td>15.633333</td>\n",
       "    </tr>\n",
       "    <tr>\n",
       "      <th>2075257</th>\n",
       "      <td>0.934</td>\n",
       "      <td>0.000</td>\n",
       "      <td>239.70</td>\n",
       "      <td>3.8</td>\n",
       "      <td>0.0</td>\n",
       "      <td>0.0</td>\n",
       "      <td>0.0</td>\n",
       "      <td>2010-11-26 21:01:00</td>\n",
       "      <td>21</td>\n",
       "      <td>4</td>\n",
       "      <td>11</td>\n",
       "      <td>2010</td>\n",
       "      <td>4</td>\n",
       "      <td>1.012160</td>\n",
       "      <td>1</td>\n",
       "      <td>0.942286</td>\n",
       "      <td>15.566667</td>\n",
       "    </tr>\n",
       "    <tr>\n",
       "      <th>2075258</th>\n",
       "      <td>0.932</td>\n",
       "      <td>0.000</td>\n",
       "      <td>239.55</td>\n",
       "      <td>3.8</td>\n",
       "      <td>0.0</td>\n",
       "      <td>0.0</td>\n",
       "      <td>0.0</td>\n",
       "      <td>2010-11-26 21:02:00</td>\n",
       "      <td>21</td>\n",
       "      <td>4</td>\n",
       "      <td>11</td>\n",
       "      <td>2010</td>\n",
       "      <td>4</td>\n",
       "      <td>1.012160</td>\n",
       "      <td>1</td>\n",
       "      <td>0.940286</td>\n",
       "      <td>15.533333</td>\n",
       "    </tr>\n",
       "  </tbody>\n",
       "</table>\n",
       "<p>2075259 rows × 17 columns</p>\n",
       "</div>\n",
       "    <div class=\"colab-df-buttons\">\n",
       "\n",
       "  <div class=\"colab-df-container\">\n",
       "    <button class=\"colab-df-convert\" onclick=\"convertToInteractive('df-87440b7b-cfc3-4ca8-906e-cb9afbd81de3')\"\n",
       "            title=\"Convert this dataframe to an interactive table.\"\n",
       "            style=\"display:none;\">\n",
       "\n",
       "  <svg xmlns=\"http://www.w3.org/2000/svg\" height=\"24px\" viewBox=\"0 -960 960 960\">\n",
       "    <path d=\"M120-120v-720h720v720H120Zm60-500h600v-160H180v160Zm220 220h160v-160H400v160Zm0 220h160v-160H400v160ZM180-400h160v-160H180v160Zm440 0h160v-160H620v160ZM180-180h160v-160H180v160Zm440 0h160v-160H620v160Z\"/>\n",
       "  </svg>\n",
       "    </button>\n",
       "\n",
       "  <style>\n",
       "    .colab-df-container {\n",
       "      display:flex;\n",
       "      gap: 12px;\n",
       "    }\n",
       "\n",
       "    .colab-df-convert {\n",
       "      background-color: #E8F0FE;\n",
       "      border: none;\n",
       "      border-radius: 50%;\n",
       "      cursor: pointer;\n",
       "      display: none;\n",
       "      fill: #1967D2;\n",
       "      height: 32px;\n",
       "      padding: 0 0 0 0;\n",
       "      width: 32px;\n",
       "    }\n",
       "\n",
       "    .colab-df-convert:hover {\n",
       "      background-color: #E2EBFA;\n",
       "      box-shadow: 0px 1px 2px rgba(60, 64, 67, 0.3), 0px 1px 3px 1px rgba(60, 64, 67, 0.15);\n",
       "      fill: #174EA6;\n",
       "    }\n",
       "\n",
       "    .colab-df-buttons div {\n",
       "      margin-bottom: 4px;\n",
       "    }\n",
       "\n",
       "    [theme=dark] .colab-df-convert {\n",
       "      background-color: #3B4455;\n",
       "      fill: #D2E3FC;\n",
       "    }\n",
       "\n",
       "    [theme=dark] .colab-df-convert:hover {\n",
       "      background-color: #434B5C;\n",
       "      box-shadow: 0px 1px 3px 1px rgba(0, 0, 0, 0.15);\n",
       "      filter: drop-shadow(0px 1px 2px rgba(0, 0, 0, 0.3));\n",
       "      fill: #FFFFFF;\n",
       "    }\n",
       "  </style>\n",
       "\n",
       "    <script>\n",
       "      const buttonEl =\n",
       "        document.querySelector('#df-87440b7b-cfc3-4ca8-906e-cb9afbd81de3 button.colab-df-convert');\n",
       "      buttonEl.style.display =\n",
       "        google.colab.kernel.accessAllowed ? 'block' : 'none';\n",
       "\n",
       "      async function convertToInteractive(key) {\n",
       "        const element = document.querySelector('#df-87440b7b-cfc3-4ca8-906e-cb9afbd81de3');\n",
       "        const dataTable =\n",
       "          await google.colab.kernel.invokeFunction('convertToInteractive',\n",
       "                                                    [key], {});\n",
       "        if (!dataTable) return;\n",
       "\n",
       "        const docLinkHtml = 'Like what you see? Visit the ' +\n",
       "          '<a target=\"_blank\" href=https://colab.research.google.com/notebooks/data_table.ipynb>data table notebook</a>'\n",
       "          + ' to learn more about interactive tables.';\n",
       "        element.innerHTML = '';\n",
       "        dataTable['output_type'] = 'display_data';\n",
       "        await google.colab.output.renderOutput(dataTable, element);\n",
       "        const docLink = document.createElement('div');\n",
       "        docLink.innerHTML = docLinkHtml;\n",
       "        element.appendChild(docLink);\n",
       "      }\n",
       "    </script>\n",
       "  </div>\n",
       "\n",
       "\n",
       "<div id=\"df-5eecf373-4777-4450-9e98-78d4159f00c1\">\n",
       "  <button class=\"colab-df-quickchart\" onclick=\"quickchart('df-5eecf373-4777-4450-9e98-78d4159f00c1')\"\n",
       "            title=\"Suggest charts\"\n",
       "            style=\"display:none;\">\n",
       "\n",
       "<svg xmlns=\"http://www.w3.org/2000/svg\" height=\"24px\"viewBox=\"0 0 24 24\"\n",
       "     width=\"24px\">\n",
       "    <g>\n",
       "        <path d=\"M19 3H5c-1.1 0-2 .9-2 2v14c0 1.1.9 2 2 2h14c1.1 0 2-.9 2-2V5c0-1.1-.9-2-2-2zM9 17H7v-7h2v7zm4 0h-2V7h2v10zm4 0h-2v-4h2v4z\"/>\n",
       "    </g>\n",
       "</svg>\n",
       "  </button>\n",
       "\n",
       "<style>\n",
       "  .colab-df-quickchart {\n",
       "      --bg-color: #E8F0FE;\n",
       "      --fill-color: #1967D2;\n",
       "      --hover-bg-color: #E2EBFA;\n",
       "      --hover-fill-color: #174EA6;\n",
       "      --disabled-fill-color: #AAA;\n",
       "      --disabled-bg-color: #DDD;\n",
       "  }\n",
       "\n",
       "  [theme=dark] .colab-df-quickchart {\n",
       "      --bg-color: #3B4455;\n",
       "      --fill-color: #D2E3FC;\n",
       "      --hover-bg-color: #434B5C;\n",
       "      --hover-fill-color: #FFFFFF;\n",
       "      --disabled-bg-color: #3B4455;\n",
       "      --disabled-fill-color: #666;\n",
       "  }\n",
       "\n",
       "  .colab-df-quickchart {\n",
       "    background-color: var(--bg-color);\n",
       "    border: none;\n",
       "    border-radius: 50%;\n",
       "    cursor: pointer;\n",
       "    display: none;\n",
       "    fill: var(--fill-color);\n",
       "    height: 32px;\n",
       "    padding: 0;\n",
       "    width: 32px;\n",
       "  }\n",
       "\n",
       "  .colab-df-quickchart:hover {\n",
       "    background-color: var(--hover-bg-color);\n",
       "    box-shadow: 0 1px 2px rgba(60, 64, 67, 0.3), 0 1px 3px 1px rgba(60, 64, 67, 0.15);\n",
       "    fill: var(--button-hover-fill-color);\n",
       "  }\n",
       "\n",
       "  .colab-df-quickchart-complete:disabled,\n",
       "  .colab-df-quickchart-complete:disabled:hover {\n",
       "    background-color: var(--disabled-bg-color);\n",
       "    fill: var(--disabled-fill-color);\n",
       "    box-shadow: none;\n",
       "  }\n",
       "\n",
       "  .colab-df-spinner {\n",
       "    border: 2px solid var(--fill-color);\n",
       "    border-color: transparent;\n",
       "    border-bottom-color: var(--fill-color);\n",
       "    animation:\n",
       "      spin 1s steps(1) infinite;\n",
       "  }\n",
       "\n",
       "  @keyframes spin {\n",
       "    0% {\n",
       "      border-color: transparent;\n",
       "      border-bottom-color: var(--fill-color);\n",
       "      border-left-color: var(--fill-color);\n",
       "    }\n",
       "    20% {\n",
       "      border-color: transparent;\n",
       "      border-left-color: var(--fill-color);\n",
       "      border-top-color: var(--fill-color);\n",
       "    }\n",
       "    30% {\n",
       "      border-color: transparent;\n",
       "      border-left-color: var(--fill-color);\n",
       "      border-top-color: var(--fill-color);\n",
       "      border-right-color: var(--fill-color);\n",
       "    }\n",
       "    40% {\n",
       "      border-color: transparent;\n",
       "      border-right-color: var(--fill-color);\n",
       "      border-top-color: var(--fill-color);\n",
       "    }\n",
       "    60% {\n",
       "      border-color: transparent;\n",
       "      border-right-color: var(--fill-color);\n",
       "    }\n",
       "    80% {\n",
       "      border-color: transparent;\n",
       "      border-right-color: var(--fill-color);\n",
       "      border-bottom-color: var(--fill-color);\n",
       "    }\n",
       "    90% {\n",
       "      border-color: transparent;\n",
       "      border-bottom-color: var(--fill-color);\n",
       "    }\n",
       "  }\n",
       "</style>\n",
       "\n",
       "  <script>\n",
       "    async function quickchart(key) {\n",
       "      const quickchartButtonEl =\n",
       "        document.querySelector('#' + key + ' button');\n",
       "      quickchartButtonEl.disabled = true;  // To prevent multiple clicks.\n",
       "      quickchartButtonEl.classList.add('colab-df-spinner');\n",
       "      try {\n",
       "        const charts = await google.colab.kernel.invokeFunction(\n",
       "            'suggestCharts', [key], {});\n",
       "      } catch (error) {\n",
       "        console.error('Error during call to suggestCharts:', error);\n",
       "      }\n",
       "      quickchartButtonEl.classList.remove('colab-df-spinner');\n",
       "      quickchartButtonEl.classList.add('colab-df-quickchart-complete');\n",
       "    }\n",
       "    (() => {\n",
       "      let quickchartButtonEl =\n",
       "        document.querySelector('#df-5eecf373-4777-4450-9e98-78d4159f00c1 button');\n",
       "      quickchartButtonEl.style.display =\n",
       "        google.colab.kernel.accessAllowed ? 'block' : 'none';\n",
       "    })();\n",
       "  </script>\n",
       "</div>\n",
       "\n",
       "  <div id=\"id_52c8e31d-91fd-4d85-a5ba-08f2fddac340\">\n",
       "    <style>\n",
       "      .colab-df-generate {\n",
       "        background-color: #E8F0FE;\n",
       "        border: none;\n",
       "        border-radius: 50%;\n",
       "        cursor: pointer;\n",
       "        display: none;\n",
       "        fill: #1967D2;\n",
       "        height: 32px;\n",
       "        padding: 0 0 0 0;\n",
       "        width: 32px;\n",
       "      }\n",
       "\n",
       "      .colab-df-generate:hover {\n",
       "        background-color: #E2EBFA;\n",
       "        box-shadow: 0px 1px 2px rgba(60, 64, 67, 0.3), 0px 1px 3px 1px rgba(60, 64, 67, 0.15);\n",
       "        fill: #174EA6;\n",
       "      }\n",
       "\n",
       "      [theme=dark] .colab-df-generate {\n",
       "        background-color: #3B4455;\n",
       "        fill: #D2E3FC;\n",
       "      }\n",
       "\n",
       "      [theme=dark] .colab-df-generate:hover {\n",
       "        background-color: #434B5C;\n",
       "        box-shadow: 0px 1px 3px 1px rgba(0, 0, 0, 0.15);\n",
       "        filter: drop-shadow(0px 1px 2px rgba(0, 0, 0, 0.3));\n",
       "        fill: #FFFFFF;\n",
       "      }\n",
       "    </style>\n",
       "    <button class=\"colab-df-generate\" onclick=\"generateWithVariable('df')\"\n",
       "            title=\"Generate code using this dataframe.\"\n",
       "            style=\"display:none;\">\n",
       "\n",
       "  <svg xmlns=\"http://www.w3.org/2000/svg\" height=\"24px\"viewBox=\"0 0 24 24\"\n",
       "       width=\"24px\">\n",
       "    <path d=\"M7,19H8.4L18.45,9,17,7.55,7,17.6ZM5,21V16.75L18.45,3.32a2,2,0,0,1,2.83,0l1.4,1.43a1.91,1.91,0,0,1,.58,1.4,1.91,1.91,0,0,1-.58,1.4L9.25,21ZM18.45,9,17,7.55Zm-12,3A5.31,5.31,0,0,0,4.9,8.1,5.31,5.31,0,0,0,1,6.5,5.31,5.31,0,0,0,4.9,4.9,5.31,5.31,0,0,0,6.5,1,5.31,5.31,0,0,0,8.1,4.9,5.31,5.31,0,0,0,12,6.5,5.46,5.46,0,0,0,6.5,12Z\"/>\n",
       "  </svg>\n",
       "    </button>\n",
       "    <script>\n",
       "      (() => {\n",
       "      const buttonEl =\n",
       "        document.querySelector('#id_52c8e31d-91fd-4d85-a5ba-08f2fddac340 button.colab-df-generate');\n",
       "      buttonEl.style.display =\n",
       "        google.colab.kernel.accessAllowed ? 'block' : 'none';\n",
       "\n",
       "      buttonEl.onclick = () => {\n",
       "        google.colab.notebook.generateWithVariable('df');\n",
       "      }\n",
       "      })();\n",
       "    </script>\n",
       "  </div>\n",
       "\n",
       "    </div>\n",
       "  </div>\n"
      ],
      "text/plain": [
       "         Global_active_power  Global_reactive_power  Voltage  \\\n",
       "0                      3.335                  0.408   234.84   \n",
       "1                      3.335                  0.408   233.63   \n",
       "2                      3.335                  0.408   233.29   \n",
       "3                      3.335                  0.408   233.74   \n",
       "4                      3.335                  0.408   235.68   \n",
       "...                      ...                    ...      ...   \n",
       "2075254                0.946                  0.000   240.43   \n",
       "2075255                0.944                  0.000   240.00   \n",
       "2075256                0.938                  0.000   239.82   \n",
       "2075257                0.934                  0.000   239.70   \n",
       "2075258                0.932                  0.000   239.55   \n",
       "\n",
       "         Global_intensity  Sub_metering_1  Sub_metering_2  Sub_metering_3  \\\n",
       "0                    18.4             0.0             1.0            17.0   \n",
       "1                    23.0             0.0             1.0            16.0   \n",
       "2                    23.0             0.0             2.0            17.0   \n",
       "3                    23.0             0.0             1.0            17.0   \n",
       "4                    15.8             0.0             1.0            17.0   \n",
       "...                   ...             ...             ...             ...   \n",
       "2075254               4.0             0.0             0.0             0.0   \n",
       "2075255               4.0             0.0             0.0             0.0   \n",
       "2075256               3.8             0.0             0.0             0.0   \n",
       "2075257               3.8             0.0             0.0             0.0   \n",
       "2075258               3.8             0.0             0.0             0.0   \n",
       "\n",
       "                   datetime  Hour  Day  Month  Year  Weekday  daily_avg  \\\n",
       "0       2006-12-16 17:24:00    17    5     12  2006        5   1.174574   \n",
       "1       2006-12-16 17:25:00    17    5     12  2006        5   1.174574   \n",
       "2       2006-12-16 17:26:00    17    5     12  2006        5   1.174574   \n",
       "3       2006-12-16 17:27:00    17    5     12  2006        5   1.174574   \n",
       "4       2006-12-16 17:28:00    17    5     12  2006        5   1.174574   \n",
       "...                     ...   ...  ...    ...   ...      ...        ...   \n",
       "2075254 2010-11-26 20:58:00    20    4     11  2010        4   1.012160   \n",
       "2075255 2010-11-26 20:59:00    20    4     11  2010        4   1.012160   \n",
       "2075256 2010-11-26 21:00:00    21    4     11  2010        4   1.012160   \n",
       "2075257 2010-11-26 21:01:00    21    4     11  2010        4   1.012160   \n",
       "2075258 2010-11-26 21:02:00    21    4     11  2010        4   1.012160   \n",
       "\n",
       "         Peak_Hours  7_day_avg  Unmeasured_Active_Energy  \n",
       "0                 0        NaN                 37.583333  \n",
       "1                 0        NaN                 38.583333  \n",
       "2                 0        NaN                 36.583333  \n",
       "3                 0        NaN                 37.583333  \n",
       "4                 0        NaN                 37.583333  \n",
       "...             ...        ...                       ...  \n",
       "2075254           1   0.945143                 15.766667  \n",
       "2075255           1   0.944857                 15.733333  \n",
       "2075256           1   0.944000                 15.633333  \n",
       "2075257           1   0.942286                 15.566667  \n",
       "2075258           1   0.940286                 15.533333  \n",
       "\n",
       "[2075259 rows x 17 columns]"
      ]
     },
     "execution_count": 83,
     "metadata": {},
     "output_type": "execute_result"
    }
   ],
   "source": [
    "df"
   ]
  },
  {
   "cell_type": "code",
   "execution_count": null,
   "metadata": {
    "id": "kpPP6gKCjce2",
    "outputId": "ffbbe71c-808e-412a-9cd2-33b0f8d4653e"
   },
   "outputs": [
    {
     "data": {
      "text/plain": [
       "array([ 0.,  1.,  2.,  6., 37., 36., 38., 25., 12., 11.,  9.,  4., 33.,\n",
       "        5., 34.,  8., 26., 27., 15., 20., 21., 23., 16., 10., 39., 32.,\n",
       "       19., 35., 30., 40.,  7., 31., 17.,  3., 29., 24., 14., 41., 53.,\n",
       "       76., 75., 77., 74., 28., 68., 58., 62., 13., 18., 22., 64., 71.,\n",
       "       56., 72., 45., 42., 59., 66., 43., 44., 48., 46., 73., 55., 60.,\n",
       "       70., 63., 67., 47., 65., 51., 50., 69., 78., 57., 49., 61., 52.,\n",
       "       54., 79., 80., 81., 82., 83., 84., 88., 86., 87.])"
      ]
     },
     "execution_count": 147,
     "metadata": {},
     "output_type": "execute_result"
    }
   ],
   "source": [
    "df['Sub_metering_1'].unique()"
   ]
  },
  {
   "cell_type": "code",
   "execution_count": null,
   "metadata": {
    "id": "j7O1cmo3jce2",
    "outputId": "f9a64acf-12e7-44e3-fb75-3bf9ac2cc76e"
   },
   "outputs": [
    {
     "data": {
      "image/png": "[encoded data removed]",
      "text/plain": [
       "<Figure size 1200x600 with 1 Axes>"
      ]
     },
     "metadata": {},
     "output_type": "display_data"
    }
   ],
   "source": [
    "\n",
    "plt.figure(figsize=(12, 6))\n",
    "sns.lineplot(data=df, x='Day', y='daily_avg', hue='Month', palette='tab10', marker='o')\n",
    "plt.title('Daily Average Electricity Usage by Month')\n",
    "plt.xlabel('Day', fontsize=12)\n",
    "plt.ylabel('Daily Average Usage (kW)')\n",
    "plt.legend(title='Month')\n",
    "plt.show()\n",
    "\n"
   ]
  },
  {
   "cell_type": "code",
   "execution_count": null,
   "metadata": {
    "id": "Y-HniY0tjce2",
    "outputId": "052ddb07-2a2b-4faf-e857-b7aa64c42b31"
   },
   "outputs": [
    {
     "name": "stderr",
     "output_type": "stream",
     "text": [
      "/tmp/ipykernel_12629/1410258080.py:2: FutureWarning: \n",
      "\n",
      "Passing `palette` without assigning `hue` is deprecated and will be removed in v0.14.0. Assign the `x` variable to `hue` and set `legend=False` for the same effect.\n",
      "\n",
      "  sns.boxplot(data=df, x='Weekday', y='Global_active_power', palette='pastel')\n"
     ]
    },
    {
     "data": {
      "image/png": "[encoded data removed]",
      "text/plain": [
       "<Figure size 1000x500 with 1 Axes>"
      ]
     },
     "metadata": {},
     "output_type": "display_data"
    }
   ],
   "source": [
    "\n",
    "plt.figure(figsize=(10, 5))\n",
    "sns.boxplot(data=df, x='Weekday', y='Global_active_power', palette='pastel')\n",
    "plt.title('Electricity Usage by Weekday', fontsize=16)\n",
    "plt.xlabel('Weekday', fontsize=12)\n",
    "plt.ylabel('Global Active Power (kW)', fontsize=12)\n",
    "plt.show()\n"
   ]
  },
  {
   "cell_type": "code",
   "execution_count": null,
   "metadata": {
    "id": "2XO2xnf1jce2",
    "outputId": "528cfdb2-8aed-488b-bef6-4a14225b73e8"
   },
   "outputs": [
    {
     "data": {
      "image/png": "[encoded data removed]",
      "text/plain": [
       "<Figure size 1200x600 with 1 Axes>"
      ]
     },
     "metadata": {},
     "output_type": "display_data"
    }
   ],
   "source": [
    "\n",
    "plt.figure(figsize=(12, 6))\n",
    "sns.lineplot(data=df, x='Hour', y='Global_active_power', marker='o', color='orange')\n",
    "plt.title('Electricity Usage by Hour', fontsize=16)\n",
    "plt.xlabel('Hour of the Day', fontsize=12)\n",
    "plt.ylabel('Global Active Power (kW)', fontsize=12)\n",
    "plt.show()\n"
   ]
  },
  {
   "cell_type": "code",
   "execution_count": null,
   "metadata": {
    "colab": {
     "base_uri": "https://localhost:8080/",
     "height": 211
    },
    "executionInfo": {
     "elapsed": 896,
     "status": "error",
     "timestamp": 1735480468399,
     "user": {
      "displayName": "Selva Keerthana (SK)",
      "userId": "12348877326798778598"
     },
     "user_tz": -330
    },
    "id": "F9fMhFocjce2",
    "outputId": "f34d860c-8853-45bb-9469-d0c9365215f7"
   },
   "outputs": [
    {
     "ename": "NameError",
     "evalue": "name 'plt' is not defined",
     "output_type": "error",
     "traceback": [
      "\u001b[0;31m---------------------------------------------------------------------------\u001b[0m",
      "\u001b[0;31mNameError\u001b[0m                                 Traceback (most recent call last)",
      "\u001b[0;32m<ipython-input-19-2d2557350ba0>\u001b[0m in \u001b[0;36m<cell line: 3>\u001b[0;34m()\u001b[0m\n\u001b[1;32m      1\u001b[0m df_melted = df.melt(id_vars=['datetime'], value_vars=['Sub_metering_1', 'Sub_metering_2', 'Sub_metering_3'], \n\u001b[1;32m      2\u001b[0m                     var_name='Sub_metering', value_name='Usage')\n\u001b[0;32m----> 3\u001b[0;31m \u001b[0mplt\u001b[0m\u001b[0;34m.\u001b[0m\u001b[0mfigure\u001b[0m\u001b[0;34m(\u001b[0m\u001b[0mfigsize\u001b[0m\u001b[0;34m=\u001b[0m\u001b[0;34m(\u001b[0m\u001b[0;36m12\u001b[0m\u001b[0;34m,\u001b[0m \u001b[0;36m6\u001b[0m\u001b[0;34m)\u001b[0m\u001b[0;34m)\u001b[0m\u001b[0;34m\u001b[0m\u001b[0;34m\u001b[0m\u001b[0m\n\u001b[0m\u001b[1;32m      4\u001b[0m \u001b[0msns\u001b[0m\u001b[0;34m.\u001b[0m\u001b[0mboxplot\u001b[0m\u001b[0;34m(\u001b[0m\u001b[0mdata\u001b[0m\u001b[0;34m=\u001b[0m\u001b[0mdf_melted\u001b[0m\u001b[0;34m,\u001b[0m \u001b[0mx\u001b[0m\u001b[0;34m=\u001b[0m\u001b[0;34m'Sub_metering'\u001b[0m\u001b[0;34m,\u001b[0m \u001b[0my\u001b[0m\u001b[0;34m=\u001b[0m\u001b[0;34m'Usage'\u001b[0m\u001b[0;34m)\u001b[0m\u001b[0;34m\u001b[0m\u001b[0;34m\u001b[0m\u001b[0m\n\u001b[1;32m      5\u001b[0m \u001b[0mplt\u001b[0m\u001b[0;34m.\u001b[0m\u001b[0mtitle\u001b[0m\u001b[0;34m(\u001b[0m\u001b[0;34m'Energy Usage by Sub-Metering'\u001b[0m\u001b[0;34m,\u001b[0m \u001b[0mfontsize\u001b[0m\u001b[0;34m=\u001b[0m\u001b[0;36m16\u001b[0m\u001b[0;34m)\u001b[0m\u001b[0;34m\u001b[0m\u001b[0;34m\u001b[0m\u001b[0m\n",
      "\u001b[0;31mNameError\u001b[0m: name 'plt' is not defined"
     ]
    }
   ],
   "source": [
    "\n",
    "df_melted = df.melt(id_vars=['datetime'], value_vars=['Sub_metering_1', 'Sub_metering_2', 'Sub_metering_3'],\n",
    "                    var_name='Sub_metering', value_name='Usage')\n",
    "plt.figure(figsize=(12, 6))\n",
    "sns.boxplot(data=df_melted, x='Sub_metering', y='Usage')\n",
    "plt.title('Energy Usage by Sub-Metering', fontsize=16)\n",
    "plt.xlabel('Sub Metering', fontsize=12)\n",
    "plt.ylabel('Usage (kW)', fontsize=12)\n",
    "plt.show()\n"
   ]
  },
  {
   "cell_type": "code",
   "execution_count": null,
   "metadata": {
    "id": "8p93OJcnjce2",
    "outputId": "eee2e813-3561-4568-9dad-76dd8c396b3a"
   },
   "outputs": [
    {
     "name": "stderr",
     "output_type": "stream",
     "text": [
      "/tmp/ipykernel_12629/921520640.py:4: FutureWarning: \n",
      "\n",
      "The `ci` parameter is deprecated. Use `errorbar=None` for the same effect.\n",
      "\n",
      "  sns.lineplot(data=peak_usage, x='Hour', y='Global_active_power', ci=None, marker='o', color='red')\n"
     ]
    },
    {
     "data": {
      "image/png": "[encoded data removed]",
      "text/plain": [
       "<Figure size 1200x600 with 1 Axes>"
      ]
     },
     "metadata": {},
     "output_type": "display_data"
    }
   ],
   "source": [
    "\n",
    "peak_usage = df[df['Peak_Hours'] == 1]\n",
    "\n",
    "plt.figure(figsize=(12, 6))\n",
    "sns.lineplot(data=peak_usage, x='Hour', y='Global_active_power', ci=None, marker='o', color='red')\n",
    "plt.title('Electricity Usage During Peak Hours', fontsize=16)\n",
    "plt.xlabel('Hour of the Day', fontsize=12)\n",
    "plt.ylabel('Global Active Power (kW)', fontsize=12)\n",
    "plt.show()\n"
   ]
  },
  {
   "cell_type": "code",
   "execution_count": null,
   "metadata": {
    "id": "f_4MbfvCjce2",
    "outputId": "0673f718-b10d-4282-aa21-503607842b40"
   },
   "outputs": [
    {
     "data": {
      "text/plain": [
       "array([2006, 2007, 2008, 2009, 2010], dtype=int32)"
      ]
     },
     "execution_count": 22,
     "metadata": {},
     "output_type": "execute_result"
    }
   ],
   "source": [
    "df['Year'].unique()"
   ]
  },
  {
   "cell_type": "code",
   "execution_count": 12,
   "metadata": {
    "id": "sJmjAcDCnuiE"
   },
   "outputs": [],
   "source": [
    "df['7_day_avg'].fillna(df['7_day_avg'].mean(),inplace=True)"
   ]
  },
  {
   "cell_type": "code",
   "execution_count": 13,
   "metadata": {
    "colab": {
     "base_uri": "https://localhost:8080/"
    },
    "executionInfo": {
     "elapsed": 1099,
     "status": "ok",
     "timestamp": 1735630193857,
     "user": {
      "displayName": "Selva Keerthana (SK)",
      "userId": "12348877326798778598"
     },
     "user_tz": -330
    },
    "id": "7uzikGa0bhO2",
    "outputId": "29dd5da8-4a72-4d33-d1c4-04f28c1eddac"
   },
   "outputs": [
    {
     "name": "stdout",
     "output_type": "stream",
     "text": [
      "   Global_active_power  Global_reactive_power  Voltage  Global_intensity  \\\n",
      "0                3.335                  0.408   234.84              18.4   \n",
      "1                3.335                  0.408   233.63              23.0   \n",
      "2                3.335                  0.408   233.29              23.0   \n",
      "3                3.335                  0.408   233.74              23.0   \n",
      "4                3.335                  0.408   235.68              15.8   \n",
      "\n",
      "   Sub_metering_1  Sub_metering_2  Sub_metering_3            datetime  Hour  \\\n",
      "0             0.0             1.0            17.0 2006-12-16 17:24:00    17   \n",
      "1             0.0             1.0            16.0 2006-12-16 17:25:00    17   \n",
      "2             0.0             2.0            17.0 2006-12-16 17:26:00    17   \n",
      "3             0.0             1.0            17.0 2006-12-16 17:27:00    17   \n",
      "4             0.0             1.0            17.0 2006-12-16 17:28:00    17   \n",
      "\n",
      "   Day  ...  Year  Weekday  daily_avg  Peak_Hours  7_day_avg  \\\n",
      "0    5  ...  2006        5   1.174574           0   1.047374   \n",
      "1    5  ...  2006        5   1.174574           0   1.047374   \n",
      "2    5  ...  2006        5   1.174574           0   1.047374   \n",
      "3    5  ...  2006        5   1.174574           0   1.047374   \n",
      "4    5  ...  2006        5   1.174574           0   1.047374   \n",
      "\n",
      "   Global_active_power_scaled  Voltage_scaled  Sub_metering_1_scaled  \\\n",
      "0                    2.520642       -1.936955              -0.181154   \n",
      "1                    2.520642       -2.325930              -0.181154   \n",
      "2                    2.520642       -2.435228              -0.181154   \n",
      "3                    2.520642       -2.290569              -0.181154   \n",
      "4                    2.520642       -1.666923              -0.181154   \n",
      "\n",
      "   Sub_metering_2_scaled  Sub_metering_3_scaled  \n",
      "0              -0.048773               1.257315  \n",
      "1              -0.048773               1.138043  \n",
      "2               0.124020               1.257315  \n",
      "3              -0.048773               1.257315  \n",
      "4              -0.048773               1.257315  \n",
      "\n",
      "[5 rows x 21 columns]\n"
     ]
    }
   ],
   "source": [
    "from sklearn.preprocessing import StandardScaler\n",
    "\n",
    "\n",
    "df_scaled = df.copy()\n",
    "\n",
    "scaler = StandardScaler()\n",
    "\n",
    "columns_to_scale = ['Global_active_power', 'Voltage', 'Sub_metering_1', 'Sub_metering_2', 'Sub_metering_3']\n",
    "\n",
    "for col in columns_to_scale:\n",
    "    df_scaled[col + '_scaled'] = scaler.fit_transform(df[[col]])\n",
    "\n",
    "print(df_scaled.head())\n"
   ]
  },
  {
   "cell_type": "markdown",
   "metadata": {
    "id": "UAOXdAMmjce2"
   },
   "source": [
    "#Ml starts"
   ]
  },
  {
   "cell_type": "code",
   "execution_count": 24,
   "metadata": {
    "colab": {
     "base_uri": "https://localhost:8080/",
     "height": 791
    },
    "executionInfo": {
     "elapsed": 567,
     "status": "ok",
     "timestamp": 1735630092330,
     "user": {
      "displayName": "Selva Keerthana (SK)",
      "userId": "12348877326798778598"
     },
     "user_tz": -330
    },
    "id": "_MUO-4g4jce2",
    "outputId": "f79a4ec6-45a9-4202-b0d5-2f7bb0a3e53c"
   },
   "outputs": [
    {
     "data": {
      "application/vnd.google.colaboratory.intrinsic+json": {
       "type": "dataframe",
       "variable_name": "df"
      },
      "text/html": [
       "\n",
       "  <div id=\"df-724239e4-fc83-4f5e-bff6-0b51d688ba43\" class=\"colab-df-container\">\n",
       "    <div>\n",
       "<style scoped>\n",
       "    .dataframe tbody tr th:only-of-type {\n",
       "        vertical-align: middle;\n",
       "    }\n",
       "\n",
       "    .dataframe tbody tr th {\n",
       "        vertical-align: top;\n",
       "    }\n",
       "\n",
       "    .dataframe thead th {\n",
       "        text-align: right;\n",
       "    }\n",
       "</style>\n",
       "<table border=\"1\" class=\"dataframe\">\n",
       "  <thead>\n",
       "    <tr style=\"text-align: right;\">\n",
       "      <th></th>\n",
       "      <th>Global_active_power</th>\n",
       "      <th>Global_reactive_power</th>\n",
       "      <th>Voltage</th>\n",
       "      <th>Global_intensity</th>\n",
       "      <th>Sub_metering_1</th>\n",
       "      <th>Sub_metering_2</th>\n",
       "      <th>Sub_metering_3</th>\n",
       "      <th>datetime</th>\n",
       "      <th>Hour</th>\n",
       "      <th>Day</th>\n",
       "      <th>Month</th>\n",
       "      <th>Year</th>\n",
       "      <th>Weekday</th>\n",
       "      <th>daily_avg</th>\n",
       "      <th>Peak_Hours</th>\n",
       "      <th>7_day_avg</th>\n",
       "      <th>Unmeasured_Active_Energy</th>\n",
       "    </tr>\n",
       "  </thead>\n",
       "  <tbody>\n",
       "    <tr>\n",
       "      <th>0</th>\n",
       "      <td>3.335</td>\n",
       "      <td>0.408</td>\n",
       "      <td>234.84</td>\n",
       "      <td>18.4</td>\n",
       "      <td>0.0</td>\n",
       "      <td>1.0</td>\n",
       "      <td>17.0</td>\n",
       "      <td>2006-12-16 17:24:00</td>\n",
       "      <td>17</td>\n",
       "      <td>5</td>\n",
       "      <td>12</td>\n",
       "      <td>2006</td>\n",
       "      <td>5</td>\n",
       "      <td>1.174574</td>\n",
       "      <td>0</td>\n",
       "      <td>1.047374</td>\n",
       "      <td>37.583333</td>\n",
       "    </tr>\n",
       "    <tr>\n",
       "      <th>1</th>\n",
       "      <td>3.335</td>\n",
       "      <td>0.408</td>\n",
       "      <td>233.63</td>\n",
       "      <td>23.0</td>\n",
       "      <td>0.0</td>\n",
       "      <td>1.0</td>\n",
       "      <td>16.0</td>\n",
       "      <td>2006-12-16 17:25:00</td>\n",
       "      <td>17</td>\n",
       "      <td>5</td>\n",
       "      <td>12</td>\n",
       "      <td>2006</td>\n",
       "      <td>5</td>\n",
       "      <td>1.174574</td>\n",
       "      <td>0</td>\n",
       "      <td>1.047374</td>\n",
       "      <td>38.583333</td>\n",
       "    </tr>\n",
       "    <tr>\n",
       "      <th>2</th>\n",
       "      <td>3.335</td>\n",
       "      <td>0.408</td>\n",
       "      <td>233.29</td>\n",
       "      <td>23.0</td>\n",
       "      <td>0.0</td>\n",
       "      <td>2.0</td>\n",
       "      <td>17.0</td>\n",
       "      <td>2006-12-16 17:26:00</td>\n",
       "      <td>17</td>\n",
       "      <td>5</td>\n",
       "      <td>12</td>\n",
       "      <td>2006</td>\n",
       "      <td>5</td>\n",
       "      <td>1.174574</td>\n",
       "      <td>0</td>\n",
       "      <td>1.047374</td>\n",
       "      <td>36.583333</td>\n",
       "    </tr>\n",
       "    <tr>\n",
       "      <th>3</th>\n",
       "      <td>3.335</td>\n",
       "      <td>0.408</td>\n",
       "      <td>233.74</td>\n",
       "      <td>23.0</td>\n",
       "      <td>0.0</td>\n",
       "      <td>1.0</td>\n",
       "      <td>17.0</td>\n",
       "      <td>2006-12-16 17:27:00</td>\n",
       "      <td>17</td>\n",
       "      <td>5</td>\n",
       "      <td>12</td>\n",
       "      <td>2006</td>\n",
       "      <td>5</td>\n",
       "      <td>1.174574</td>\n",
       "      <td>0</td>\n",
       "      <td>1.047374</td>\n",
       "      <td>37.583333</td>\n",
       "    </tr>\n",
       "    <tr>\n",
       "      <th>4</th>\n",
       "      <td>3.335</td>\n",
       "      <td>0.408</td>\n",
       "      <td>235.68</td>\n",
       "      <td>15.8</td>\n",
       "      <td>0.0</td>\n",
       "      <td>1.0</td>\n",
       "      <td>17.0</td>\n",
       "      <td>2006-12-16 17:28:00</td>\n",
       "      <td>17</td>\n",
       "      <td>5</td>\n",
       "      <td>12</td>\n",
       "      <td>2006</td>\n",
       "      <td>5</td>\n",
       "      <td>1.174574</td>\n",
       "      <td>0</td>\n",
       "      <td>1.047374</td>\n",
       "      <td>37.583333</td>\n",
       "    </tr>\n",
       "    <tr>\n",
       "      <th>...</th>\n",
       "      <td>...</td>\n",
       "      <td>...</td>\n",
       "      <td>...</td>\n",
       "      <td>...</td>\n",
       "      <td>...</td>\n",
       "      <td>...</td>\n",
       "      <td>...</td>\n",
       "      <td>...</td>\n",
       "      <td>...</td>\n",
       "      <td>...</td>\n",
       "      <td>...</td>\n",
       "      <td>...</td>\n",
       "      <td>...</td>\n",
       "      <td>...</td>\n",
       "      <td>...</td>\n",
       "      <td>...</td>\n",
       "      <td>...</td>\n",
       "    </tr>\n",
       "    <tr>\n",
       "      <th>2075254</th>\n",
       "      <td>0.946</td>\n",
       "      <td>0.000</td>\n",
       "      <td>240.43</td>\n",
       "      <td>4.0</td>\n",
       "      <td>0.0</td>\n",
       "      <td>0.0</td>\n",
       "      <td>0.0</td>\n",
       "      <td>2010-11-26 20:58:00</td>\n",
       "      <td>20</td>\n",
       "      <td>4</td>\n",
       "      <td>11</td>\n",
       "      <td>2010</td>\n",
       "      <td>4</td>\n",
       "      <td>1.012160</td>\n",
       "      <td>1</td>\n",
       "      <td>0.945143</td>\n",
       "      <td>15.766667</td>\n",
       "    </tr>\n",
       "    <tr>\n",
       "      <th>2075255</th>\n",
       "      <td>0.944</td>\n",
       "      <td>0.000</td>\n",
       "      <td>240.00</td>\n",
       "      <td>4.0</td>\n",
       "      <td>0.0</td>\n",
       "      <td>0.0</td>\n",
       "      <td>0.0</td>\n",
       "      <td>2010-11-26 20:59:00</td>\n",
       "      <td>20</td>\n",
       "      <td>4</td>\n",
       "      <td>11</td>\n",
       "      <td>2010</td>\n",
       "      <td>4</td>\n",
       "      <td>1.012160</td>\n",
       "      <td>1</td>\n",
       "      <td>0.944857</td>\n",
       "      <td>15.733333</td>\n",
       "    </tr>\n",
       "    <tr>\n",
       "      <th>2075256</th>\n",
       "      <td>0.938</td>\n",
       "      <td>0.000</td>\n",
       "      <td>239.82</td>\n",
       "      <td>3.8</td>\n",
       "      <td>0.0</td>\n",
       "      <td>0.0</td>\n",
       "      <td>0.0</td>\n",
       "      <td>2010-11-26 21:00:00</td>\n",
       "      <td>21</td>\n",
       "      <td>4</td>\n",
       "      <td>11</td>\n",
       "      <td>2010</td>\n",
       "      <td>4</td>\n",
       "      <td>1.012160</td>\n",
       "      <td>1</td>\n",
       "      <td>0.944000</td>\n",
       "      <td>15.633333</td>\n",
       "    </tr>\n",
       "    <tr>\n",
       "      <th>2075257</th>\n",
       "      <td>0.934</td>\n",
       "      <td>0.000</td>\n",
       "      <td>239.70</td>\n",
       "      <td>3.8</td>\n",
       "      <td>0.0</td>\n",
       "      <td>0.0</td>\n",
       "      <td>0.0</td>\n",
       "      <td>2010-11-26 21:01:00</td>\n",
       "      <td>21</td>\n",
       "      <td>4</td>\n",
       "      <td>11</td>\n",
       "      <td>2010</td>\n",
       "      <td>4</td>\n",
       "      <td>1.012160</td>\n",
       "      <td>1</td>\n",
       "      <td>0.942286</td>\n",
       "      <td>15.566667</td>\n",
       "    </tr>\n",
       "    <tr>\n",
       "      <th>2075258</th>\n",
       "      <td>0.932</td>\n",
       "      <td>0.000</td>\n",
       "      <td>239.55</td>\n",
       "      <td>3.8</td>\n",
       "      <td>0.0</td>\n",
       "      <td>0.0</td>\n",
       "      <td>0.0</td>\n",
       "      <td>2010-11-26 21:02:00</td>\n",
       "      <td>21</td>\n",
       "      <td>4</td>\n",
       "      <td>11</td>\n",
       "      <td>2010</td>\n",
       "      <td>4</td>\n",
       "      <td>1.012160</td>\n",
       "      <td>1</td>\n",
       "      <td>0.940286</td>\n",
       "      <td>15.533333</td>\n",
       "    </tr>\n",
       "  </tbody>\n",
       "</table>\n",
       "<p>2075259 rows × 17 columns</p>\n",
       "</div>\n",
       "    <div class=\"colab-df-buttons\">\n",
       "\n",
       "  <div class=\"colab-df-container\">\n",
       "    <button class=\"colab-df-convert\" onclick=\"convertToInteractive('df-724239e4-fc83-4f5e-bff6-0b51d688ba43')\"\n",
       "            title=\"Convert this dataframe to an interactive table.\"\n",
       "            style=\"display:none;\">\n",
       "\n",
       "  <svg xmlns=\"http://www.w3.org/2000/svg\" height=\"24px\" viewBox=\"0 -960 960 960\">\n",
       "    <path d=\"M120-120v-720h720v720H120Zm60-500h600v-160H180v160Zm220 220h160v-160H400v160Zm0 220h160v-160H400v160ZM180-400h160v-160H180v160Zm440 0h160v-160H620v160ZM180-180h160v-160H180v160Zm440 0h160v-160H620v160Z\"/>\n",
       "  </svg>\n",
       "    </button>\n",
       "\n",
       "  <style>\n",
       "    .colab-df-container {\n",
       "      display:flex;\n",
       "      gap: 12px;\n",
       "    }\n",
       "\n",
       "    .colab-df-convert {\n",
       "      background-color: #E8F0FE;\n",
       "      border: none;\n",
       "      border-radius: 50%;\n",
       "      cursor: pointer;\n",
       "      display: none;\n",
       "      fill: #1967D2;\n",
       "      height: 32px;\n",
       "      padding: 0 0 0 0;\n",
       "      width: 32px;\n",
       "    }\n",
       "\n",
       "    .colab-df-convert:hover {\n",
       "      background-color: #E2EBFA;\n",
       "      box-shadow: 0px 1px 2px rgba(60, 64, 67, 0.3), 0px 1px 3px 1px rgba(60, 64, 67, 0.15);\n",
       "      fill: #174EA6;\n",
       "    }\n",
       "\n",
       "    .colab-df-buttons div {\n",
       "      margin-bottom: 4px;\n",
       "    }\n",
       "\n",
       "    [theme=dark] .colab-df-convert {\n",
       "      background-color: #3B4455;\n",
       "      fill: #D2E3FC;\n",
       "    }\n",
       "\n",
       "    [theme=dark] .colab-df-convert:hover {\n",
       "      background-color: #434B5C;\n",
       "      box-shadow: 0px 1px 3px 1px rgba(0, 0, 0, 0.15);\n",
       "      filter: drop-shadow(0px 1px 2px rgba(0, 0, 0, 0.3));\n",
       "      fill: #FFFFFF;\n",
       "    }\n",
       "  </style>\n",
       "\n",
       "    <script>\n",
       "      const buttonEl =\n",
       "        document.querySelector('#df-724239e4-fc83-4f5e-bff6-0b51d688ba43 button.colab-df-convert');\n",
       "      buttonEl.style.display =\n",
       "        google.colab.kernel.accessAllowed ? 'block' : 'none';\n",
       "\n",
       "      async function convertToInteractive(key) {\n",
       "        const element = document.querySelector('#df-724239e4-fc83-4f5e-bff6-0b51d688ba43');\n",
       "        const dataTable =\n",
       "          await google.colab.kernel.invokeFunction('convertToInteractive',\n",
       "                                                    [key], {});\n",
       "        if (!dataTable) return;\n",
       "\n",
       "        const docLinkHtml = 'Like what you see? Visit the ' +\n",
       "          '<a target=\"_blank\" href=https://colab.research.google.com/notebooks/data_table.ipynb>data table notebook</a>'\n",
       "          + ' to learn more about interactive tables.';\n",
       "        element.innerHTML = '';\n",
       "        dataTable['output_type'] = 'display_data';\n",
       "        await google.colab.output.renderOutput(dataTable, element);\n",
       "        const docLink = document.createElement('div');\n",
       "        docLink.innerHTML = docLinkHtml;\n",
       "        element.appendChild(docLink);\n",
       "      }\n",
       "    </script>\n",
       "  </div>\n",
       "\n",
       "\n",
       "<div id=\"df-e55e98b4-4ba5-4d48-8f09-4a8b52b981f1\">\n",
       "  <button class=\"colab-df-quickchart\" onclick=\"quickchart('df-e55e98b4-4ba5-4d48-8f09-4a8b52b981f1')\"\n",
       "            title=\"Suggest charts\"\n",
       "            style=\"display:none;\">\n",
       "\n",
       "<svg xmlns=\"http://www.w3.org/2000/svg\" height=\"24px\"viewBox=\"0 0 24 24\"\n",
       "     width=\"24px\">\n",
       "    <g>\n",
       "        <path d=\"M19 3H5c-1.1 0-2 .9-2 2v14c0 1.1.9 2 2 2h14c1.1 0 2-.9 2-2V5c0-1.1-.9-2-2-2zM9 17H7v-7h2v7zm4 0h-2V7h2v10zm4 0h-2v-4h2v4z\"/>\n",
       "    </g>\n",
       "</svg>\n",
       "  </button>\n",
       "\n",
       "<style>\n",
       "  .colab-df-quickchart {\n",
       "      --bg-color: #E8F0FE;\n",
       "      --fill-color: #1967D2;\n",
       "      --hover-bg-color: #E2EBFA;\n",
       "      --hover-fill-color: #174EA6;\n",
       "      --disabled-fill-color: #AAA;\n",
       "      --disabled-bg-color: #DDD;\n",
       "  }\n",
       "\n",
       "  [theme=dark] .colab-df-quickchart {\n",
       "      --bg-color: #3B4455;\n",
       "      --fill-color: #D2E3FC;\n",
       "      --hover-bg-color: #434B5C;\n",
       "      --hover-fill-color: #FFFFFF;\n",
       "      --disabled-bg-color: #3B4455;\n",
       "      --disabled-fill-color: #666;\n",
       "  }\n",
       "\n",
       "  .colab-df-quickchart {\n",
       "    background-color: var(--bg-color);\n",
       "    border: none;\n",
       "    border-radius: 50%;\n",
       "    cursor: pointer;\n",
       "    display: none;\n",
       "    fill: var(--fill-color);\n",
       "    height: 32px;\n",
       "    padding: 0;\n",
       "    width: 32px;\n",
       "  }\n",
       "\n",
       "  .colab-df-quickchart:hover {\n",
       "    background-color: var(--hover-bg-color);\n",
       "    box-shadow: 0 1px 2px rgba(60, 64, 67, 0.3), 0 1px 3px 1px rgba(60, 64, 67, 0.15);\n",
       "    fill: var(--button-hover-fill-color);\n",
       "  }\n",
       "\n",
       "  .colab-df-quickchart-complete:disabled,\n",
       "  .colab-df-quickchart-complete:disabled:hover {\n",
       "    background-color: var(--disabled-bg-color);\n",
       "    fill: var(--disabled-fill-color);\n",
       "    box-shadow: none;\n",
       "  }\n",
       "\n",
       "  .colab-df-spinner {\n",
       "    border: 2px solid var(--fill-color);\n",
       "    border-color: transparent;\n",
       "    border-bottom-color: var(--fill-color);\n",
       "    animation:\n",
       "      spin 1s steps(1) infinite;\n",
       "  }\n",
       "\n",
       "  @keyframes spin {\n",
       "    0% {\n",
       "      border-color: transparent;\n",
       "      border-bottom-color: var(--fill-color);\n",
       "      border-left-color: var(--fill-color);\n",
       "    }\n",
       "    20% {\n",
       "      border-color: transparent;\n",
       "      border-left-color: var(--fill-color);\n",
       "      border-top-color: var(--fill-color);\n",
       "    }\n",
       "    30% {\n",
       "      border-color: transparent;\n",
       "      border-left-color: var(--fill-color);\n",
       "      border-top-color: var(--fill-color);\n",
       "      border-right-color: var(--fill-color);\n",
       "    }\n",
       "    40% {\n",
       "      border-color: transparent;\n",
       "      border-right-color: var(--fill-color);\n",
       "      border-top-color: var(--fill-color);\n",
       "    }\n",
       "    60% {\n",
       "      border-color: transparent;\n",
       "      border-right-color: var(--fill-color);\n",
       "    }\n",
       "    80% {\n",
       "      border-color: transparent;\n",
       "      border-right-color: var(--fill-color);\n",
       "      border-bottom-color: var(--fill-color);\n",
       "    }\n",
       "    90% {\n",
       "      border-color: transparent;\n",
       "      border-bottom-color: var(--fill-color);\n",
       "    }\n",
       "  }\n",
       "</style>\n",
       "\n",
       "  <script>\n",
       "    async function quickchart(key) {\n",
       "      const quickchartButtonEl =\n",
       "        document.querySelector('#' + key + ' button');\n",
       "      quickchartButtonEl.disabled = true;  // To prevent multiple clicks.\n",
       "      quickchartButtonEl.classList.add('colab-df-spinner');\n",
       "      try {\n",
       "        const charts = await google.colab.kernel.invokeFunction(\n",
       "            'suggestCharts', [key], {});\n",
       "      } catch (error) {\n",
       "        console.error('Error during call to suggestCharts:', error);\n",
       "      }\n",
       "      quickchartButtonEl.classList.remove('colab-df-spinner');\n",
       "      quickchartButtonEl.classList.add('colab-df-quickchart-complete');\n",
       "    }\n",
       "    (() => {\n",
       "      let quickchartButtonEl =\n",
       "        document.querySelector('#df-e55e98b4-4ba5-4d48-8f09-4a8b52b981f1 button');\n",
       "      quickchartButtonEl.style.display =\n",
       "        google.colab.kernel.accessAllowed ? 'block' : 'none';\n",
       "    })();\n",
       "  </script>\n",
       "</div>\n",
       "\n",
       "  <div id=\"id_a1c6e11b-91b6-4176-8927-f1abfade87af\">\n",
       "    <style>\n",
       "      .colab-df-generate {\n",
       "        background-color: #E8F0FE;\n",
       "        border: none;\n",
       "        border-radius: 50%;\n",
       "        cursor: pointer;\n",
       "        display: none;\n",
       "        fill: #1967D2;\n",
       "        height: 32px;\n",
       "        padding: 0 0 0 0;\n",
       "        width: 32px;\n",
       "      }\n",
       "\n",
       "      .colab-df-generate:hover {\n",
       "        background-color: #E2EBFA;\n",
       "        box-shadow: 0px 1px 2px rgba(60, 64, 67, 0.3), 0px 1px 3px 1px rgba(60, 64, 67, 0.15);\n",
       "        fill: #174EA6;\n",
       "      }\n",
       "\n",
       "      [theme=dark] .colab-df-generate {\n",
       "        background-color: #3B4455;\n",
       "        fill: #D2E3FC;\n",
       "      }\n",
       "\n",
       "      [theme=dark] .colab-df-generate:hover {\n",
       "        background-color: #434B5C;\n",
       "        box-shadow: 0px 1px 3px 1px rgba(0, 0, 0, 0.15);\n",
       "        filter: drop-shadow(0px 1px 2px rgba(0, 0, 0, 0.3));\n",
       "        fill: #FFFFFF;\n",
       "      }\n",
       "    </style>\n",
       "    <button class=\"colab-df-generate\" onclick=\"generateWithVariable('df')\"\n",
       "            title=\"Generate code using this dataframe.\"\n",
       "            style=\"display:none;\">\n",
       "\n",
       "  <svg xmlns=\"http://www.w3.org/2000/svg\" height=\"24px\"viewBox=\"0 0 24 24\"\n",
       "       width=\"24px\">\n",
       "    <path d=\"M7,19H8.4L18.45,9,17,7.55,7,17.6ZM5,21V16.75L18.45,3.32a2,2,0,0,1,2.83,0l1.4,1.43a1.91,1.91,0,0,1,.58,1.4,1.91,1.91,0,0,1-.58,1.4L9.25,21ZM18.45,9,17,7.55Zm-12,3A5.31,5.31,0,0,0,4.9,8.1,5.31,5.31,0,0,0,1,6.5,5.31,5.31,0,0,0,4.9,4.9,5.31,5.31,0,0,0,6.5,1,5.31,5.31,0,0,0,8.1,4.9,5.31,5.31,0,0,0,12,6.5,5.46,5.46,0,0,0,6.5,12Z\"/>\n",
       "  </svg>\n",
       "    </button>\n",
       "    <script>\n",
       "      (() => {\n",
       "      const buttonEl =\n",
       "        document.querySelector('#id_a1c6e11b-91b6-4176-8927-f1abfade87af button.colab-df-generate');\n",
       "      buttonEl.style.display =\n",
       "        google.colab.kernel.accessAllowed ? 'block' : 'none';\n",
       "\n",
       "      buttonEl.onclick = () => {\n",
       "        google.colab.notebook.generateWithVariable('df');\n",
       "      }\n",
       "      })();\n",
       "    </script>\n",
       "  </div>\n",
       "\n",
       "    </div>\n",
       "  </div>\n"
      ],
      "text/plain": [
       "         Global_active_power  Global_reactive_power  Voltage  \\\n",
       "0                      3.335                  0.408   234.84   \n",
       "1                      3.335                  0.408   233.63   \n",
       "2                      3.335                  0.408   233.29   \n",
       "3                      3.335                  0.408   233.74   \n",
       "4                      3.335                  0.408   235.68   \n",
       "...                      ...                    ...      ...   \n",
       "2075254                0.946                  0.000   240.43   \n",
       "2075255                0.944                  0.000   240.00   \n",
       "2075256                0.938                  0.000   239.82   \n",
       "2075257                0.934                  0.000   239.70   \n",
       "2075258                0.932                  0.000   239.55   \n",
       "\n",
       "         Global_intensity  Sub_metering_1  Sub_metering_2  Sub_metering_3  \\\n",
       "0                    18.4             0.0             1.0            17.0   \n",
       "1                    23.0             0.0             1.0            16.0   \n",
       "2                    23.0             0.0             2.0            17.0   \n",
       "3                    23.0             0.0             1.0            17.0   \n",
       "4                    15.8             0.0             1.0            17.0   \n",
       "...                   ...             ...             ...             ...   \n",
       "2075254               4.0             0.0             0.0             0.0   \n",
       "2075255               4.0             0.0             0.0             0.0   \n",
       "2075256               3.8             0.0             0.0             0.0   \n",
       "2075257               3.8             0.0             0.0             0.0   \n",
       "2075258               3.8             0.0             0.0             0.0   \n",
       "\n",
       "                   datetime  Hour  Day  Month  Year  Weekday  daily_avg  \\\n",
       "0       2006-12-16 17:24:00    17    5     12  2006        5   1.174574   \n",
       "1       2006-12-16 17:25:00    17    5     12  2006        5   1.174574   \n",
       "2       2006-12-16 17:26:00    17    5     12  2006        5   1.174574   \n",
       "3       2006-12-16 17:27:00    17    5     12  2006        5   1.174574   \n",
       "4       2006-12-16 17:28:00    17    5     12  2006        5   1.174574   \n",
       "...                     ...   ...  ...    ...   ...      ...        ...   \n",
       "2075254 2010-11-26 20:58:00    20    4     11  2010        4   1.012160   \n",
       "2075255 2010-11-26 20:59:00    20    4     11  2010        4   1.012160   \n",
       "2075256 2010-11-26 21:00:00    21    4     11  2010        4   1.012160   \n",
       "2075257 2010-11-26 21:01:00    21    4     11  2010        4   1.012160   \n",
       "2075258 2010-11-26 21:02:00    21    4     11  2010        4   1.012160   \n",
       "\n",
       "         Peak_Hours  7_day_avg  Unmeasured_Active_Energy  \n",
       "0                 0   1.047374                 37.583333  \n",
       "1                 0   1.047374                 38.583333  \n",
       "2                 0   1.047374                 36.583333  \n",
       "3                 0   1.047374                 37.583333  \n",
       "4                 0   1.047374                 37.583333  \n",
       "...             ...        ...                       ...  \n",
       "2075254           1   0.945143                 15.766667  \n",
       "2075255           1   0.944857                 15.733333  \n",
       "2075256           1   0.944000                 15.633333  \n",
       "2075257           1   0.942286                 15.566667  \n",
       "2075258           1   0.940286                 15.533333  \n",
       "\n",
       "[2075259 rows x 17 columns]"
      ]
     },
     "execution_count": 24,
     "metadata": {},
     "output_type": "execute_result"
    }
   ],
   "source": [
    "df"
   ]
  },
  {
   "cell_type": "markdown",
   "metadata": {
    "id": "HJcql4dXnrq2"
   },
   "source": []
  },
  {
   "cell_type": "code",
   "execution_count": 14,
   "metadata": {
    "colab": {
     "base_uri": "https://localhost:8080/"
    },
    "executionInfo": {
     "elapsed": 564,
     "status": "ok",
     "timestamp": 1735630087304,
     "user": {
      "displayName": "Selva Keerthana (SK)",
      "userId": "12348877326798778598"
     },
     "user_tz": -330
    },
    "id": "gKq5of-nmw6i",
    "outputId": "e0493951-5e57-4bac-c6b0-0134acb4f780"
   },
   "outputs": [],
   "source": [
    "df['7_day_avg'].fillna(df['7_day_avg'].mean(),inplace=True)"
   ]
  },
  {
   "cell_type": "markdown",
   "metadata": {
    "id": "ofIybvvUbqw2"
   },
   "source": []
  },
  {
   "cell_type": "code",
   "execution_count": null,
   "metadata": {
    "colab": {
     "base_uri": "https://localhost:8080/"
    },
    "executionInfo": {
     "elapsed": 468,
     "status": "ok",
     "timestamp": 1735478347387,
     "user": {
      "displayName": "Selva Keerthana (SK)",
      "userId": "12348877326798778598"
     },
     "user_tz": -330
    },
    "id": "pwW9jjvhkVQz",
    "outputId": "8e1fd481-946f-49b6-91a1-b87c50fef82b"
   },
   "outputs": [
    {
     "data": {
      "text/plain": [
       "array([17., 16., 18.,  9.,  0.,  5., 19., 10., 20.,  8.,  4.,  2.,  3.,\n",
       "       11., 13.,  6., 15.,  1., 12., 14.,  7., 23., 25., 26., 28., 27.,\n",
       "       21., 22., 29., 24., 30., 31.])"
      ]
     },
     "execution_count": 20,
     "metadata": {},
     "output_type": "execute_result"
    }
   ],
   "source": [
    "df['Sub_metering_3'].unique()"
   ]
  },
  {
   "cell_type": "code",
   "execution_count": 16,
   "metadata": {
    "executionInfo": {
     "elapsed": 536,
     "status": "ok",
     "timestamp": 1735630203189,
     "user": {
      "displayName": "Selva Keerthana (SK)",
      "userId": "12348877326798778598"
     },
     "user_tz": -330
    },
    "id": "dhuHZ5-mqkv2"
   },
   "outputs": [],
   "source": [
    "import pandas as pd\n",
    "import numpy as np\n",
    "from sklearn.model_selection import train_test_split\n",
    "from sklearn.linear_model import LinearRegression\n",
    "from sklearn.ensemble import RandomForestRegressor, GradientBoostingRegressor\n",
    "from sklearn.metrics import mean_squared_error, r2_score,mean_absolute_error\n",
    "from sklearn.preprocessing import StandardScaler\n",
    "from sklearn.model_selection import GridSearchCV, RandomizedSearchCV\n",
    "\n"
   ]
  },
  {
   "cell_type": "code",
   "execution_count": 17,
   "metadata": {
    "executionInfo": {
     "elapsed": 548,
     "status": "ok",
     "timestamp": 1735630205575,
     "user": {
      "displayName": "Selva Keerthana (SK)",
      "userId": "12348877326798778598"
     },
     "user_tz": -330
    },
    "id": "eHnYZIjDqnYt"
   },
   "outputs": [],
   "source": [
    "X = df_scaled[['Global_reactive_power', 'Voltage', 'Sub_metering_1', 'Sub_metering_2',\n",
    "        'Sub_metering_3','Hour',\t'Day',\t'Month',\t'Year'\t,'Weekday'\t,'daily_avg'\t,'Peak_Hours'\t\t]]\n",
    "y = df_scaled['Global_active_power']\n",
    "\n",
    "X_train,X_test,y_train,y_test = train_test_split(X,y ,test_size = 0.3,random_state = 123)"
   ]
  },
  {
   "cell_type": "code",
   "execution_count": 18,
   "metadata": {
    "colab": {
     "base_uri": "https://localhost:8080/"
    },
    "executionInfo": {
     "elapsed": 1028,
     "status": "ok",
     "timestamp": 1735630208180,
     "user": {
      "displayName": "Selva Keerthana (SK)",
      "userId": "12348877326798778598"
     },
     "user_tz": -330
    },
    "id": "e-BDoHtissX7",
    "outputId": "558393b4-cbbc-4dc5-f15a-3e44dcc7861d"
   },
   "outputs": [
    {
     "name": "stdout",
     "output_type": "stream",
     "text": [
      "Linear Regression - RMSE: 0.4736, R2: 0.7278,MAE: 0.3237\n"
     ]
    }
   ],
   "source": [
    "lr_model = LinearRegression()\n",
    "lr_model.fit(X_train,y_train)\n",
    "\n",
    "lr_predict = lr_model.predict(X_test)\n",
    "lr_rmse = np.sqrt(mean_squared_error(y_test,lr_predict))\n",
    "lr_r2 = r2_score(y_test,lr_predict)\n",
    "lr_mae = mean_absolute_error(y_test,lr_predict)\n",
    "\n",
    "print(f\"Linear Regression - RMSE: {lr_rmse:.4f}, R2: {lr_r2:.4f},MAE: {lr_mae:.4f}\")\n",
    "\n"
   ]
  },
  {
   "cell_type": "code",
   "execution_count": null,
   "metadata": {
    "colab": {
     "base_uri": "https://localhost:8080/"
    },
    "executionInfo": {
     "elapsed": 420,
     "status": "ok",
     "timestamp": 1735626085958,
     "user": {
      "displayName": "Selva Keerthana (SK)",
      "userId": "12348877326798778598"
     },
     "user_tz": -330
    },
    "id": "iu9V6FJ1XGQl",
    "outputId": "a49c1bcc-c208-4b61-c589-7352833c4719"
   },
   "outputs": [
    {
     "name": "stdout",
     "output_type": "stream",
     "text": [
      "Selected Features: auto\n",
      "Feature Ranking: 5\n"
     ]
    }
   ],
   "source": []
  },
  {
   "cell_type": "code",
   "execution_count": 19,
   "metadata": {
    "id": "wPdFjCIHx30c"
   },
   "outputs": [
    {
     "name": "stdout",
     "output_type": "stream",
     "text": [
      "[0.04966367 0.06238833 0.12149751 0.09607412 0.49439692 0.08056944\n",
      " 0.00876758 0.04349786 0.02002694 0.00876545 0.01285445 0.00149772]\n",
      "Random Forest - RMSE: 0.2295, R2: 0.9361,MAE: 0.1075\n"
     ]
    }
   ],
   "source": [
    "rf_model = RandomForestRegressor(n_estimators=100, random_state=123)\n",
    "rf_model.fit(X_train, y_train)\n",
    "importance = rf_model.feature_importances_\n",
    "\n",
    "print(importance)\n",
    "\n",
    "\n",
    "rf_predictions = rf_model.predict(X_test)\n",
    "rf_rmse = np.sqrt(mean_squared_error(y_test, rf_predictions))\n",
    "rf_r2 = r2_score(y_test, rf_predictions)\n",
    "rf_mae = mean_absolute_error(y_test,rf_predictions)\n",
    "\n",
    "\n",
    "print(f\"Random Forest - RMSE: {rf_rmse:.4f}, R2: {rf_r2:.4f},MAE: {rf_mae:.4f}\")\n"
   ]
  },
  {
   "cell_type": "code",
   "execution_count": null,
   "metadata": {
    "colab": {
     "base_uri": "https://localhost:8080/",
     "height": 241
    },
    "executionInfo": {
     "elapsed": 444,
     "status": "ok",
     "timestamp": 1735626264046,
     "user": {
      "displayName": "Selva Keerthana (SK)",
      "userId": "12348877326798778598"
     },
     "user_tz": -330
    },
    "id": "RCAFocUmzsoE",
    "outputId": "ae0116a0-0b18-45bd-9b00-48f37f44a198"
   },
   "outputs": [
    {
     "data": {
      "text/html": [
       "<div>\n",
       "<style scoped>\n",
       "    .dataframe tbody tr th:only-of-type {\n",
       "        vertical-align: middle;\n",
       "    }\n",
       "\n",
       "    .dataframe tbody tr th {\n",
       "        vertical-align: top;\n",
       "    }\n",
       "\n",
       "    .dataframe thead th {\n",
       "        text-align: right;\n",
       "    }\n",
       "</style>\n",
       "<table border=\"1\" class=\"dataframe\">\n",
       "  <thead>\n",
       "    <tr style=\"text-align: right;\">\n",
       "      <th></th>\n",
       "      <th>0</th>\n",
       "    </tr>\n",
       "  </thead>\n",
       "  <tbody>\n",
       "    <tr>\n",
       "      <th>Sub_metering_3</th>\n",
       "      <td>0.549903</td>\n",
       "    </tr>\n",
       "    <tr>\n",
       "      <th>Sub_metering_1</th>\n",
       "      <td>0.137403</td>\n",
       "    </tr>\n",
       "    <tr>\n",
       "      <th>Voltage</th>\n",
       "      <td>0.121978</td>\n",
       "    </tr>\n",
       "    <tr>\n",
       "      <th>Sub_metering_2</th>\n",
       "      <td>0.111780</td>\n",
       "    </tr>\n",
       "    <tr>\n",
       "      <th>Global_reactive_power</th>\n",
       "      <td>0.078936</td>\n",
       "    </tr>\n",
       "  </tbody>\n",
       "</table>\n",
       "</div><br><label><b>dtype:</b> float64</label>"
      ],
      "text/plain": [
       "Sub_metering_3           0.549903\n",
       "Sub_metering_1           0.137403\n",
       "Voltage                  0.121978\n",
       "Sub_metering_2           0.111780\n",
       "Global_reactive_power    0.078936\n",
       "dtype: float64"
      ]
     },
     "execution_count": 75,
     "metadata": {},
     "output_type": "execute_result"
    }
   ],
   "source": [
    "feature_scores = pd.Series(rf_model.feature_importances_, index=X_train.columns).sort_values(ascending=False)\n",
    "\n",
    "feature_scores"
   ]
  },
  {
   "cell_type": "code",
   "execution_count": null,
   "metadata": {
    "colab": {
     "base_uri": "https://localhost:8080/"
    },
    "executionInfo": {
     "elapsed": 303030,
     "status": "ok",
     "timestamp": 1735630525650,
     "user": {
      "displayName": "Selva Keerthana (SK)",
      "userId": "12348877326798778598"
     },
     "user_tz": -330
    },
    "id": "bHLkZgrpyI5z",
    "outputId": "82f752e4-8488-4bab-fac8-31911b83dd12"
   },
   "outputs": [],
   "source": [
    "gb_model = GradientBoostingRegressor(n_estimators=100, random_state=123)\n",
    "gb_model.fit(X_train, y_train)\n",
    "\n",
    "gb_predictions = gb_model.predict(X_test)\n",
    "gb_rmse = np.sqrt(mean_squared_error(y_test, gb_predictions))\n",
    "gb_r2 = r2_score(y_test, gb_predictions)\n",
    "gb_mae = mean_absolute_error(y_test,gb_predictions)\n",
    "\n",
    "\n",
    "print(f\"Gradient Boosting - RMSE: {gb_rmse:.4f}, R2: {gb_r2:.4f},MAE: {gb_mae:.4f}\")\n"
   ]
  },
  {
   "cell_type": "markdown",
   "metadata": {},
   "source": [
    "Hyperparameter tuning"
   ]
  },
  {
   "cell_type": "code",
   "execution_count": null,
   "metadata": {},
   "outputs": [],
   "source": [
    "rf = RandomForestRegressor(random_state=123)\n",
    "gb = GradientBoostingRegressor(random_state=123)\n",
    "rf_param_grid = {\n",
    "    'n_estimators': [50, 100, 200]\n",
    "}\n",
    "\n",
    "gb_param_grid = {\n",
    "    'n_estimators': [50, 100, 200]\n",
    "}\n",
    "\n"
   ]
  },
  {
   "cell_type": "code",
   "execution_count": null,
   "metadata": {},
   "outputs": [],
   "source": [
    "rf_search = GridSearchCV(estimator=rf, param_grid=rf_param_grid, cv=3, scoring='neg_mean_squared_error', verbose=2, n_jobs=-1)\n",
    "rf_search.fit(X_train, y_train)\n",
    "\n",
    "print(\"Best Parameters for Random Forest:\", rf_search.best_params_)\n",
    "print(\"Best RMSE:\", np.sqrt(-rf_search.best_score_))\n"
   ]
  }
 ],
 "metadata": {
  "colab": {
   "provenance": []
  },
  "kernelspec": {
   "display_name": "base",
   "language": "python",
   "name": "python3"
  },
  "language_info": {
   "codemirror_mode": {
    "name": "ipython",
    "version": 3
   },
   "file_extension": ".py",
   "mimetype": "text/x-python",
   "name": "python",
   "nbconvert_exporter": "python",
   "pygments_lexer": "ipython3",
   "version": "3.11.7"
  }
 },
 "nbformat": 4,
 "nbformat_minor": 0
}
